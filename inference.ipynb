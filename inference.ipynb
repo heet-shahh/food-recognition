{
 "cells": [
  {
   "cell_type": "code",
   "execution_count": 2,
   "id": "5e89732a",
   "metadata": {},
   "outputs": [
    {
     "name": "stdout",
     "output_type": "stream",
     "text": [
      "Using device: cpu\n",
      "Loading class mapping from: class_mapping.json\n",
      "Loading model...\n",
      "Predicting image: Final_dataset/Zaatar/141.jpg\n",
      "-> Predicted Class: Zaatar\n",
      "-> Confidence: 0.9074\n"
     ]
    }
   ],
   "source": [
    "### Inference on a single image\n",
    "import os\n",
    "import json\n",
    "import torch\n",
    "import torch.nn as nn\n",
    "from torchvision.models import EfficientNet_V2_S_Weights, efficientnet_v2_s\n",
    "from PIL import Image\n",
    "\n",
    "# --- Configuration ---\n",
    "MODEL_PATH = 'models/best_model.pth'\n",
    "# IMAGE_PATH = r'dataset\\images\\test\\Hummus\\18.jpg'  # <<<--- Change this to your image file\n",
    "IMAGE_PATH = r\"Final_dataset/Zaatar/141.jpg\"\n",
    "MAPPING_JSON_PATH = 'class_mapping.json'\n",
    "NUM_CLASSES = 66\n",
    "\n",
    "# --- Device Setup ---\n",
    "DEVICE = torch.device(\"cuda\" if torch.cuda.is_available() else \"cpu\")\n",
    "print(f\"Using device: {DEVICE}\")\n",
    "\n",
    "# --- Load Class Mapping ---\n",
    "print(f\"Loading class mapping from: {MAPPING_JSON_PATH}\")\n",
    "try:\n",
    "    with open(MAPPING_JSON_PATH, 'r') as f:\n",
    "        class_to_idx = json.load(f)\n",
    "    idx_to_class = {v: k for k, v in class_to_idx.items()}\n",
    "    if len(idx_to_class) != NUM_CLASSES:\n",
    "        print(f\"Warning: Found {len(idx_to_class)} classes, expected {NUM_CLASSES}\")\n",
    "except Exception as e:\n",
    "    raise RuntimeError(f\"Failed to load class mapping: {e}\")\n",
    "\n",
    "# --- Load Model ---\n",
    "print(\"Loading model...\")\n",
    "weights = EfficientNet_V2_S_Weights.IMAGENET1K_V1\n",
    "model = efficientnet_v2_s(weights=weights)\n",
    "num_ftrs = model.classifier[1].in_features\n",
    "model.classifier[1] = nn.Sequential(\n",
    "    nn.Dropout(p=0.37, inplace=True), # Keep dropout\n",
    "    nn.Linear(num_ftrs, NUM_CLASSES),\n",
    ")\n",
    "model.load_state_dict(torch.load(MODEL_PATH, map_location=DEVICE))\n",
    "model.to(DEVICE)\n",
    "model.eval()\n",
    "\n",
    "# --- Preprocessing ---\n",
    "preprocess = weights.transforms()\n",
    "\n",
    "# --- Prediction Function ---\n",
    "def predict_image(image_path):\n",
    "    try:\n",
    "        img = Image.open(image_path).convert('RGB')\n",
    "        input_tensor = preprocess(img).unsqueeze(0).to(DEVICE)\n",
    "        with torch.no_grad():\n",
    "            output = model(input_tensor)\n",
    "            conf, idx = torch.max(torch.softmax(output, dim=1), 1)\n",
    "        return idx_to_class.get(idx.item(), \"Unknown\"), conf.item()\n",
    "    except Exception as e:\n",
    "        print(f\"Prediction error: {e}\")\n",
    "        return None, None\n",
    "\n",
    "# --- Inference ---\n",
    "if not os.path.exists(IMAGE_PATH):\n",
    "    print(f\"Image path does not exist: {IMAGE_PATH}\")\n",
    "else:\n",
    "    print(f\"Predicting image: {IMAGE_PATH}\")\n",
    "    label, confidence = predict_image(IMAGE_PATH)\n",
    "    if label:\n",
    "        print(f\"-> Predicted Class: {label}\")\n",
    "        print(f\"-> Confidence: {confidence:.4f}\")"
   ]
  }
 ],
 "metadata": {
  "kernelspec": {
   "display_name": "env",
   "language": "python",
   "name": "python3"
  },
  "language_info": {
   "codemirror_mode": {
    "name": "ipython",
    "version": 3
   },
   "file_extension": ".py",
   "mimetype": "text/x-python",
   "name": "python",
   "nbconvert_exporter": "python",
   "pygments_lexer": "ipython3",
   "version": "3.12.3"
  }
 },
 "nbformat": 4,
 "nbformat_minor": 5
}
