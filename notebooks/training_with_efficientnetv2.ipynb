{
 "cells": [
  {
   "cell_type": "code",
   "execution_count": 1,
   "id": "781cfd74",
   "metadata": {},
   "outputs": [],
   "source": [
    "import os\n",
    "import json\n",
    "import torch\n",
    "import torch.nn as nn\n",
    "import torch.optim as optim\n",
    "from torch.utils.data import DataLoader\n",
    "from torchvision import datasets, models, transforms\n",
    "from torchvision.models import efficientnet_v2_s, EfficientNet_V2_S_Weights\n",
    "from torch.amp import autocast, GradScaler # Use 'cuda' specific autocast\n",
    "from tqdm import tqdm\n",
    "import matplotlib.pyplot as plt\n",
    "import time # To measure training time"
   ]
  },
  {
   "cell_type": "code",
   "execution_count": null,
   "id": "3df651c3",
   "metadata": {},
   "outputs": [],
   "source": [
    "\n",
    "# --- Configuration ---\n",
    "DATA_DIR = 'dataset/images'  # expects subfolders train/, val/, test/\n",
    "BATCH_SIZE = 32 # Increased batch size for potentially faster training, adjust based on GPU memory\n",
    "NUM_EPOCHS = 5\n",
    "MODEL_SAVE_PATH = 'efficientnet_v2s_finetuned.pth' # Path to save the final model\n",
    "mapping_save_path = 'class_mapping.json'\n",
    "\n",
    "# --- Device Setup ---\n",
    "if torch.cuda.is_available():\n",
    "    DEVICE = torch.device(\"cuda\")\n",
    "    print(f\"Using GPU: {torch.cuda.get_device_name(0)}\")\n",
    "    # Enable cuDNN benchmark for potentially faster convolutions on fixed input sizes\n",
    "    torch.backends.cudnn.benchmark = True\n",
    "else:\n",
    "    DEVICE = torch.device(\"cpu\")\n",
    "    print(\"Using CPU\")\n",
    "\n",
    "# --- Determine Number of Classes ---\n",
    "try:\n",
    "    train_dir = os.path.join(DATA_DIR, 'train')\n",
    "    if not os.path.isdir(train_dir):\n",
    "        raise FileNotFoundError(f\"Training directory not found: {train_dir}\")\n",
    "    classes = os.listdir(train_dir)\n",
    "    # Filter out potential hidden files/dirs like .DS_Store\n",
    "    classes = [d for d in classes if os.path.isdir(os.path.join(train_dir, d))]\n",
    "    NUM_CLASSES = len(classes)\n",
    "    if NUM_CLASSES == 0:\n",
    "        raise ValueError(f\"No subdirectories found in {train_dir}. Expected class folders.\")\n",
    "    print(f\"Found {NUM_CLASSES} classes: {classes}\")\n",
    "except Exception as e:\n",
    "    print(f\"Error determining number of classes: {e}\")\n",
    "    print(\"Please ensure DATA_DIR points to a directory containing 'train', 'val', and 'test' subfolders,\")\n",
    "    print(\"and that 'train' contains one subfolder per class.\")\n",
    "    exit() # Exit if class setup fails\n",
    "# --- Preprocessing ---\n",
    "# Use the recommended weights and transforms for EfficientNet-B0\n",
    "# --- Preprocessing ---\n",
    "weights = EfficientNet_V2_S_Weights.IMAGENET1K_V1\n",
    "img_size = 384 # Standard EfficientNet-B0 input size from weights.transforms()\n",
    "\n",
    "# Define separate transforms\n",
    "train_transform = transforms.Compose([\n",
    "    transforms.RandomResizedCrop(img_size, scale=(0.8, 1.0)), # Crop differently each time\n",
    "    transforms.RandomHorizontalFlip(p=0.5),                  # Flip images horizontally sometimes\n",
    "    transforms.RandomRotation(degrees=15),                    # Rotate slightly\n",
    "    # transforms.ColorJitter(brightness=0.2, contrast=0.2, saturation=0.2, hue=0.1), # Adjust colors\n",
    "    transforms.ToTensor(),\n",
    "    # Use normalization parameters from the pre-trained weights\n",
    "    transforms.Normalize(mean=weights.transforms().mean, std=weights.transforms().std),\n",
    "    transforms.RandomErasing(p=0.2, scale=(0.02, 0.1), ratio=(0.3, 3.3), value=0) # Optional: Cutout/Random Erasing\n",
    "])\n",
    "\n",
    "# Keep validation/test transform simpler (usually matching evaluation protocol)\n",
    "val_test_transform = weights.transforms() # Use the standard transforms for val/test\n",
    "# --- Datasets and Loaders ---\n",
    "print(\"Loading datasets...\")\n",
    "try:\n",
    "    train_dataset = datasets.ImageFolder(os.path.join(DATA_DIR, 'train'), transform=train_transform)\n",
    "    val_dataset = datasets.ImageFolder(os.path.join(DATA_DIR, 'val'), transform=val_test_transform)\n",
    "    test_dataset = datasets.ImageFolder(os.path.join(DATA_DIR, 'test'), transform=val_test_transform)\n",
    "\n",
    "    # Check if datasets are empty\n",
    "    if not train_dataset or not val_dataset or not test_dataset:\n",
    "         raise ValueError(\"One or more datasets (train, val, test) are empty or could not be loaded.\")\n",
    "\n",
    "    print(f\"Train samples: {len(train_dataset)}, Val samples: {len(val_dataset)}, Test samples: {len(test_dataset)}\")\n",
    "\n",
    "    # Pin memory for faster CPU to GPU transfers if using CUDA\n",
    "    pin_memory = True if DEVICE == torch.device(\"cuda\") else False\n",
    "\n",
    "    train_loader = DataLoader(train_dataset, batch_size=BATCH_SIZE, shuffle=True, num_workers=4, pin_memory=pin_memory)\n",
    "    val_loader = DataLoader(val_dataset, batch_size=BATCH_SIZE, shuffle=False, num_workers=4, pin_memory=pin_memory)\n",
    "    test_loader = DataLoader(test_dataset, batch_size=BATCH_SIZE, shuffle=False, num_workers=4, pin_memory=pin_memory)\n",
    "    print(\"DataLoaders created.\")\n",
    "\n",
    "    # Determine number of classes and save mapping\n",
    "    num_classes = len(train_dataset.classes)\n",
    "    class_mapping = train_dataset.class_to_idx\n",
    "    print(f\"Found {num_classes} classes: {train_dataset.classes}\")\n",
    "\n",
    "    # Save class mapping\n",
    "    try:\n",
    "        with open(mapping_save_path, 'w') as f:\n",
    "            json.dump(class_mapping, f, indent=4)\n",
    "        print(f\"Class mapping saved to: {mapping_save_path}\")\n",
    "    except IOError as e:\n",
    "        print(f\"Warning: Could not save class mapping to {mapping_save_path}: {e}\")\n",
    "\n",
    "except Exception as e:\n",
    "    print(f\"Error loading data: {e}\")\n",
    "    print(\"Please ensure 'train', 'val', and 'test' subdirectories exist in DATA_DIR and contain images.\")\n",
    "    exit()"
   ]
  },
  {
   "cell_type": "code",
   "execution_count": null,
   "id": "f7a0cd3a",
   "metadata": {},
   "outputs": [],
   "source": [
    "\n",
    "# --- Model Definition ---\n",
    "print(\"Loading EfficientNet-B0 model...\")\n",
    "model = efficientnet_v2_s(weights=weights)\n",
    "\n",
    "# Replace the final fully connected layer (classifier)\n",
    "num_ftrs = model.classifier[1].in_features\n",
    "model.classifier[1] = nn.Sequential(\n",
    "    nn.Dropout(p=0.37, inplace=True), # Keep dropout\n",
    "    nn.Linear(num_ftrs, NUM_CLASSES),\n",
    ")\n",
    "model.to(DEVICE)\n",
    "print(f\"Model classifier modified for {NUM_CLASSES} classes.\")\n",
    "from torch.optim.lr_scheduler import ReduceLROnPlateau\n",
    "# --- Loss and Optimizer ---\n",
    "criterion = nn.CrossEntropyLoss()\n",
    "# Use AdamW which often works better with transformers and modern architectures\n",
    "optimizer = optim.AdamW(model.parameters(), lr=1e-4, weight_decay=6e-2)\n",
    "# Optional: Learning Rate Scheduler (e.g., reduce on plateau)\n",
    "scheduler = ReduceLROnPlateau(optimizer, mode='max', factor=0.1, patience=2, verbose=True)\n",
    "# Factor: Multiplies LR by this (0.1 = reduce to 10%)\n",
    "# Patience: Number of epochs with no improvement after which LR is reduced.\n",
    "\n",
    "# --- Mixed Precision Setup ---\n",
    "# Only use GradScaler if on CUDA\n",
    "scaler = GradScaler(\"cuda\")\n",
    "print(f\"Mixed precision enabled: {scaler.is_enabled()}\")"
   ]
  },
  {
   "cell_type": "code",
   "execution_count": 2,
   "id": "f4a885cf",
   "metadata": {},
   "outputs": [
    {
     "name": "stdout",
     "output_type": "stream",
     "text": [
      "\n",
      "--- Starting Training ---\n"
     ]
    },
    {
     "name": "stderr",
     "output_type": "stream",
     "text": [
      "                                                                                               \r"
     ]
    },
    {
     "name": "stdout",
     "output_type": "stream",
     "text": [
      "[Epoch 1] Train Loss: 2.1896, Accuracy: 0.5636\n"
     ]
    },
    {
     "name": "stderr",
     "output_type": "stream",
     "text": [
      "                                                                                 \r"
     ]
    },
    {
     "name": "stdout",
     "output_type": "stream",
     "text": [
      "[Epoch 1] Validation Accuracy: 0.8423\n",
      "Validation accuracy improved from 0.0000 to 0.8423. Saving best model...\n"
     ]
    },
    {
     "name": "stderr",
     "output_type": "stream",
     "text": [
      "                                                                                               \r"
     ]
    },
    {
     "name": "stdout",
     "output_type": "stream",
     "text": [
      "[Epoch 2] Train Loss: 0.6165, Accuracy: 0.8556\n"
     ]
    },
    {
     "name": "stderr",
     "output_type": "stream",
     "text": [
      "                                                                                 \r"
     ]
    },
    {
     "name": "stdout",
     "output_type": "stream",
     "text": [
      "[Epoch 2] Validation Accuracy: 0.8893\n",
      "Validation accuracy improved from 0.8423 to 0.8893. Saving best model...\n"
     ]
    },
    {
     "name": "stderr",
     "output_type": "stream",
     "text": [
      "                                                                                                \r"
     ]
    },
    {
     "name": "stdout",
     "output_type": "stream",
     "text": [
      "[Epoch 3] Train Loss: 0.3389, Accuracy: 0.9133\n"
     ]
    },
    {
     "name": "stderr",
     "output_type": "stream",
     "text": [
      "                                                                                 \r"
     ]
    },
    {
     "name": "stdout",
     "output_type": "stream",
     "text": [
      "[Epoch 3] Validation Accuracy: 0.9030\n",
      "Validation accuracy improved from 0.8893 to 0.9030. Saving best model...\n"
     ]
    },
    {
     "name": "stderr",
     "output_type": "stream",
     "text": [
      "                                                                                                \r"
     ]
    },
    {
     "name": "stdout",
     "output_type": "stream",
     "text": [
      "[Epoch 4] Train Loss: 0.2165, Accuracy: 0.9441\n"
     ]
    },
    {
     "name": "stderr",
     "output_type": "stream",
     "text": [
      "                                                                                 \r"
     ]
    },
    {
     "name": "stdout",
     "output_type": "stream",
     "text": [
      "[Epoch 4] Validation Accuracy: 0.9089\n",
      "Validation accuracy improved from 0.9030 to 0.9089. Saving best model...\n"
     ]
    },
    {
     "name": "stderr",
     "output_type": "stream",
     "text": [
      "                                                                                                \r"
     ]
    },
    {
     "name": "stdout",
     "output_type": "stream",
     "text": [
      "[Epoch 5] Train Loss: 0.1613, Accuracy: 0.9533\n"
     ]
    },
    {
     "name": "stderr",
     "output_type": "stream",
     "text": [
      "                                                                                 \r"
     ]
    },
    {
     "name": "stdout",
     "output_type": "stream",
     "text": [
      "[Epoch 5] Validation Accuracy: 0.8981\n",
      "\n",
      "--- Training Finished ---\n",
      "Total Training Time: 9.26 minutes\n",
      "\n",
      "--- Plotting Metrics ---\n",
      "Metrics plot saved as training_validation_metrics.png\n"
     ]
    },
    {
     "data": {
      "image/png": "[encoded data removed]",
      "text/plain": [
       "<Figure size 1200x500 with 2 Axes>"
      ]
     },
     "metadata": {},
     "output_type": "display_data"
    },
    {
     "name": "stdout",
     "output_type": "stream",
     "text": [
      "\n",
      "--- Evaluating on Test Set ---\n",
      "Loading best model weights for final testing...\n"
     ]
    },
    {
     "name": "stderr",
     "output_type": "stream",
     "text": [
      "C:\\Users\\LENOVO\\AppData\\Local\\Temp\\ipykernel_25296\\2738317448.py:148: FutureWarning: You are using `torch.load` with `weights_only=False` (the current default value), which uses the default pickle module implicitly. It is possible to construct malicious pickle data which will execute arbitrary code during unpickling (See https://github.com/pytorch/pytorch/blob/main/SECURITY.md#untrusted-models for more details). In a future release, the default value for `weights_only` will be flipped to `True`. This limits the functions that could be executed during unpickling. Arbitrary objects will no longer be allowed to be loaded via this mode unless they are explicitly allowlisted by the user via `torch.serialization.add_safe_globals`. We recommend you start setting `weights_only=True` for any use case where you don't have full control of the loaded file. Please open an issue on GitHub for any issues related to this experimental feature.\n",
      "  model.load_state_dict(torch.load('best_model.pth', map_location=DEVICE))\n",
      "                                                                                           "
     ]
    },
    {
     "name": "stdout",
     "output_type": "stream",
     "text": [
      "[Epoch Final] Testing (Best Model) Accuracy: 0.9099\n",
      "\n",
      "Final Test Accuracy (Best Model): 0.9099\n"
     ]
    },
    {
     "name": "stderr",
     "output_type": "stream",
     "text": [
      "\r"
     ]
    }
   ],
   "source": [
    "# Lists to store metrics for plotting\n",
    "train_losses, val_accuracies, train_accuracies = [], [], []\n",
    "\n",
    "# --- Training Function ---\n",
    "def train_one_epoch(epoch_num):\n",
    "    model.train() # Set model to training mode\n",
    "    running_loss = 0.0\n",
    "    correct_predictions = 0\n",
    "    total_samples = 0\n",
    "\n",
    "    progress_bar = tqdm(train_loader, desc=f\"Epoch {epoch_num}/{NUM_EPOCHS} [Training]\", leave=False)\n",
    "\n",
    "    for inputs, labels in progress_bar:\n",
    "        inputs, labels = inputs.to(DEVICE), labels.to(DEVICE)\n",
    "\n",
    "        optimizer.zero_grad()\n",
    "\n",
    "        # Use autocast only if on CUDA\n",
    "        with autocast('cuda'):\n",
    "            outputs = model(inputs)\n",
    "            loss = criterion(outputs, labels)\n",
    "\n",
    "        # Scales loss. Calls backward() on scaled loss to create scaled gradients.\n",
    "        scaler.scale(loss).backward()\n",
    "\n",
    "        # scaler.step() first unscales the gradients of the optimizer's assigned params.\n",
    "        # If these gradients do not contain infs or NaNs, optimizer.step() is then called.\n",
    "        # Otherwise, optimizer.step() is skipped.\n",
    "        scaler.step(optimizer)\n",
    "\n",
    "        # Updates the scale for next iteration.\n",
    "        scaler.update()\n",
    "\n",
    "        running_loss += loss.item() * inputs.size(0) # Accumulate loss correctly\n",
    "        _, predicted = torch.max(outputs.data, 1)\n",
    "        total_samples += labels.size(0)\n",
    "        correct_predictions += (predicted == labels).sum().item()\n",
    "\n",
    "        # Update progress bar postfix\n",
    "        batch_acc = (predicted == labels).sum().item() / labels.size(0)\n",
    "        progress_bar.set_postfix(loss=loss.item(), acc=f\"{batch_acc:.4f}\")\n",
    "\n",
    "    epoch_loss = running_loss / total_samples\n",
    "    epoch_acc = correct_predictions / total_samples\n",
    "    print(f\"[Epoch {epoch_num}] Train Loss: {epoch_loss:.4f}, Accuracy: {epoch_acc:.4f}\")\n",
    "    return epoch_loss, epoch_acc\n",
    "\n",
    "# --- Validation Function ---\n",
    "@torch.no_grad() # No need to track gradients during evaluation\n",
    "def evaluate(data_loader, epoch_num=None, phase=\"Validation\"):\n",
    "    model.eval() # Set model to evaluation mode\n",
    "    correct_predictions = 0\n",
    "    total_samples = 0\n",
    "\n",
    "    desc = f\"Epoch {epoch_num if epoch_num else '?'} [{phase}]\"\n",
    "    progress_bar = tqdm(data_loader, desc=desc, leave=False)\n",
    "\n",
    "    for inputs, labels in progress_bar:\n",
    "        inputs, labels = inputs.to(DEVICE), labels.to(DEVICE)\n",
    "\n",
    "        # Use autocast for potential speedup even during inference on CUDA\n",
    "        with autocast(\"cuda\"):\n",
    "            outputs = model(inputs)\n",
    "\n",
    "        _, predicted = torch.max(outputs.data, 1)\n",
    "        total_samples += labels.size(0)\n",
    "        correct_predictions += (predicted == labels).sum().item()\n",
    "        batch_acc = (predicted == labels).sum().item() / labels.size(0)\n",
    "        progress_bar.set_postfix(acc=f\"{batch_acc:.4f}\")\n",
    "\n",
    "\n",
    "    accuracy = correct_predictions / total_samples\n",
    "    print(f\"[Epoch {epoch_num if epoch_num else 'Final'}] {phase} Accuracy: {accuracy:.4f}\")\n",
    "    return accuracy\n",
    "\n",
    "# --- Plotting Function ---\n",
    "def plot_metrics():\n",
    "    epochs_range = range(1, len(train_losses) + 1)\n",
    "    plt.figure(figsize=(12, 5))\n",
    "\n",
    "    # Plot Training Loss\n",
    "    plt.subplot(1, 2, 1)\n",
    "    plt.plot(epochs_range, train_losses, label='Train Loss', marker='o', linestyle='-', color='r')\n",
    "    plt.xlabel('Epoch')\n",
    "    plt.ylabel('Loss')\n",
    "    plt.title('Training Loss over Epochs')\n",
    "    plt.legend()\n",
    "    plt.grid(True)\n",
    "\n",
    "    # Plot Training and Validation Accuracy\n",
    "    plt.subplot(1, 2, 2)\n",
    "    plt.plot(epochs_range, train_accuracies, label='Train Accuracy', marker='o', linestyle='-', color='b')\n",
    "    plt.plot(epochs_range, val_accuracies, label='Validation Accuracy', marker='s', linestyle='--', color='g')\n",
    "    plt.xlabel('Epoch')\n",
    "    plt.ylabel('Accuracy')\n",
    "    plt.title('Training & Validation Accuracy over Epochs')\n",
    "    plt.legend()\n",
    "    plt.grid(True)\n",
    "\n",
    "    plt.tight_layout() # Adjust layout to prevent overlapping titles/labels\n",
    "    plt.savefig(\"training_validation_metrics.png\") # Save the plot\n",
    "    print(\"Metrics plot saved as training_validation_metrics.png\")\n",
    "    plt.show() # Display the plot\n",
    "\n",
    "# --- Main Execution ---\n",
    "print(\"\\n--- Starting Training ---\")\n",
    "start_time = time.time()\n",
    "\n",
    "best_val_acc = 0.0 # Keep track of best validation accuracy for potential early stopping or saving best model\n",
    "\n",
    "for epoch in range(1, NUM_EPOCHS + 1):\n",
    "    # Train for one epoch\n",
    "    train_loss, train_acc = train_one_epoch(epoch)\n",
    "    train_losses.append(train_loss)\n",
    "    train_accuracies.append(train_acc)\n",
    "\n",
    "    # Evaluate on validation set\n",
    "    val_acc = evaluate(val_loader, epoch_num=epoch, phase=\"Validation\")\n",
    "    val_accuracies.append(val_acc)\n",
    "\n",
    "    # Optional: Implement learning rate scheduling based on validation loss/accuracy\n",
    "    if scheduler: \n",
    "        scheduler.step(val_acc) # Or val_acc if using ReduceLROnPlateau with mode='max'\n",
    "\n",
    "    # Optional: Save the model checkpoint if it has the best validation accuracy so far\n",
    "    if val_acc > best_val_acc:\n",
    "        print(f\"Validation accuracy improved from {best_val_acc:.4f} to {val_acc:.4f}. Saving best model...\")\n",
    "        best_val_acc = val_acc\n",
    "        torch.save(model.state_dict(), 'best_model.pth')\n",
    "\n",
    "\n",
    "end_time = time.time()\n",
    "print(f\"\\n--- Training Finished ---\")\n",
    "print(f\"Total Training Time: {(end_time - start_time) / 60:.2f} minutes\")\n",
    "\n",
    "# --- Plot Training and Validation Metrics ---\n",
    "print(\"\\n--- Plotting Metrics ---\")\n",
    "plot_metrics()\n",
    "\n",
    "# --- Testing the Model ---\n",
    "print(\"\\n--- Evaluating on Test Set ---\")\n",
    "# Option 1: Evaluate the final model after all epochs\n",
    "# test_accuracy = evaluate(test_loader, phase=\"Testing\")\n",
    "\n",
    "# Option 2: Load the best model (based on validation accuracy) and test that\n",
    "print(\"Loading best model weights for final testing...\")\n",
    "try:\n",
    "    model.load_state_dict(torch.load('best_model.pth', map_location=DEVICE))\n",
    "    test_accuracy = evaluate(test_loader, phase=\"Testing (Best Model)\")\n",
    "    print(f\"\\nFinal Test Accuracy (Best Model): {test_accuracy:.4f}\")\n",
    "except FileNotFoundError:\n",
    "    print(\"Warning: 'best_model.pth' not found. Testing the model from the final epoch.\")\n",
    "    test_accuracy = evaluate(test_loader, phase=\"Testing (Final Epoch Model)\")\n",
    "    print(f\"\\nFinal Test Accuracy (Final Epoch Model): {test_accuracy:.4f}\")"
   ]
  },
  {
   "cell_type": "markdown",
   "id": "783d45dc",
   "metadata": {},
   "source": [
    "### EfficientNetB4 training"
   ]
  },
  {
   "cell_type": "code",
   "execution_count": 8,
   "id": "eb903f8a",
   "metadata": {},
   "outputs": [
    {
     "name": "stdout",
     "output_type": "stream",
     "text": [
      "Using GPU: NVIDIA GeForce RTX 4060 Laptop GPU\n",
      "Found 67 classes: ['Apple', 'Artichoke', 'Balaleet', 'Bamya', 'Banana', 'Basbousa', 'Bell pepper', 'bread', 'Broccoli', 'Burger', 'Carrot', 'Crab', 'Cucumber', 'Dajaj_Mahshi', 'Dates_with_tahini', 'Fattoush', 'Fries', 'Gers_Ogaily', 'Grape', 'Harees', 'Hot Dog', 'Hummus', 'Jireesh', 'Kebab', 'khabeesa', 'Kubba', 'laban_drink', 'Labneh', 'Lentil_soup', 'Lentil_stew', 'Lobster', 'Luqaimat', 'Majboos_Dajaj', 'Mallooba(Maqluba)', 'Modas_rice', 'Molokhia', 'Muhammara', 'Murabyan', 'Musakhan_Chicken', 'om_ali', 'Orange (fruit)', 'Oyster', 'Peach', 'Pear', 'Pineapple', 'Pizza', 'Plain_white_rice', 'Pomegranate', 'Potato', 'Pumpkin', 'Radish', 'Red_tea_with_mint_or_saffron', 'rice_with_meat', 'Saffron', 'Samosa', 'Sandwich', 'Shrimp', 'Strawberry', 'Tabouleh', 'Taco', 'Tahini', 'Tamarind_juice', 'Tamria(Tamriyeh)', 'Tea_with_milk', 'Warak_Enab', 'Watermelon', 'Zaatar']\n",
      "Loading datasets...\n",
      "Train samples: 7981, Val samples: 1052, Test samples: 1364\n",
      "DataLoaders created.\n",
      "Loading EfficientNet-B4 model...\n"
     ]
    },
    {
     "data": {
      "text/plain": [
       "EfficientNet(\n",
       "  (features): Sequential(\n",
       "    (0): Conv2dNormActivation(\n",
       "      (0): Conv2d(3, 48, kernel_size=(3, 3), stride=(2, 2), padding=(1, 1), bias=False)\n",
       "      (1): BatchNorm2d(48, eps=1e-05, momentum=0.1, affine=True, track_running_stats=True)\n",
       "      (2): SiLU(inplace=True)\n",
       "    )\n",
       "    (1): Sequential(\n",
       "      (0): MBConv(\n",
       "        (block): Sequential(\n",
       "          (0): Conv2dNormActivation(\n",
       "            (0): Conv2d(48, 48, kernel_size=(3, 3), stride=(1, 1), padding=(1, 1), groups=48, bias=False)\n",
       "            (1): BatchNorm2d(48, eps=1e-05, momentum=0.1, affine=True, track_running_stats=True)\n",
       "            (2): SiLU(inplace=True)\n",
       "          )\n",
       "          (1): SqueezeExcitation(\n",
       "            (avgpool): AdaptiveAvgPool2d(output_size=1)\n",
       "            (fc1): Conv2d(48, 12, kernel_size=(1, 1), stride=(1, 1))\n",
       "            (fc2): Conv2d(12, 48, kernel_size=(1, 1), stride=(1, 1))\n",
       "            (activation): SiLU(inplace=True)\n",
       "            (scale_activation): Sigmoid()\n",
       "          )\n",
       "          (2): Conv2dNormActivation(\n",
       "            (0): Conv2d(48, 24, kernel_size=(1, 1), stride=(1, 1), bias=False)\n",
       "            (1): BatchNorm2d(24, eps=1e-05, momentum=0.1, affine=True, track_running_stats=True)\n",
       "          )\n",
       "        )\n",
       "        (stochastic_depth): StochasticDepth(p=0.0, mode=row)\n",
       "      )\n",
       "      (1): MBConv(\n",
       "        (block): Sequential(\n",
       "          (0): Conv2dNormActivation(\n",
       "            (0): Conv2d(24, 24, kernel_size=(3, 3), stride=(1, 1), padding=(1, 1), groups=24, bias=False)\n",
       "            (1): BatchNorm2d(24, eps=1e-05, momentum=0.1, affine=True, track_running_stats=True)\n",
       "            (2): SiLU(inplace=True)\n",
       "          )\n",
       "          (1): SqueezeExcitation(\n",
       "            (avgpool): AdaptiveAvgPool2d(output_size=1)\n",
       "            (fc1): Conv2d(24, 6, kernel_size=(1, 1), stride=(1, 1))\n",
       "            (fc2): Conv2d(6, 24, kernel_size=(1, 1), stride=(1, 1))\n",
       "            (activation): SiLU(inplace=True)\n",
       "            (scale_activation): Sigmoid()\n",
       "          )\n",
       "          (2): Conv2dNormActivation(\n",
       "            (0): Conv2d(24, 24, kernel_size=(1, 1), stride=(1, 1), bias=False)\n",
       "            (1): BatchNorm2d(24, eps=1e-05, momentum=0.1, affine=True, track_running_stats=True)\n",
       "          )\n",
       "        )\n",
       "        (stochastic_depth): StochasticDepth(p=0.00625, mode=row)\n",
       "      )\n",
       "    )\n",
       "    (2): Sequential(\n",
       "      (0): MBConv(\n",
       "        (block): Sequential(\n",
       "          (0): Conv2dNormActivation(\n",
       "            (0): Conv2d(24, 144, kernel_size=(1, 1), stride=(1, 1), bias=False)\n",
       "            (1): BatchNorm2d(144, eps=1e-05, momentum=0.1, affine=True, track_running_stats=True)\n",
       "            (2): SiLU(inplace=True)\n",
       "          )\n",
       "          (1): Conv2dNormActivation(\n",
       "            (0): Conv2d(144, 144, kernel_size=(3, 3), stride=(2, 2), padding=(1, 1), groups=144, bias=False)\n",
       "            (1): BatchNorm2d(144, eps=1e-05, momentum=0.1, affine=True, track_running_stats=True)\n",
       "            (2): SiLU(inplace=True)\n",
       "          )\n",
       "          (2): SqueezeExcitation(\n",
       "            (avgpool): AdaptiveAvgPool2d(output_size=1)\n",
       "            (fc1): Conv2d(144, 6, kernel_size=(1, 1), stride=(1, 1))\n",
       "            (fc2): Conv2d(6, 144, kernel_size=(1, 1), stride=(1, 1))\n",
       "            (activation): SiLU(inplace=True)\n",
       "            (scale_activation): Sigmoid()\n",
       "          )\n",
       "          (3): Conv2dNormActivation(\n",
       "            (0): Conv2d(144, 32, kernel_size=(1, 1), stride=(1, 1), bias=False)\n",
       "            (1): BatchNorm2d(32, eps=1e-05, momentum=0.1, affine=True, track_running_stats=True)\n",
       "          )\n",
       "        )\n",
       "        (stochastic_depth): StochasticDepth(p=0.0125, mode=row)\n",
       "      )\n",
       "      (1): MBConv(\n",
       "        (block): Sequential(\n",
       "          (0): Conv2dNormActivation(\n",
       "            (0): Conv2d(32, 192, kernel_size=(1, 1), stride=(1, 1), bias=False)\n",
       "            (1): BatchNorm2d(192, eps=1e-05, momentum=0.1, affine=True, track_running_stats=True)\n",
       "            (2): SiLU(inplace=True)\n",
       "          )\n",
       "          (1): Conv2dNormActivation(\n",
       "            (0): Conv2d(192, 192, kernel_size=(3, 3), stride=(1, 1), padding=(1, 1), groups=192, bias=False)\n",
       "            (1): BatchNorm2d(192, eps=1e-05, momentum=0.1, affine=True, track_running_stats=True)\n",
       "            (2): SiLU(inplace=True)\n",
       "          )\n",
       "          (2): SqueezeExcitation(\n",
       "            (avgpool): AdaptiveAvgPool2d(output_size=1)\n",
       "            (fc1): Conv2d(192, 8, kernel_size=(1, 1), stride=(1, 1))\n",
       "            (fc2): Conv2d(8, 192, kernel_size=(1, 1), stride=(1, 1))\n",
       "            (activation): SiLU(inplace=True)\n",
       "            (scale_activation): Sigmoid()\n",
       "          )\n",
       "          (3): Conv2dNormActivation(\n",
       "            (0): Conv2d(192, 32, kernel_size=(1, 1), stride=(1, 1), bias=False)\n",
       "            (1): BatchNorm2d(32, eps=1e-05, momentum=0.1, affine=True, track_running_stats=True)\n",
       "          )\n",
       "        )\n",
       "        (stochastic_depth): StochasticDepth(p=0.018750000000000003, mode=row)\n",
       "      )\n",
       "      (2): MBConv(\n",
       "        (block): Sequential(\n",
       "          (0): Conv2dNormActivation(\n",
       "            (0): Conv2d(32, 192, kernel_size=(1, 1), stride=(1, 1), bias=False)\n",
       "            (1): BatchNorm2d(192, eps=1e-05, momentum=0.1, affine=True, track_running_stats=True)\n",
       "            (2): SiLU(inplace=True)\n",
       "          )\n",
       "          (1): Conv2dNormActivation(\n",
       "            (0): Conv2d(192, 192, kernel_size=(3, 3), stride=(1, 1), padding=(1, 1), groups=192, bias=False)\n",
       "            (1): BatchNorm2d(192, eps=1e-05, momentum=0.1, affine=True, track_running_stats=True)\n",
       "            (2): SiLU(inplace=True)\n",
       "          )\n",
       "          (2): SqueezeExcitation(\n",
       "            (avgpool): AdaptiveAvgPool2d(output_size=1)\n",
       "            (fc1): Conv2d(192, 8, kernel_size=(1, 1), stride=(1, 1))\n",
       "            (fc2): Conv2d(8, 192, kernel_size=(1, 1), stride=(1, 1))\n",
       "            (activation): SiLU(inplace=True)\n",
       "            (scale_activation): Sigmoid()\n",
       "          )\n",
       "          (3): Conv2dNormActivation(\n",
       "            (0): Conv2d(192, 32, kernel_size=(1, 1), stride=(1, 1), bias=False)\n",
       "            (1): BatchNorm2d(32, eps=1e-05, momentum=0.1, affine=True, track_running_stats=True)\n",
       "          )\n",
       "        )\n",
       "        (stochastic_depth): StochasticDepth(p=0.025, mode=row)\n",
       "      )\n",
       "      (3): MBConv(\n",
       "        (block): Sequential(\n",
       "          (0): Conv2dNormActivation(\n",
       "            (0): Conv2d(32, 192, kernel_size=(1, 1), stride=(1, 1), bias=False)\n",
       "            (1): BatchNorm2d(192, eps=1e-05, momentum=0.1, affine=True, track_running_stats=True)\n",
       "            (2): SiLU(inplace=True)\n",
       "          )\n",
       "          (1): Conv2dNormActivation(\n",
       "            (0): Conv2d(192, 192, kernel_size=(3, 3), stride=(1, 1), padding=(1, 1), groups=192, bias=False)\n",
       "            (1): BatchNorm2d(192, eps=1e-05, momentum=0.1, affine=True, track_running_stats=True)\n",
       "            (2): SiLU(inplace=True)\n",
       "          )\n",
       "          (2): SqueezeExcitation(\n",
       "            (avgpool): AdaptiveAvgPool2d(output_size=1)\n",
       "            (fc1): Conv2d(192, 8, kernel_size=(1, 1), stride=(1, 1))\n",
       "            (fc2): Conv2d(8, 192, kernel_size=(1, 1), stride=(1, 1))\n",
       "            (activation): SiLU(inplace=True)\n",
       "            (scale_activation): Sigmoid()\n",
       "          )\n",
       "          (3): Conv2dNormActivation(\n",
       "            (0): Conv2d(192, 32, kernel_size=(1, 1), stride=(1, 1), bias=False)\n",
       "            (1): BatchNorm2d(32, eps=1e-05, momentum=0.1, affine=True, track_running_stats=True)\n",
       "          )\n",
       "        )\n",
       "        (stochastic_depth): StochasticDepth(p=0.03125, mode=row)\n",
       "      )\n",
       "    )\n",
       "    (3): Sequential(\n",
       "      (0): MBConv(\n",
       "        (block): Sequential(\n",
       "          (0): Conv2dNormActivation(\n",
       "            (0): Conv2d(32, 192, kernel_size=(1, 1), stride=(1, 1), bias=False)\n",
       "            (1): BatchNorm2d(192, eps=1e-05, momentum=0.1, affine=True, track_running_stats=True)\n",
       "            (2): SiLU(inplace=True)\n",
       "          )\n",
       "          (1): Conv2dNormActivation(\n",
       "            (0): Conv2d(192, 192, kernel_size=(5, 5), stride=(2, 2), padding=(2, 2), groups=192, bias=False)\n",
       "            (1): BatchNorm2d(192, eps=1e-05, momentum=0.1, affine=True, track_running_stats=True)\n",
       "            (2): SiLU(inplace=True)\n",
       "          )\n",
       "          (2): SqueezeExcitation(\n",
       "            (avgpool): AdaptiveAvgPool2d(output_size=1)\n",
       "            (fc1): Conv2d(192, 8, kernel_size=(1, 1), stride=(1, 1))\n",
       "            (fc2): Conv2d(8, 192, kernel_size=(1, 1), stride=(1, 1))\n",
       "            (activation): SiLU(inplace=True)\n",
       "            (scale_activation): Sigmoid()\n",
       "          )\n",
       "          (3): Conv2dNormActivation(\n",
       "            (0): Conv2d(192, 56, kernel_size=(1, 1), stride=(1, 1), bias=False)\n",
       "            (1): BatchNorm2d(56, eps=1e-05, momentum=0.1, affine=True, track_running_stats=True)\n",
       "          )\n",
       "        )\n",
       "        (stochastic_depth): StochasticDepth(p=0.037500000000000006, mode=row)\n",
       "      )\n",
       "      (1): MBConv(\n",
       "        (block): Sequential(\n",
       "          (0): Conv2dNormActivation(\n",
       "            (0): Conv2d(56, 336, kernel_size=(1, 1), stride=(1, 1), bias=False)\n",
       "            (1): BatchNorm2d(336, eps=1e-05, momentum=0.1, affine=True, track_running_stats=True)\n",
       "            (2): SiLU(inplace=True)\n",
       "          )\n",
       "          (1): Conv2dNormActivation(\n",
       "            (0): Conv2d(336, 336, kernel_size=(5, 5), stride=(1, 1), padding=(2, 2), groups=336, bias=False)\n",
       "            (1): BatchNorm2d(336, eps=1e-05, momentum=0.1, affine=True, track_running_stats=True)\n",
       "            (2): SiLU(inplace=True)\n",
       "          )\n",
       "          (2): SqueezeExcitation(\n",
       "            (avgpool): AdaptiveAvgPool2d(output_size=1)\n",
       "            (fc1): Conv2d(336, 14, kernel_size=(1, 1), stride=(1, 1))\n",
       "            (fc2): Conv2d(14, 336, kernel_size=(1, 1), stride=(1, 1))\n",
       "            (activation): SiLU(inplace=True)\n",
       "            (scale_activation): Sigmoid()\n",
       "          )\n",
       "          (3): Conv2dNormActivation(\n",
       "            (0): Conv2d(336, 56, kernel_size=(1, 1), stride=(1, 1), bias=False)\n",
       "            (1): BatchNorm2d(56, eps=1e-05, momentum=0.1, affine=True, track_running_stats=True)\n",
       "          )\n",
       "        )\n",
       "        (stochastic_depth): StochasticDepth(p=0.043750000000000004, mode=row)\n",
       "      )\n",
       "      (2): MBConv(\n",
       "        (block): Sequential(\n",
       "          (0): Conv2dNormActivation(\n",
       "            (0): Conv2d(56, 336, kernel_size=(1, 1), stride=(1, 1), bias=False)\n",
       "            (1): BatchNorm2d(336, eps=1e-05, momentum=0.1, affine=True, track_running_stats=True)\n",
       "            (2): SiLU(inplace=True)\n",
       "          )\n",
       "          (1): Conv2dNormActivation(\n",
       "            (0): Conv2d(336, 336, kernel_size=(5, 5), stride=(1, 1), padding=(2, 2), groups=336, bias=False)\n",
       "            (1): BatchNorm2d(336, eps=1e-05, momentum=0.1, affine=True, track_running_stats=True)\n",
       "            (2): SiLU(inplace=True)\n",
       "          )\n",
       "          (2): SqueezeExcitation(\n",
       "            (avgpool): AdaptiveAvgPool2d(output_size=1)\n",
       "            (fc1): Conv2d(336, 14, kernel_size=(1, 1), stride=(1, 1))\n",
       "            (fc2): Conv2d(14, 336, kernel_size=(1, 1), stride=(1, 1))\n",
       "            (activation): SiLU(inplace=True)\n",
       "            (scale_activation): Sigmoid()\n",
       "          )\n",
       "          (3): Conv2dNormActivation(\n",
       "            (0): Conv2d(336, 56, kernel_size=(1, 1), stride=(1, 1), bias=False)\n",
       "            (1): BatchNorm2d(56, eps=1e-05, momentum=0.1, affine=True, track_running_stats=True)\n",
       "          )\n",
       "        )\n",
       "        (stochastic_depth): StochasticDepth(p=0.05, mode=row)\n",
       "      )\n",
       "      (3): MBConv(\n",
       "        (block): Sequential(\n",
       "          (0): Conv2dNormActivation(\n",
       "            (0): Conv2d(56, 336, kernel_size=(1, 1), stride=(1, 1), bias=False)\n",
       "            (1): BatchNorm2d(336, eps=1e-05, momentum=0.1, affine=True, track_running_stats=True)\n",
       "            (2): SiLU(inplace=True)\n",
       "          )\n",
       "          (1): Conv2dNormActivation(\n",
       "            (0): Conv2d(336, 336, kernel_size=(5, 5), stride=(1, 1), padding=(2, 2), groups=336, bias=False)\n",
       "            (1): BatchNorm2d(336, eps=1e-05, momentum=0.1, affine=True, track_running_stats=True)\n",
       "            (2): SiLU(inplace=True)\n",
       "          )\n",
       "          (2): SqueezeExcitation(\n",
       "            (avgpool): AdaptiveAvgPool2d(output_size=1)\n",
       "            (fc1): Conv2d(336, 14, kernel_size=(1, 1), stride=(1, 1))\n",
       "            (fc2): Conv2d(14, 336, kernel_size=(1, 1), stride=(1, 1))\n",
       "            (activation): SiLU(inplace=True)\n",
       "            (scale_activation): Sigmoid()\n",
       "          )\n",
       "          (3): Conv2dNormActivation(\n",
       "            (0): Conv2d(336, 56, kernel_size=(1, 1), stride=(1, 1), bias=False)\n",
       "            (1): BatchNorm2d(56, eps=1e-05, momentum=0.1, affine=True, track_running_stats=True)\n",
       "          )\n",
       "        )\n",
       "        (stochastic_depth): StochasticDepth(p=0.05625, mode=row)\n",
       "      )\n",
       "    )\n",
       "    (4): Sequential(\n",
       "      (0): MBConv(\n",
       "        (block): Sequential(\n",
       "          (0): Conv2dNormActivation(\n",
       "            (0): Conv2d(56, 336, kernel_size=(1, 1), stride=(1, 1), bias=False)\n",
       "            (1): BatchNorm2d(336, eps=1e-05, momentum=0.1, affine=True, track_running_stats=True)\n",
       "            (2): SiLU(inplace=True)\n",
       "          )\n",
       "          (1): Conv2dNormActivation(\n",
       "            (0): Conv2d(336, 336, kernel_size=(3, 3), stride=(2, 2), padding=(1, 1), groups=336, bias=False)\n",
       "            (1): BatchNorm2d(336, eps=1e-05, momentum=0.1, affine=True, track_running_stats=True)\n",
       "            (2): SiLU(inplace=True)\n",
       "          )\n",
       "          (2): SqueezeExcitation(\n",
       "            (avgpool): AdaptiveAvgPool2d(output_size=1)\n",
       "            (fc1): Conv2d(336, 14, kernel_size=(1, 1), stride=(1, 1))\n",
       "            (fc2): Conv2d(14, 336, kernel_size=(1, 1), stride=(1, 1))\n",
       "            (activation): SiLU(inplace=True)\n",
       "            (scale_activation): Sigmoid()\n",
       "          )\n",
       "          (3): Conv2dNormActivation(\n",
       "            (0): Conv2d(336, 112, kernel_size=(1, 1), stride=(1, 1), bias=False)\n",
       "            (1): BatchNorm2d(112, eps=1e-05, momentum=0.1, affine=True, track_running_stats=True)\n",
       "          )\n",
       "        )\n",
       "        (stochastic_depth): StochasticDepth(p=0.0625, mode=row)\n",
       "      )\n",
       "      (1): MBConv(\n",
       "        (block): Sequential(\n",
       "          (0): Conv2dNormActivation(\n",
       "            (0): Conv2d(112, 672, kernel_size=(1, 1), stride=(1, 1), bias=False)\n",
       "            (1): BatchNorm2d(672, eps=1e-05, momentum=0.1, affine=True, track_running_stats=True)\n",
       "            (2): SiLU(inplace=True)\n",
       "          )\n",
       "          (1): Conv2dNormActivation(\n",
       "            (0): Conv2d(672, 672, kernel_size=(3, 3), stride=(1, 1), padding=(1, 1), groups=672, bias=False)\n",
       "            (1): BatchNorm2d(672, eps=1e-05, momentum=0.1, affine=True, track_running_stats=True)\n",
       "            (2): SiLU(inplace=True)\n",
       "          )\n",
       "          (2): SqueezeExcitation(\n",
       "            (avgpool): AdaptiveAvgPool2d(output_size=1)\n",
       "            (fc1): Conv2d(672, 28, kernel_size=(1, 1), stride=(1, 1))\n",
       "            (fc2): Conv2d(28, 672, kernel_size=(1, 1), stride=(1, 1))\n",
       "            (activation): SiLU(inplace=True)\n",
       "            (scale_activation): Sigmoid()\n",
       "          )\n",
       "          (3): Conv2dNormActivation(\n",
       "            (0): Conv2d(672, 112, kernel_size=(1, 1), stride=(1, 1), bias=False)\n",
       "            (1): BatchNorm2d(112, eps=1e-05, momentum=0.1, affine=True, track_running_stats=True)\n",
       "          )\n",
       "        )\n",
       "        (stochastic_depth): StochasticDepth(p=0.06875, mode=row)\n",
       "      )\n",
       "      (2): MBConv(\n",
       "        (block): Sequential(\n",
       "          (0): Conv2dNormActivation(\n",
       "            (0): Conv2d(112, 672, kernel_size=(1, 1), stride=(1, 1), bias=False)\n",
       "            (1): BatchNorm2d(672, eps=1e-05, momentum=0.1, affine=True, track_running_stats=True)\n",
       "            (2): SiLU(inplace=True)\n",
       "          )\n",
       "          (1): Conv2dNormActivation(\n",
       "            (0): Conv2d(672, 672, kernel_size=(3, 3), stride=(1, 1), padding=(1, 1), groups=672, bias=False)\n",
       "            (1): BatchNorm2d(672, eps=1e-05, momentum=0.1, affine=True, track_running_stats=True)\n",
       "            (2): SiLU(inplace=True)\n",
       "          )\n",
       "          (2): SqueezeExcitation(\n",
       "            (avgpool): AdaptiveAvgPool2d(output_size=1)\n",
       "            (fc1): Conv2d(672, 28, kernel_size=(1, 1), stride=(1, 1))\n",
       "            (fc2): Conv2d(28, 672, kernel_size=(1, 1), stride=(1, 1))\n",
       "            (activation): SiLU(inplace=True)\n",
       "            (scale_activation): Sigmoid()\n",
       "          )\n",
       "          (3): Conv2dNormActivation(\n",
       "            (0): Conv2d(672, 112, kernel_size=(1, 1), stride=(1, 1), bias=False)\n",
       "            (1): BatchNorm2d(112, eps=1e-05, momentum=0.1, affine=True, track_running_stats=True)\n",
       "          )\n",
       "        )\n",
       "        (stochastic_depth): StochasticDepth(p=0.07500000000000001, mode=row)\n",
       "      )\n",
       "      (3): MBConv(\n",
       "        (block): Sequential(\n",
       "          (0): Conv2dNormActivation(\n",
       "            (0): Conv2d(112, 672, kernel_size=(1, 1), stride=(1, 1), bias=False)\n",
       "            (1): BatchNorm2d(672, eps=1e-05, momentum=0.1, affine=True, track_running_stats=True)\n",
       "            (2): SiLU(inplace=True)\n",
       "          )\n",
       "          (1): Conv2dNormActivation(\n",
       "            (0): Conv2d(672, 672, kernel_size=(3, 3), stride=(1, 1), padding=(1, 1), groups=672, bias=False)\n",
       "            (1): BatchNorm2d(672, eps=1e-05, momentum=0.1, affine=True, track_running_stats=True)\n",
       "            (2): SiLU(inplace=True)\n",
       "          )\n",
       "          (2): SqueezeExcitation(\n",
       "            (avgpool): AdaptiveAvgPool2d(output_size=1)\n",
       "            (fc1): Conv2d(672, 28, kernel_size=(1, 1), stride=(1, 1))\n",
       "            (fc2): Conv2d(28, 672, kernel_size=(1, 1), stride=(1, 1))\n",
       "            (activation): SiLU(inplace=True)\n",
       "            (scale_activation): Sigmoid()\n",
       "          )\n",
       "          (3): Conv2dNormActivation(\n",
       "            (0): Conv2d(672, 112, kernel_size=(1, 1), stride=(1, 1), bias=False)\n",
       "            (1): BatchNorm2d(112, eps=1e-05, momentum=0.1, affine=True, track_running_stats=True)\n",
       "          )\n",
       "        )\n",
       "        (stochastic_depth): StochasticDepth(p=0.08125, mode=row)\n",
       "      )\n",
       "      (4): MBConv(\n",
       "        (block): Sequential(\n",
       "          (0): Conv2dNormActivation(\n",
       "            (0): Conv2d(112, 672, kernel_size=(1, 1), stride=(1, 1), bias=False)\n",
       "            (1): BatchNorm2d(672, eps=1e-05, momentum=0.1, affine=True, track_running_stats=True)\n",
       "            (2): SiLU(inplace=True)\n",
       "          )\n",
       "          (1): Conv2dNormActivation(\n",
       "            (0): Conv2d(672, 672, kernel_size=(3, 3), stride=(1, 1), padding=(1, 1), groups=672, bias=False)\n",
       "            (1): BatchNorm2d(672, eps=1e-05, momentum=0.1, affine=True, track_running_stats=True)\n",
       "            (2): SiLU(inplace=True)\n",
       "          )\n",
       "          (2): SqueezeExcitation(\n",
       "            (avgpool): AdaptiveAvgPool2d(output_size=1)\n",
       "            (fc1): Conv2d(672, 28, kernel_size=(1, 1), stride=(1, 1))\n",
       "            (fc2): Conv2d(28, 672, kernel_size=(1, 1), stride=(1, 1))\n",
       "            (activation): SiLU(inplace=True)\n",
       "            (scale_activation): Sigmoid()\n",
       "          )\n",
       "          (3): Conv2dNormActivation(\n",
       "            (0): Conv2d(672, 112, kernel_size=(1, 1), stride=(1, 1), bias=False)\n",
       "            (1): BatchNorm2d(112, eps=1e-05, momentum=0.1, affine=True, track_running_stats=True)\n",
       "          )\n",
       "        )\n",
       "        (stochastic_depth): StochasticDepth(p=0.08750000000000001, mode=row)\n",
       "      )\n",
       "      (5): MBConv(\n",
       "        (block): Sequential(\n",
       "          (0): Conv2dNormActivation(\n",
       "            (0): Conv2d(112, 672, kernel_size=(1, 1), stride=(1, 1), bias=False)\n",
       "            (1): BatchNorm2d(672, eps=1e-05, momentum=0.1, affine=True, track_running_stats=True)\n",
       "            (2): SiLU(inplace=True)\n",
       "          )\n",
       "          (1): Conv2dNormActivation(\n",
       "            (0): Conv2d(672, 672, kernel_size=(3, 3), stride=(1, 1), padding=(1, 1), groups=672, bias=False)\n",
       "            (1): BatchNorm2d(672, eps=1e-05, momentum=0.1, affine=True, track_running_stats=True)\n",
       "            (2): SiLU(inplace=True)\n",
       "          )\n",
       "          (2): SqueezeExcitation(\n",
       "            (avgpool): AdaptiveAvgPool2d(output_size=1)\n",
       "            (fc1): Conv2d(672, 28, kernel_size=(1, 1), stride=(1, 1))\n",
       "            (fc2): Conv2d(28, 672, kernel_size=(1, 1), stride=(1, 1))\n",
       "            (activation): SiLU(inplace=True)\n",
       "            (scale_activation): Sigmoid()\n",
       "          )\n",
       "          (3): Conv2dNormActivation(\n",
       "            (0): Conv2d(672, 112, kernel_size=(1, 1), stride=(1, 1), bias=False)\n",
       "            (1): BatchNorm2d(112, eps=1e-05, momentum=0.1, affine=True, track_running_stats=True)\n",
       "          )\n",
       "        )\n",
       "        (stochastic_depth): StochasticDepth(p=0.09375, mode=row)\n",
       "      )\n",
       "    )\n",
       "    (5): Sequential(\n",
       "      (0): MBConv(\n",
       "        (block): Sequential(\n",
       "          (0): Conv2dNormActivation(\n",
       "            (0): Conv2d(112, 672, kernel_size=(1, 1), stride=(1, 1), bias=False)\n",
       "            (1): BatchNorm2d(672, eps=1e-05, momentum=0.1, affine=True, track_running_stats=True)\n",
       "            (2): SiLU(inplace=True)\n",
       "          )\n",
       "          (1): Conv2dNormActivation(\n",
       "            (0): Conv2d(672, 672, kernel_size=(5, 5), stride=(1, 1), padding=(2, 2), groups=672, bias=False)\n",
       "            (1): BatchNorm2d(672, eps=1e-05, momentum=0.1, affine=True, track_running_stats=True)\n",
       "            (2): SiLU(inplace=True)\n",
       "          )\n",
       "          (2): SqueezeExcitation(\n",
       "            (avgpool): AdaptiveAvgPool2d(output_size=1)\n",
       "            (fc1): Conv2d(672, 28, kernel_size=(1, 1), stride=(1, 1))\n",
       "            (fc2): Conv2d(28, 672, kernel_size=(1, 1), stride=(1, 1))\n",
       "            (activation): SiLU(inplace=True)\n",
       "            (scale_activation): Sigmoid()\n",
       "          )\n",
       "          (3): Conv2dNormActivation(\n",
       "            (0): Conv2d(672, 160, kernel_size=(1, 1), stride=(1, 1), bias=False)\n",
       "            (1): BatchNorm2d(160, eps=1e-05, momentum=0.1, affine=True, track_running_stats=True)\n",
       "          )\n",
       "        )\n",
       "        (stochastic_depth): StochasticDepth(p=0.1, mode=row)\n",
       "      )\n",
       "      (1): MBConv(\n",
       "        (block): Sequential(\n",
       "          (0): Conv2dNormActivation(\n",
       "            (0): Conv2d(160, 960, kernel_size=(1, 1), stride=(1, 1), bias=False)\n",
       "            (1): BatchNorm2d(960, eps=1e-05, momentum=0.1, affine=True, track_running_stats=True)\n",
       "            (2): SiLU(inplace=True)\n",
       "          )\n",
       "          (1): Conv2dNormActivation(\n",
       "            (0): Conv2d(960, 960, kernel_size=(5, 5), stride=(1, 1), padding=(2, 2), groups=960, bias=False)\n",
       "            (1): BatchNorm2d(960, eps=1e-05, momentum=0.1, affine=True, track_running_stats=True)\n",
       "            (2): SiLU(inplace=True)\n",
       "          )\n",
       "          (2): SqueezeExcitation(\n",
       "            (avgpool): AdaptiveAvgPool2d(output_size=1)\n",
       "            (fc1): Conv2d(960, 40, kernel_size=(1, 1), stride=(1, 1))\n",
       "            (fc2): Conv2d(40, 960, kernel_size=(1, 1), stride=(1, 1))\n",
       "            (activation): SiLU(inplace=True)\n",
       "            (scale_activation): Sigmoid()\n",
       "          )\n",
       "          (3): Conv2dNormActivation(\n",
       "            (0): Conv2d(960, 160, kernel_size=(1, 1), stride=(1, 1), bias=False)\n",
       "            (1): BatchNorm2d(160, eps=1e-05, momentum=0.1, affine=True, track_running_stats=True)\n",
       "          )\n",
       "        )\n",
       "        (stochastic_depth): StochasticDepth(p=0.10625000000000001, mode=row)\n",
       "      )\n",
       "      (2): MBConv(\n",
       "        (block): Sequential(\n",
       "          (0): Conv2dNormActivation(\n",
       "            (0): Conv2d(160, 960, kernel_size=(1, 1), stride=(1, 1), bias=False)\n",
       "            (1): BatchNorm2d(960, eps=1e-05, momentum=0.1, affine=True, track_running_stats=True)\n",
       "            (2): SiLU(inplace=True)\n",
       "          )\n",
       "          (1): Conv2dNormActivation(\n",
       "            (0): Conv2d(960, 960, kernel_size=(5, 5), stride=(1, 1), padding=(2, 2), groups=960, bias=False)\n",
       "            (1): BatchNorm2d(960, eps=1e-05, momentum=0.1, affine=True, track_running_stats=True)\n",
       "            (2): SiLU(inplace=True)\n",
       "          )\n",
       "          (2): SqueezeExcitation(\n",
       "            (avgpool): AdaptiveAvgPool2d(output_size=1)\n",
       "            (fc1): Conv2d(960, 40, kernel_size=(1, 1), stride=(1, 1))\n",
       "            (fc2): Conv2d(40, 960, kernel_size=(1, 1), stride=(1, 1))\n",
       "            (activation): SiLU(inplace=True)\n",
       "            (scale_activation): Sigmoid()\n",
       "          )\n",
       "          (3): Conv2dNormActivation(\n",
       "            (0): Conv2d(960, 160, kernel_size=(1, 1), stride=(1, 1), bias=False)\n",
       "            (1): BatchNorm2d(160, eps=1e-05, momentum=0.1, affine=True, track_running_stats=True)\n",
       "          )\n",
       "        )\n",
       "        (stochastic_depth): StochasticDepth(p=0.1125, mode=row)\n",
       "      )\n",
       "      (3): MBConv(\n",
       "        (block): Sequential(\n",
       "          (0): Conv2dNormActivation(\n",
       "            (0): Conv2d(160, 960, kernel_size=(1, 1), stride=(1, 1), bias=False)\n",
       "            (1): BatchNorm2d(960, eps=1e-05, momentum=0.1, affine=True, track_running_stats=True)\n",
       "            (2): SiLU(inplace=True)\n",
       "          )\n",
       "          (1): Conv2dNormActivation(\n",
       "            (0): Conv2d(960, 960, kernel_size=(5, 5), stride=(1, 1), padding=(2, 2), groups=960, bias=False)\n",
       "            (1): BatchNorm2d(960, eps=1e-05, momentum=0.1, affine=True, track_running_stats=True)\n",
       "            (2): SiLU(inplace=True)\n",
       "          )\n",
       "          (2): SqueezeExcitation(\n",
       "            (avgpool): AdaptiveAvgPool2d(output_size=1)\n",
       "            (fc1): Conv2d(960, 40, kernel_size=(1, 1), stride=(1, 1))\n",
       "            (fc2): Conv2d(40, 960, kernel_size=(1, 1), stride=(1, 1))\n",
       "            (activation): SiLU(inplace=True)\n",
       "            (scale_activation): Sigmoid()\n",
       "          )\n",
       "          (3): Conv2dNormActivation(\n",
       "            (0): Conv2d(960, 160, kernel_size=(1, 1), stride=(1, 1), bias=False)\n",
       "            (1): BatchNorm2d(160, eps=1e-05, momentum=0.1, affine=True, track_running_stats=True)\n",
       "          )\n",
       "        )\n",
       "        (stochastic_depth): StochasticDepth(p=0.11875000000000001, mode=row)\n",
       "      )\n",
       "      (4): MBConv(\n",
       "        (block): Sequential(\n",
       "          (0): Conv2dNormActivation(\n",
       "            (0): Conv2d(160, 960, kernel_size=(1, 1), stride=(1, 1), bias=False)\n",
       "            (1): BatchNorm2d(960, eps=1e-05, momentum=0.1, affine=True, track_running_stats=True)\n",
       "            (2): SiLU(inplace=True)\n",
       "          )\n",
       "          (1): Conv2dNormActivation(\n",
       "            (0): Conv2d(960, 960, kernel_size=(5, 5), stride=(1, 1), padding=(2, 2), groups=960, bias=False)\n",
       "            (1): BatchNorm2d(960, eps=1e-05, momentum=0.1, affine=True, track_running_stats=True)\n",
       "            (2): SiLU(inplace=True)\n",
       "          )\n",
       "          (2): SqueezeExcitation(\n",
       "            (avgpool): AdaptiveAvgPool2d(output_size=1)\n",
       "            (fc1): Conv2d(960, 40, kernel_size=(1, 1), stride=(1, 1))\n",
       "            (fc2): Conv2d(40, 960, kernel_size=(1, 1), stride=(1, 1))\n",
       "            (activation): SiLU(inplace=True)\n",
       "            (scale_activation): Sigmoid()\n",
       "          )\n",
       "          (3): Conv2dNormActivation(\n",
       "            (0): Conv2d(960, 160, kernel_size=(1, 1), stride=(1, 1), bias=False)\n",
       "            (1): BatchNorm2d(160, eps=1e-05, momentum=0.1, affine=True, track_running_stats=True)\n",
       "          )\n",
       "        )\n",
       "        (stochastic_depth): StochasticDepth(p=0.125, mode=row)\n",
       "      )\n",
       "      (5): MBConv(\n",
       "        (block): Sequential(\n",
       "          (0): Conv2dNormActivation(\n",
       "            (0): Conv2d(160, 960, kernel_size=(1, 1), stride=(1, 1), bias=False)\n",
       "            (1): BatchNorm2d(960, eps=1e-05, momentum=0.1, affine=True, track_running_stats=True)\n",
       "            (2): SiLU(inplace=True)\n",
       "          )\n",
       "          (1): Conv2dNormActivation(\n",
       "            (0): Conv2d(960, 960, kernel_size=(5, 5), stride=(1, 1), padding=(2, 2), groups=960, bias=False)\n",
       "            (1): BatchNorm2d(960, eps=1e-05, momentum=0.1, affine=True, track_running_stats=True)\n",
       "            (2): SiLU(inplace=True)\n",
       "          )\n",
       "          (2): SqueezeExcitation(\n",
       "            (avgpool): AdaptiveAvgPool2d(output_size=1)\n",
       "            (fc1): Conv2d(960, 40, kernel_size=(1, 1), stride=(1, 1))\n",
       "            (fc2): Conv2d(40, 960, kernel_size=(1, 1), stride=(1, 1))\n",
       "            (activation): SiLU(inplace=True)\n",
       "            (scale_activation): Sigmoid()\n",
       "          )\n",
       "          (3): Conv2dNormActivation(\n",
       "            (0): Conv2d(960, 160, kernel_size=(1, 1), stride=(1, 1), bias=False)\n",
       "            (1): BatchNorm2d(160, eps=1e-05, momentum=0.1, affine=True, track_running_stats=True)\n",
       "          )\n",
       "        )\n",
       "        (stochastic_depth): StochasticDepth(p=0.13125, mode=row)\n",
       "      )\n",
       "    )\n",
       "    (6): Sequential(\n",
       "      (0): MBConv(\n",
       "        (block): Sequential(\n",
       "          (0): Conv2dNormActivation(\n",
       "            (0): Conv2d(160, 960, kernel_size=(1, 1), stride=(1, 1), bias=False)\n",
       "            (1): BatchNorm2d(960, eps=1e-05, momentum=0.1, affine=True, track_running_stats=True)\n",
       "            (2): SiLU(inplace=True)\n",
       "          )\n",
       "          (1): Conv2dNormActivation(\n",
       "            (0): Conv2d(960, 960, kernel_size=(5, 5), stride=(2, 2), padding=(2, 2), groups=960, bias=False)\n",
       "            (1): BatchNorm2d(960, eps=1e-05, momentum=0.1, affine=True, track_running_stats=True)\n",
       "            (2): SiLU(inplace=True)\n",
       "          )\n",
       "          (2): SqueezeExcitation(\n",
       "            (avgpool): AdaptiveAvgPool2d(output_size=1)\n",
       "            (fc1): Conv2d(960, 40, kernel_size=(1, 1), stride=(1, 1))\n",
       "            (fc2): Conv2d(40, 960, kernel_size=(1, 1), stride=(1, 1))\n",
       "            (activation): SiLU(inplace=True)\n",
       "            (scale_activation): Sigmoid()\n",
       "          )\n",
       "          (3): Conv2dNormActivation(\n",
       "            (0): Conv2d(960, 272, kernel_size=(1, 1), stride=(1, 1), bias=False)\n",
       "            (1): BatchNorm2d(272, eps=1e-05, momentum=0.1, affine=True, track_running_stats=True)\n",
       "          )\n",
       "        )\n",
       "        (stochastic_depth): StochasticDepth(p=0.1375, mode=row)\n",
       "      )\n",
       "      (1): MBConv(\n",
       "        (block): Sequential(\n",
       "          (0): Conv2dNormActivation(\n",
       "            (0): Conv2d(272, 1632, kernel_size=(1, 1), stride=(1, 1), bias=False)\n",
       "            (1): BatchNorm2d(1632, eps=1e-05, momentum=0.1, affine=True, track_running_stats=True)\n",
       "            (2): SiLU(inplace=True)\n",
       "          )\n",
       "          (1): Conv2dNormActivation(\n",
       "            (0): Conv2d(1632, 1632, kernel_size=(5, 5), stride=(1, 1), padding=(2, 2), groups=1632, bias=False)\n",
       "            (1): BatchNorm2d(1632, eps=1e-05, momentum=0.1, affine=True, track_running_stats=True)\n",
       "            (2): SiLU(inplace=True)\n",
       "          )\n",
       "          (2): SqueezeExcitation(\n",
       "            (avgpool): AdaptiveAvgPool2d(output_size=1)\n",
       "            (fc1): Conv2d(1632, 68, kernel_size=(1, 1), stride=(1, 1))\n",
       "            (fc2): Conv2d(68, 1632, kernel_size=(1, 1), stride=(1, 1))\n",
       "            (activation): SiLU(inplace=True)\n",
       "            (scale_activation): Sigmoid()\n",
       "          )\n",
       "          (3): Conv2dNormActivation(\n",
       "            (0): Conv2d(1632, 272, kernel_size=(1, 1), stride=(1, 1), bias=False)\n",
       "            (1): BatchNorm2d(272, eps=1e-05, momentum=0.1, affine=True, track_running_stats=True)\n",
       "          )\n",
       "        )\n",
       "        (stochastic_depth): StochasticDepth(p=0.14375000000000002, mode=row)\n",
       "      )\n",
       "      (2): MBConv(\n",
       "        (block): Sequential(\n",
       "          (0): Conv2dNormActivation(\n",
       "            (0): Conv2d(272, 1632, kernel_size=(1, 1), stride=(1, 1), bias=False)\n",
       "            (1): BatchNorm2d(1632, eps=1e-05, momentum=0.1, affine=True, track_running_stats=True)\n",
       "            (2): SiLU(inplace=True)\n",
       "          )\n",
       "          (1): Conv2dNormActivation(\n",
       "            (0): Conv2d(1632, 1632, kernel_size=(5, 5), stride=(1, 1), padding=(2, 2), groups=1632, bias=False)\n",
       "            (1): BatchNorm2d(1632, eps=1e-05, momentum=0.1, affine=True, track_running_stats=True)\n",
       "            (2): SiLU(inplace=True)\n",
       "          )\n",
       "          (2): SqueezeExcitation(\n",
       "            (avgpool): AdaptiveAvgPool2d(output_size=1)\n",
       "            (fc1): Conv2d(1632, 68, kernel_size=(1, 1), stride=(1, 1))\n",
       "            (fc2): Conv2d(68, 1632, kernel_size=(1, 1), stride=(1, 1))\n",
       "            (activation): SiLU(inplace=True)\n",
       "            (scale_activation): Sigmoid()\n",
       "          )\n",
       "          (3): Conv2dNormActivation(\n",
       "            (0): Conv2d(1632, 272, kernel_size=(1, 1), stride=(1, 1), bias=False)\n",
       "            (1): BatchNorm2d(272, eps=1e-05, momentum=0.1, affine=True, track_running_stats=True)\n",
       "          )\n",
       "        )\n",
       "        (stochastic_depth): StochasticDepth(p=0.15000000000000002, mode=row)\n",
       "      )\n",
       "      (3): MBConv(\n",
       "        (block): Sequential(\n",
       "          (0): Conv2dNormActivation(\n",
       "            (0): Conv2d(272, 1632, kernel_size=(1, 1), stride=(1, 1), bias=False)\n",
       "            (1): BatchNorm2d(1632, eps=1e-05, momentum=0.1, affine=True, track_running_stats=True)\n",
       "            (2): SiLU(inplace=True)\n",
       "          )\n",
       "          (1): Conv2dNormActivation(\n",
       "            (0): Conv2d(1632, 1632, kernel_size=(5, 5), stride=(1, 1), padding=(2, 2), groups=1632, bias=False)\n",
       "            (1): BatchNorm2d(1632, eps=1e-05, momentum=0.1, affine=True, track_running_stats=True)\n",
       "            (2): SiLU(inplace=True)\n",
       "          )\n",
       "          (2): SqueezeExcitation(\n",
       "            (avgpool): AdaptiveAvgPool2d(output_size=1)\n",
       "            (fc1): Conv2d(1632, 68, kernel_size=(1, 1), stride=(1, 1))\n",
       "            (fc2): Conv2d(68, 1632, kernel_size=(1, 1), stride=(1, 1))\n",
       "            (activation): SiLU(inplace=True)\n",
       "            (scale_activation): Sigmoid()\n",
       "          )\n",
       "          (3): Conv2dNormActivation(\n",
       "            (0): Conv2d(1632, 272, kernel_size=(1, 1), stride=(1, 1), bias=False)\n",
       "            (1): BatchNorm2d(272, eps=1e-05, momentum=0.1, affine=True, track_running_stats=True)\n",
       "          )\n",
       "        )\n",
       "        (stochastic_depth): StochasticDepth(p=0.15625, mode=row)\n",
       "      )\n",
       "      (4): MBConv(\n",
       "        (block): Sequential(\n",
       "          (0): Conv2dNormActivation(\n",
       "            (0): Conv2d(272, 1632, kernel_size=(1, 1), stride=(1, 1), bias=False)\n",
       "            (1): BatchNorm2d(1632, eps=1e-05, momentum=0.1, affine=True, track_running_stats=True)\n",
       "            (2): SiLU(inplace=True)\n",
       "          )\n",
       "          (1): Conv2dNormActivation(\n",
       "            (0): Conv2d(1632, 1632, kernel_size=(5, 5), stride=(1, 1), padding=(2, 2), groups=1632, bias=False)\n",
       "            (1): BatchNorm2d(1632, eps=1e-05, momentum=0.1, affine=True, track_running_stats=True)\n",
       "            (2): SiLU(inplace=True)\n",
       "          )\n",
       "          (2): SqueezeExcitation(\n",
       "            (avgpool): AdaptiveAvgPool2d(output_size=1)\n",
       "            (fc1): Conv2d(1632, 68, kernel_size=(1, 1), stride=(1, 1))\n",
       "            (fc2): Conv2d(68, 1632, kernel_size=(1, 1), stride=(1, 1))\n",
       "            (activation): SiLU(inplace=True)\n",
       "            (scale_activation): Sigmoid()\n",
       "          )\n",
       "          (3): Conv2dNormActivation(\n",
       "            (0): Conv2d(1632, 272, kernel_size=(1, 1), stride=(1, 1), bias=False)\n",
       "            (1): BatchNorm2d(272, eps=1e-05, momentum=0.1, affine=True, track_running_stats=True)\n",
       "          )\n",
       "        )\n",
       "        (stochastic_depth): StochasticDepth(p=0.1625, mode=row)\n",
       "      )\n",
       "      (5): MBConv(\n",
       "        (block): Sequential(\n",
       "          (0): Conv2dNormActivation(\n",
       "            (0): Conv2d(272, 1632, kernel_size=(1, 1), stride=(1, 1), bias=False)\n",
       "            (1): BatchNorm2d(1632, eps=1e-05, momentum=0.1, affine=True, track_running_stats=True)\n",
       "            (2): SiLU(inplace=True)\n",
       "          )\n",
       "          (1): Conv2dNormActivation(\n",
       "            (0): Conv2d(1632, 1632, kernel_size=(5, 5), stride=(1, 1), padding=(2, 2), groups=1632, bias=False)\n",
       "            (1): BatchNorm2d(1632, eps=1e-05, momentum=0.1, affine=True, track_running_stats=True)\n",
       "            (2): SiLU(inplace=True)\n",
       "          )\n",
       "          (2): SqueezeExcitation(\n",
       "            (avgpool): AdaptiveAvgPool2d(output_size=1)\n",
       "            (fc1): Conv2d(1632, 68, kernel_size=(1, 1), stride=(1, 1))\n",
       "            (fc2): Conv2d(68, 1632, kernel_size=(1, 1), stride=(1, 1))\n",
       "            (activation): SiLU(inplace=True)\n",
       "            (scale_activation): Sigmoid()\n",
       "          )\n",
       "          (3): Conv2dNormActivation(\n",
       "            (0): Conv2d(1632, 272, kernel_size=(1, 1), stride=(1, 1), bias=False)\n",
       "            (1): BatchNorm2d(272, eps=1e-05, momentum=0.1, affine=True, track_running_stats=True)\n",
       "          )\n",
       "        )\n",
       "        (stochastic_depth): StochasticDepth(p=0.16875, mode=row)\n",
       "      )\n",
       "      (6): MBConv(\n",
       "        (block): Sequential(\n",
       "          (0): Conv2dNormActivation(\n",
       "            (0): Conv2d(272, 1632, kernel_size=(1, 1), stride=(1, 1), bias=False)\n",
       "            (1): BatchNorm2d(1632, eps=1e-05, momentum=0.1, affine=True, track_running_stats=True)\n",
       "            (2): SiLU(inplace=True)\n",
       "          )\n",
       "          (1): Conv2dNormActivation(\n",
       "            (0): Conv2d(1632, 1632, kernel_size=(5, 5), stride=(1, 1), padding=(2, 2), groups=1632, bias=False)\n",
       "            (1): BatchNorm2d(1632, eps=1e-05, momentum=0.1, affine=True, track_running_stats=True)\n",
       "            (2): SiLU(inplace=True)\n",
       "          )\n",
       "          (2): SqueezeExcitation(\n",
       "            (avgpool): AdaptiveAvgPool2d(output_size=1)\n",
       "            (fc1): Conv2d(1632, 68, kernel_size=(1, 1), stride=(1, 1))\n",
       "            (fc2): Conv2d(68, 1632, kernel_size=(1, 1), stride=(1, 1))\n",
       "            (activation): SiLU(inplace=True)\n",
       "            (scale_activation): Sigmoid()\n",
       "          )\n",
       "          (3): Conv2dNormActivation(\n",
       "            (0): Conv2d(1632, 272, kernel_size=(1, 1), stride=(1, 1), bias=False)\n",
       "            (1): BatchNorm2d(272, eps=1e-05, momentum=0.1, affine=True, track_running_stats=True)\n",
       "          )\n",
       "        )\n",
       "        (stochastic_depth): StochasticDepth(p=0.17500000000000002, mode=row)\n",
       "      )\n",
       "      (7): MBConv(\n",
       "        (block): Sequential(\n",
       "          (0): Conv2dNormActivation(\n",
       "            (0): Conv2d(272, 1632, kernel_size=(1, 1), stride=(1, 1), bias=False)\n",
       "            (1): BatchNorm2d(1632, eps=1e-05, momentum=0.1, affine=True, track_running_stats=True)\n",
       "            (2): SiLU(inplace=True)\n",
       "          )\n",
       "          (1): Conv2dNormActivation(\n",
       "            (0): Conv2d(1632, 1632, kernel_size=(5, 5), stride=(1, 1), padding=(2, 2), groups=1632, bias=False)\n",
       "            (1): BatchNorm2d(1632, eps=1e-05, momentum=0.1, affine=True, track_running_stats=True)\n",
       "            (2): SiLU(inplace=True)\n",
       "          )\n",
       "          (2): SqueezeExcitation(\n",
       "            (avgpool): AdaptiveAvgPool2d(output_size=1)\n",
       "            (fc1): Conv2d(1632, 68, kernel_size=(1, 1), stride=(1, 1))\n",
       "            (fc2): Conv2d(68, 1632, kernel_size=(1, 1), stride=(1, 1))\n",
       "            (activation): SiLU(inplace=True)\n",
       "            (scale_activation): Sigmoid()\n",
       "          )\n",
       "          (3): Conv2dNormActivation(\n",
       "            (0): Conv2d(1632, 272, kernel_size=(1, 1), stride=(1, 1), bias=False)\n",
       "            (1): BatchNorm2d(272, eps=1e-05, momentum=0.1, affine=True, track_running_stats=True)\n",
       "          )\n",
       "        )\n",
       "        (stochastic_depth): StochasticDepth(p=0.18125000000000002, mode=row)\n",
       "      )\n",
       "    )\n",
       "    (7): Sequential(\n",
       "      (0): MBConv(\n",
       "        (block): Sequential(\n",
       "          (0): Conv2dNormActivation(\n",
       "            (0): Conv2d(272, 1632, kernel_size=(1, 1), stride=(1, 1), bias=False)\n",
       "            (1): BatchNorm2d(1632, eps=1e-05, momentum=0.1, affine=True, track_running_stats=True)\n",
       "            (2): SiLU(inplace=True)\n",
       "          )\n",
       "          (1): Conv2dNormActivation(\n",
       "            (0): Conv2d(1632, 1632, kernel_size=(3, 3), stride=(1, 1), padding=(1, 1), groups=1632, bias=False)\n",
       "            (1): BatchNorm2d(1632, eps=1e-05, momentum=0.1, affine=True, track_running_stats=True)\n",
       "            (2): SiLU(inplace=True)\n",
       "          )\n",
       "          (2): SqueezeExcitation(\n",
       "            (avgpool): AdaptiveAvgPool2d(output_size=1)\n",
       "            (fc1): Conv2d(1632, 68, kernel_size=(1, 1), stride=(1, 1))\n",
       "            (fc2): Conv2d(68, 1632, kernel_size=(1, 1), stride=(1, 1))\n",
       "            (activation): SiLU(inplace=True)\n",
       "            (scale_activation): Sigmoid()\n",
       "          )\n",
       "          (3): Conv2dNormActivation(\n",
       "            (0): Conv2d(1632, 448, kernel_size=(1, 1), stride=(1, 1), bias=False)\n",
       "            (1): BatchNorm2d(448, eps=1e-05, momentum=0.1, affine=True, track_running_stats=True)\n",
       "          )\n",
       "        )\n",
       "        (stochastic_depth): StochasticDepth(p=0.1875, mode=row)\n",
       "      )\n",
       "      (1): MBConv(\n",
       "        (block): Sequential(\n",
       "          (0): Conv2dNormActivation(\n",
       "            (0): Conv2d(448, 2688, kernel_size=(1, 1), stride=(1, 1), bias=False)\n",
       "            (1): BatchNorm2d(2688, eps=1e-05, momentum=0.1, affine=True, track_running_stats=True)\n",
       "            (2): SiLU(inplace=True)\n",
       "          )\n",
       "          (1): Conv2dNormActivation(\n",
       "            (0): Conv2d(2688, 2688, kernel_size=(3, 3), stride=(1, 1), padding=(1, 1), groups=2688, bias=False)\n",
       "            (1): BatchNorm2d(2688, eps=1e-05, momentum=0.1, affine=True, track_running_stats=True)\n",
       "            (2): SiLU(inplace=True)\n",
       "          )\n",
       "          (2): SqueezeExcitation(\n",
       "            (avgpool): AdaptiveAvgPool2d(output_size=1)\n",
       "            (fc1): Conv2d(2688, 112, kernel_size=(1, 1), stride=(1, 1))\n",
       "            (fc2): Conv2d(112, 2688, kernel_size=(1, 1), stride=(1, 1))\n",
       "            (activation): SiLU(inplace=True)\n",
       "            (scale_activation): Sigmoid()\n",
       "          )\n",
       "          (3): Conv2dNormActivation(\n",
       "            (0): Conv2d(2688, 448, kernel_size=(1, 1), stride=(1, 1), bias=False)\n",
       "            (1): BatchNorm2d(448, eps=1e-05, momentum=0.1, affine=True, track_running_stats=True)\n",
       "          )\n",
       "        )\n",
       "        (stochastic_depth): StochasticDepth(p=0.19375, mode=row)\n",
       "      )\n",
       "    )\n",
       "    (8): Conv2dNormActivation(\n",
       "      (0): Conv2d(448, 1792, kernel_size=(1, 1), stride=(1, 1), bias=False)\n",
       "      (1): BatchNorm2d(1792, eps=1e-05, momentum=0.1, affine=True, track_running_stats=True)\n",
       "      (2): SiLU(inplace=True)\n",
       "    )\n",
       "  )\n",
       "  (avgpool): AdaptiveAvgPool2d(output_size=1)\n",
       "  (classifier): Sequential(\n",
       "    (0): Dropout(p=0.4, inplace=True)\n",
       "    (1): Linear(in_features=1792, out_features=67, bias=True)\n",
       "  )\n",
       ")"
      ]
     },
     "execution_count": 8,
     "metadata": {},
     "output_type": "execute_result"
    }
   ],
   "source": [
    "import os\n",
    "import torch\n",
    "import torch.nn as nn\n",
    "import torch.optim as optim\n",
    "from torch.utils.data import DataLoader\n",
    "from torchvision import datasets, models, transforms\n",
    "from torchvision.models import efficientnet_b4, EfficientNet_B4_Weights\n",
    "from torch.amp import autocast, GradScaler # Use 'cuda' specific autocast\n",
    "from tqdm import tqdm\n",
    "import matplotlib.pyplot as plt\n",
    "import time # To measure training time\n",
    "\n",
    "# --- Configuration ---\n",
    "DATA_DIR = 'dataset/images'  # expects subfolders train/, val/, test/\n",
    "BATCH_SIZE = 32 # Increased batch size for potentially faster training, adjust based on GPU memory\n",
    "MODEL_SAVE_PATH = 'efficientnet_b4_finetuned.pth' # Path to save the final model\n",
    "\n",
    "# --- Device Setup ---\n",
    "if torch.cuda.is_available():\n",
    "    DEVICE = torch.device(\"cuda\")\n",
    "    print(f\"Using GPU: {torch.cuda.get_device_name(0)}\")\n",
    "    # Enable cuDNN benchmark for potentially faster convolutions on fixed input sizes\n",
    "    torch.backends.cudnn.benchmark = True\n",
    "else:\n",
    "    DEVICE = torch.device(\"cpu\")\n",
    "    print(\"Using CPU\")\n",
    "\n",
    "# --- Determine Number of Classes ---\n",
    "try:\n",
    "    train_dir = os.path.join(DATA_DIR, 'train')\n",
    "    if not os.path.isdir(train_dir):\n",
    "        raise FileNotFoundError(f\"Training directory not found: {train_dir}\")\n",
    "    classes = os.listdir(train_dir)\n",
    "    # Filter out potential hidden files/dirs like .DS_Store\n",
    "    classes = [d for d in classes if os.path.isdir(os.path.join(train_dir, d))]\n",
    "    NUM_CLASSES = len(classes)\n",
    "    if NUM_CLASSES == 0:\n",
    "        raise ValueError(f\"No subdirectories found in {train_dir}. Expected class folders.\")\n",
    "    print(f\"Found {NUM_CLASSES} classes: {classes}\")\n",
    "except Exception as e:\n",
    "    print(f\"Error determining number of classes: {e}\")\n",
    "    print(\"Please ensure DATA_DIR points to a directory containing 'train', 'val', and 'test' subfolders,\")\n",
    "    print(\"and that 'train' contains one subfolder per class.\")\n",
    "    exit() # Exit if class setup fails\n",
    "# --- Preprocessing ---\n",
    "# Use the recommended weights and transforms for EfficientNet-B4\n",
    "# --- Preprocessing ---\n",
    "weights = EfficientNet_B4_Weights.IMAGENET1K_V1\n",
    "img_size = 384 # Standard EfficientNet-B4 input size from weights.transforms()\n",
    "\n",
    "# Define separate transforms\n",
    "train_transform = transforms.Compose([\n",
    "    transforms.RandomResizedCrop(img_size, scale=(0.8, 1.0)), # Crop differently each time\n",
    "    transforms.RandomHorizontalFlip(p=0.5),                  # Flip images horizontally sometimes\n",
    "    transforms.RandomRotation(degrees=15),                    # Rotate slightly\n",
    "    transforms.ColorJitter(brightness=0.2, contrast=0.2, saturation=0.2, hue=0.1), # Adjust colors\n",
    "    transforms.ToTensor(),\n",
    "    # Use normalization parameters from the pre-trained weights\n",
    "    transforms.Normalize(mean=weights.transforms().mean, std=weights.transforms().std),\n",
    "    transforms.RandomErasing(p=0.2, scale=(0.02, 0.1), ratio=(0.3, 3.3), value=0) # Optional: Cutout/Random Erasing\n",
    "])\n",
    "\n",
    "# Keep validation/test transform simpler (usually matching evaluation protocol)\n",
    "val_test_transform = weights.transforms() # Use the standard transforms for val/test\n",
    "# --- Datasets and Loaders ---\n",
    "print(\"Loading datasets...\")\n",
    "try:\n",
    "    train_dataset = datasets.ImageFolder(os.path.join(DATA_DIR, 'train'), transform=train_transform)\n",
    "    val_dataset = datasets.ImageFolder(os.path.join(DATA_DIR, 'val'), transform=val_test_transform)\n",
    "    test_dataset = datasets.ImageFolder(os.path.join(DATA_DIR, 'test'), transform=val_test_transform)\n",
    "\n",
    "    # Check if datasets are empty\n",
    "    if not train_dataset or not val_dataset or not test_dataset:\n",
    "         raise ValueError(\"One or more datasets (train, val, test) are empty or could not be loaded.\")\n",
    "\n",
    "    print(f\"Train samples: {len(train_dataset)}, Val samples: {len(val_dataset)}, Test samples: {len(test_dataset)}\")\n",
    "\n",
    "    # Pin memory for faster CPU to GPU transfers if using CUDA\n",
    "    pin_memory = True if DEVICE == torch.device(\"cuda\") else False\n",
    "\n",
    "    train_loader = DataLoader(train_dataset, batch_size=BATCH_SIZE, shuffle=True, num_workers=4, pin_memory=pin_memory)\n",
    "    val_loader = DataLoader(val_dataset, batch_size=BATCH_SIZE, shuffle=False, num_workers=4, pin_memory=pin_memory)\n",
    "    test_loader = DataLoader(test_dataset, batch_size=BATCH_SIZE, shuffle=False, num_workers=4, pin_memory=pin_memory)\n",
    "    print(\"DataLoaders created.\")\n",
    "\n",
    "except Exception as e:\n",
    "    print(f\"Error loading data: {e}\")\n",
    "    print(\"Please ensure 'train', 'val', and 'test' subdirectories exist in DATA_DIR and contain images.\")\n",
    "    exit()\n",
    "\n",
    "# --- Model Definition ---\n",
    "print(\"Loading EfficientNet-B4 model...\")\n",
    "# Replace the final fully connected layer (classifier)\n",
    "model = efficientnet_b4(weights=weights)\n",
    "\n",
    "# Freeze all layers initially\n",
    "for param in model.parameters():\n",
    "    param.requires_grad = False\n",
    "\n",
    "# --- Unfreeze later layers ---\n",
    "# Example: Unfreeze the last feature block(s). You might need to inspect\n",
    "# model.features to find the correct indices/names for EfficientNet-B4.\n",
    "# Let's assume the last block is index 8 (check this structure!)\n",
    "# for block_index in [8]: # Or maybe [7, 8] for last two blocks\n",
    "#     try:\n",
    "#         for param in model.features[block_index].parameters():\n",
    "#              param.requires_grad = True\n",
    "#         print(f\"Unfrozen parameters in features block {block_index}\")\n",
    "#     except IndexError:\n",
    "#         print(f\"Warning: Could not find features block at index {block_index}\")\n",
    "\n",
    "# Replace and ensure classifier is trainable\n",
    "in_features = model.classifier[1].in_features\n",
    "model.classifier = nn.Sequential(\n",
    "    nn.Dropout(p=0.4, inplace=True), # Keep dropout\n",
    "    nn.Linear(in_features, NUM_CLASSES),\n",
    ")\n",
    "# This loop is technically redundant if you just replaced the classifier,\n",
    "# as new layers require grad by default, but explicit is okay.  \n",
    "# for param in model.classifier.parameters():\n",
    "#     param.requires_grad = True\n",
    "\n",
    "model.to(DEVICE)"
   ]
  },
  {
   "cell_type": "markdown",
   "id": "67caa17d",
   "metadata": {},
   "source": [
    "#### Steps to solve class imbalance"
   ]
  },
  {
   "cell_type": "code",
   "execution_count": 9,
   "id": "9225a88f",
   "metadata": {},
   "outputs": [
    {
     "name": "stdout",
     "output_type": "stream",
     "text": [
      "Calculating class weights for weighted loss...\n",
      "Class weights calculated (first 5): tensor([0.8570, 1.5470, 1.2809, 0.8103, 0.8759], device='cuda:0')\n"
     ]
    }
   ],
   "source": [
    "# --- Add this section before defining the Loss and Optimizer ---\n",
    "from sklearn.utils.class_weight import compute_class_weight\n",
    "import numpy as np\n",
    "\n",
    "# --- Calculate Class Weights for Weighted Loss ---\n",
    "print(\"Calculating class weights for weighted loss...\")\n",
    "try:\n",
    "    # Ensure train_dataset is loaded and has 'targets' attribute\n",
    "    if 'train_dataset' not in locals() or not hasattr(train_dataset, 'targets'):\n",
    "         raise ValueError(\"train_dataset object not found or missing 'targets' attribute.\")\n",
    "\n",
    "    class_labels = train_dataset.targets # Get the list of labels for each sample\n",
    "    class_indices = sorted(list(set(class_labels))) # Get unique class indices (0, 1, 2...)\n",
    "\n",
    "    # Ensure number of unique labels matches NUM_CLASSES derived from folders\n",
    "    if len(class_indices) != NUM_CLASSES:\n",
    "         print(f\"Warning: Number of classes in targets ({len(class_indices)}) \"\n",
    "               f\"differs from folder count ({NUM_CLASSES}). Using target count.\")\n",
    "         # Adjust NUM_CLASSES if necessary, or investigate the discrepancy\n",
    "         # NUM_CLASSES = len(class_indices) # Uncomment carefully if needed\n",
    "\n",
    "    # Calculate weights: higher weight for less frequent classes\n",
    "    # 'balanced' mode automatically calculates weights as: n_samples / (n_classes * np.bincount(y))\n",
    "    class_weights = compute_class_weight(\n",
    "        class_weight='balanced',\n",
    "        classes=np.array(class_indices), # Pass the actual unique class indices found\n",
    "        y=np.array(class_labels)         # Pass all the labels\n",
    "    )\n",
    "\n",
    "    # Convert weights to a PyTorch tensor and move to the correct device\n",
    "    class_weights_tensor = torch.tensor(class_weights, dtype=torch.float).to(DEVICE)\n",
    "    print(f\"Class weights calculated (first 5): {class_weights_tensor[:5]}\") # Print first few weights\n",
    "    use_weighted_loss = True\n",
    "\n",
    "except Exception as e:\n",
    "    print(f\"ERROR: Could not calculate class weights: {e}. Using standard loss.\")\n",
    "    use_weighted_loss = False\n",
    "    class_weights_tensor = None # Ensure it's None if calculation fails"
   ]
  },
  {
   "cell_type": "code",
   "execution_count": 11,
   "id": "e78f77d6",
   "metadata": {},
   "outputs": [
    {
     "name": "stdout",
     "output_type": "stream",
     "text": [
      "Defining Loss function...\n",
      "Using Weighted CrossEntropyLoss.\n",
      "Mixed precision enabled: True\n"
     ]
    },
    {
     "name": "stderr",
     "output_type": "stream",
     "text": [
      "c:\\Work\\Garbage_classification\\food-recognition\\food-recognition\\env\\Lib\\site-packages\\torch\\optim\\lr_scheduler.py:62: UserWarning: The verbose parameter is deprecated. Please use get_last_lr() to access the learning rate.\n",
      "  warnings.warn(\n"
     ]
    }
   ],
   "source": [
    "from torch.optim.lr_scheduler import ReduceLROnPlateau\n",
    "# --- Loss and Optimizer ---\n",
    "print(\"Defining Loss function...\")\n",
    "if use_weighted_loss:\n",
    "    print(\"Using Weighted CrossEntropyLoss.\")\n",
    "    criterion = nn.CrossEntropyLoss(weight=class_weights_tensor)\n",
    "else:\n",
    "    print(\"Using standard CrossEntropyLoss.\")\n",
    "    criterion = nn.CrossEntropyLoss()\n",
    "\n",
    "# Use AdamW which often works better with transformers and modern architectures\n",
    "optimizer = optim.AdamW(model.parameters(), lr=1e-4, weight_decay=5e-2)\n",
    "# Optional: Learning Rate Scheduler (e.g., reduce on plateau)\n",
    "scheduler = ReduceLROnPlateau(optimizer, mode='max', factor=0.1, patience=2, verbose=True)\n",
    "# Factor: Multiplies LR by this (0.1 = reduce to 10%)\n",
    "# Patience: Number of epochs with no improvement after which LR is reduced\n",
    "# --- Mixed Precision Setup ---\n",
    "\n",
    "# Only use GradScaler if on CUDA\n",
    "\n",
    "scaler = GradScaler(\"cuda\")\n",
    "\n",
    "print(f\"Mixed precision enabled: {scaler.is_enabled()}\")"
   ]
  },
  {
   "cell_type": "code",
   "execution_count": 12,
   "id": "8bc0eb19",
   "metadata": {},
   "outputs": [
    {
     "name": "stdout",
     "output_type": "stream",
     "text": [
      "\n",
      "--- Starting Training ---\n"
     ]
    },
    {
     "name": "stderr",
     "output_type": "stream",
     "text": [
      "                                                                                                \r"
     ]
    },
    {
     "name": "stdout",
     "output_type": "stream",
     "text": [
      "[Epoch 1] Train Loss: 4.1239, Accuracy: 0.1877\n"
     ]
    },
    {
     "name": "stderr",
     "output_type": "stream",
     "text": [
      "                                                                                 \r"
     ]
    },
    {
     "name": "stdout",
     "output_type": "stream",
     "text": [
      "[Epoch 1] Validation Accuracy: 0.5456\n",
      "Validation accuracy improved from 0.0000 to 0.5456. Saving best model...\n"
     ]
    },
    {
     "name": "stderr",
     "output_type": "stream",
     "text": [
      "                                                                                                \r"
     ]
    },
    {
     "name": "stdout",
     "output_type": "stream",
     "text": [
      "[Epoch 2] Train Loss: 3.9535, Accuracy: 0.4898\n"
     ]
    },
    {
     "name": "stderr",
     "output_type": "stream",
     "text": [
      "                                                                                 \r"
     ]
    },
    {
     "name": "stdout",
     "output_type": "stream",
     "text": [
      "[Epoch 2] Validation Accuracy: 0.6331\n",
      "Validation accuracy improved from 0.5456 to 0.6331. Saving best model...\n"
     ]
    },
    {
     "name": "stderr",
     "output_type": "stream",
     "text": [
      "                                                                                                \r"
     ]
    },
    {
     "name": "stdout",
     "output_type": "stream",
     "text": [
      "[Epoch 3] Train Loss: 3.7899, Accuracy: 0.5752\n"
     ]
    },
    {
     "name": "stderr",
     "output_type": "stream",
     "text": [
      "                                                                                 \r"
     ]
    },
    {
     "name": "stdout",
     "output_type": "stream",
     "text": [
      "[Epoch 3] Validation Accuracy: 0.6511\n",
      "Validation accuracy improved from 0.6331 to 0.6511. Saving best model...\n"
     ]
    },
    {
     "name": "stderr",
     "output_type": "stream",
     "text": [
      "                                                                                                \r"
     ]
    },
    {
     "name": "stdout",
     "output_type": "stream",
     "text": [
      "[Epoch 4] Train Loss: 3.6360, Accuracy: 0.6104\n"
     ]
    },
    {
     "name": "stderr",
     "output_type": "stream",
     "text": [
      "                                                                                 \r"
     ]
    },
    {
     "name": "stdout",
     "output_type": "stream",
     "text": [
      "[Epoch 4] Validation Accuracy: 0.6873\n",
      "Validation accuracy improved from 0.6511 to 0.6873. Saving best model...\n"
     ]
    },
    {
     "name": "stderr",
     "output_type": "stream",
     "text": [
      "                                                                                                \r"
     ]
    },
    {
     "name": "stdout",
     "output_type": "stream",
     "text": [
      "[Epoch 5] Train Loss: 3.4844, Accuracy: 0.6380\n"
     ]
    },
    {
     "name": "stderr",
     "output_type": "stream",
     "text": [
      "                                                                                 \r"
     ]
    },
    {
     "name": "stdout",
     "output_type": "stream",
     "text": [
      "[Epoch 5] Validation Accuracy: 0.6901\n",
      "Validation accuracy improved from 0.6873 to 0.6901. Saving best model...\n"
     ]
    },
    {
     "name": "stderr",
     "output_type": "stream",
     "text": [
      "                                                                                                \r"
     ]
    },
    {
     "name": "stdout",
     "output_type": "stream",
     "text": [
      "[Epoch 6] Train Loss: 3.3432, Accuracy: 0.6440\n"
     ]
    },
    {
     "name": "stderr",
     "output_type": "stream",
     "text": [
      "                                                                                 \r"
     ]
    },
    {
     "name": "stdout",
     "output_type": "stream",
     "text": [
      "[Epoch 6] Validation Accuracy: 0.6920\n",
      "Validation accuracy improved from 0.6901 to 0.6920. Saving best model...\n"
     ]
    },
    {
     "name": "stderr",
     "output_type": "stream",
     "text": [
      "                                                                                                \r"
     ]
    },
    {
     "name": "stdout",
     "output_type": "stream",
     "text": [
      "[Epoch 7] Train Loss: 3.2090, Accuracy: 0.6508\n"
     ]
    },
    {
     "name": "stderr",
     "output_type": "stream",
     "text": [
      "                                                                                 \r"
     ]
    },
    {
     "name": "stdout",
     "output_type": "stream",
     "text": [
      "[Epoch 7] Validation Accuracy: 0.7015\n",
      "Validation accuracy improved from 0.6920 to 0.7015. Saving best model...\n"
     ]
    },
    {
     "name": "stderr",
     "output_type": "stream",
     "text": [
      "                                                                                                \r"
     ]
    },
    {
     "name": "stdout",
     "output_type": "stream",
     "text": [
      "[Epoch 8] Train Loss: 3.0829, Accuracy: 0.6594\n"
     ]
    },
    {
     "name": "stderr",
     "output_type": "stream",
     "text": [
      "                                                                                 \r"
     ]
    },
    {
     "name": "stdout",
     "output_type": "stream",
     "text": [
      "[Epoch 8] Validation Accuracy: 0.7034\n",
      "Validation accuracy improved from 0.7015 to 0.7034. Saving best model...\n"
     ]
    },
    {
     "name": "stderr",
     "output_type": "stream",
     "text": [
      "                                                                                                \r"
     ]
    },
    {
     "name": "stdout",
     "output_type": "stream",
     "text": [
      "[Epoch 9] Train Loss: 2.9720, Accuracy: 0.6650\n"
     ]
    },
    {
     "name": "stderr",
     "output_type": "stream",
     "text": [
      "                                                                                 \r"
     ]
    },
    {
     "name": "stdout",
     "output_type": "stream",
     "text": [
      "[Epoch 9] Validation Accuracy: 0.7158\n",
      "Validation accuracy improved from 0.7034 to 0.7158. Saving best model...\n"
     ]
    },
    {
     "name": "stderr",
     "output_type": "stream",
     "text": [
      "                                                                                                 \r"
     ]
    },
    {
     "name": "stdout",
     "output_type": "stream",
     "text": [
      "[Epoch 10] Train Loss: 2.8594, Accuracy: 0.6715\n"
     ]
    },
    {
     "name": "stderr",
     "output_type": "stream",
     "text": [
      "                                                                                  \r"
     ]
    },
    {
     "name": "stdout",
     "output_type": "stream",
     "text": [
      "[Epoch 10] Validation Accuracy: 0.7300\n",
      "Validation accuracy improved from 0.7158 to 0.7300. Saving best model...\n"
     ]
    },
    {
     "name": "stderr",
     "output_type": "stream",
     "text": [
      "                                                                                                 \r"
     ]
    },
    {
     "name": "stdout",
     "output_type": "stream",
     "text": [
      "[Epoch 11] Train Loss: 2.7453, Accuracy: 0.6776\n"
     ]
    },
    {
     "name": "stderr",
     "output_type": "stream",
     "text": [
      "                                                                                  \r"
     ]
    },
    {
     "name": "stdout",
     "output_type": "stream",
     "text": [
      "[Epoch 11] Validation Accuracy: 0.7253\n"
     ]
    },
    {
     "name": "stderr",
     "output_type": "stream",
     "text": [
      "                                                                                                 \r"
     ]
    },
    {
     "name": "stdout",
     "output_type": "stream",
     "text": [
      "[Epoch 12] Train Loss: 2.6515, Accuracy: 0.6928\n"
     ]
    },
    {
     "name": "stderr",
     "output_type": "stream",
     "text": [
      "                                                                                  \r"
     ]
    },
    {
     "name": "stdout",
     "output_type": "stream",
     "text": [
      "[Epoch 12] Validation Accuracy: 0.7234\n"
     ]
    },
    {
     "name": "stderr",
     "output_type": "stream",
     "text": [
      "                                                                                                 \r"
     ]
    },
    {
     "name": "stdout",
     "output_type": "stream",
     "text": [
      "[Epoch 13] Train Loss: 2.5621, Accuracy: 0.6890\n"
     ]
    },
    {
     "name": "stderr",
     "output_type": "stream",
     "text": [
      "                                                                                  \r"
     ]
    },
    {
     "name": "stdout",
     "output_type": "stream",
     "text": [
      "[Epoch 13] Validation Accuracy: 0.7357\n",
      "Validation accuracy improved from 0.7300 to 0.7357. Saving best model...\n"
     ]
    },
    {
     "name": "stderr",
     "output_type": "stream",
     "text": [
      "                                                                                                 \r"
     ]
    },
    {
     "name": "stdout",
     "output_type": "stream",
     "text": [
      "[Epoch 14] Train Loss: 2.4684, Accuracy: 0.6941\n"
     ]
    },
    {
     "name": "stderr",
     "output_type": "stream",
     "text": [
      "                                                                                  \r"
     ]
    },
    {
     "name": "stdout",
     "output_type": "stream",
     "text": [
      "[Epoch 14] Validation Accuracy: 0.7510\n",
      "Validation accuracy improved from 0.7357 to 0.7510. Saving best model...\n"
     ]
    },
    {
     "name": "stderr",
     "output_type": "stream",
     "text": [
      "                                                                                                 \r"
     ]
    },
    {
     "name": "stdout",
     "output_type": "stream",
     "text": [
      "[Epoch 15] Train Loss: 2.3908, Accuracy: 0.6973\n"
     ]
    },
    {
     "name": "stderr",
     "output_type": "stream",
     "text": [
      "                                                                                  \r"
     ]
    },
    {
     "name": "stdout",
     "output_type": "stream",
     "text": [
      "[Epoch 15] Validation Accuracy: 0.7510\n"
     ]
    },
    {
     "name": "stderr",
     "output_type": "stream",
     "text": [
      "                                                                                                 \r"
     ]
    },
    {
     "name": "stdout",
     "output_type": "stream",
     "text": [
      "[Epoch 16] Train Loss: 2.3156, Accuracy: 0.7098\n"
     ]
    },
    {
     "name": "stderr",
     "output_type": "stream",
     "text": [
      "                                                                                  \r"
     ]
    },
    {
     "name": "stdout",
     "output_type": "stream",
     "text": [
      "[Epoch 16] Validation Accuracy: 0.7529\n",
      "Validation accuracy improved from 0.7510 to 0.7529. Saving best model...\n"
     ]
    },
    {
     "name": "stderr",
     "output_type": "stream",
     "text": [
      "                                                                                                 \r"
     ]
    },
    {
     "name": "stdout",
     "output_type": "stream",
     "text": [
      "[Epoch 17] Train Loss: 2.2419, Accuracy: 0.7127\n"
     ]
    },
    {
     "name": "stderr",
     "output_type": "stream",
     "text": [
      "                                                                                  \r"
     ]
    },
    {
     "name": "stdout",
     "output_type": "stream",
     "text": [
      "[Epoch 17] Validation Accuracy: 0.7557\n",
      "Validation accuracy improved from 0.7529 to 0.7557. Saving best model...\n"
     ]
    },
    {
     "name": "stderr",
     "output_type": "stream",
     "text": [
      "                                                                                                 \r"
     ]
    },
    {
     "name": "stdout",
     "output_type": "stream",
     "text": [
      "[Epoch 18] Train Loss: 2.1745, Accuracy: 0.7187\n"
     ]
    },
    {
     "name": "stderr",
     "output_type": "stream",
     "text": [
      "                                                                                  \r"
     ]
    },
    {
     "name": "stdout",
     "output_type": "stream",
     "text": [
      "[Epoch 18] Validation Accuracy: 0.7548\n"
     ]
    },
    {
     "name": "stderr",
     "output_type": "stream",
     "text": [
      "                                                                                                 \r"
     ]
    },
    {
     "name": "stdout",
     "output_type": "stream",
     "text": [
      "[Epoch 19] Train Loss: 2.1139, Accuracy: 0.7200\n"
     ]
    },
    {
     "name": "stderr",
     "output_type": "stream",
     "text": [
      "                                                                                  \r"
     ]
    },
    {
     "name": "stdout",
     "output_type": "stream",
     "text": [
      "[Epoch 19] Validation Accuracy: 0.7605\n",
      "Validation accuracy improved from 0.7557 to 0.7605. Saving best model...\n"
     ]
    },
    {
     "name": "stderr",
     "output_type": "stream",
     "text": [
      "                                                                                                 \r"
     ]
    },
    {
     "name": "stdout",
     "output_type": "stream",
     "text": [
      "[Epoch 20] Train Loss: 2.0507, Accuracy: 0.7301\n"
     ]
    },
    {
     "name": "stderr",
     "output_type": "stream",
     "text": [
      "                                                                                  \r"
     ]
    },
    {
     "name": "stdout",
     "output_type": "stream",
     "text": [
      "[Epoch 20] Validation Accuracy: 0.7709\n",
      "Validation accuracy improved from 0.7605 to 0.7709. Saving best model...\n"
     ]
    },
    {
     "name": "stderr",
     "output_type": "stream",
     "text": [
      "                                                                                                 \r"
     ]
    },
    {
     "name": "stdout",
     "output_type": "stream",
     "text": [
      "[Epoch 21] Train Loss: 1.9886, Accuracy: 0.7316\n"
     ]
    },
    {
     "name": "stderr",
     "output_type": "stream",
     "text": [
      "                                                                                  \r"
     ]
    },
    {
     "name": "stdout",
     "output_type": "stream",
     "text": [
      "[Epoch 21] Validation Accuracy: 0.7747\n",
      "Validation accuracy improved from 0.7709 to 0.7747. Saving best model...\n"
     ]
    },
    {
     "name": "stderr",
     "output_type": "stream",
     "text": [
      "                                                                                                 \r"
     ]
    },
    {
     "name": "stdout",
     "output_type": "stream",
     "text": [
      "[Epoch 22] Train Loss: 1.9452, Accuracy: 0.7275\n"
     ]
    },
    {
     "name": "stderr",
     "output_type": "stream",
     "text": [
      "                                                                                  \r"
     ]
    },
    {
     "name": "stdout",
     "output_type": "stream",
     "text": [
      "[Epoch 22] Validation Accuracy: 0.7709\n"
     ]
    },
    {
     "name": "stderr",
     "output_type": "stream",
     "text": [
      "                                                                                                 \r"
     ]
    },
    {
     "name": "stdout",
     "output_type": "stream",
     "text": [
      "[Epoch 23] Train Loss: 1.8976, Accuracy: 0.7346\n"
     ]
    },
    {
     "name": "stderr",
     "output_type": "stream",
     "text": [
      "                                                                                  \r"
     ]
    },
    {
     "name": "stdout",
     "output_type": "stream",
     "text": [
      "[Epoch 23] Validation Accuracy: 0.7842\n",
      "Validation accuracy improved from 0.7747 to 0.7842. Saving best model...\n"
     ]
    },
    {
     "name": "stderr",
     "output_type": "stream",
     "text": [
      "                                                                                                 \r"
     ]
    },
    {
     "name": "stdout",
     "output_type": "stream",
     "text": [
      "[Epoch 24] Train Loss: 1.8596, Accuracy: 0.7361\n"
     ]
    },
    {
     "name": "stderr",
     "output_type": "stream",
     "text": [
      "                                                                                  \r"
     ]
    },
    {
     "name": "stdout",
     "output_type": "stream",
     "text": [
      "[Epoch 24] Validation Accuracy: 0.7804\n"
     ]
    },
    {
     "name": "stderr",
     "output_type": "stream",
     "text": [
      "                                                                                                 \r"
     ]
    },
    {
     "name": "stdout",
     "output_type": "stream",
     "text": [
      "[Epoch 25] Train Loss: 1.8184, Accuracy: 0.7345\n"
     ]
    },
    {
     "name": "stderr",
     "output_type": "stream",
     "text": [
      "                                                                                  \r"
     ]
    },
    {
     "name": "stdout",
     "output_type": "stream",
     "text": [
      "[Epoch 25] Validation Accuracy: 0.7776\n"
     ]
    },
    {
     "name": "stderr",
     "output_type": "stream",
     "text": [
      "                                                                                                 \r"
     ]
    },
    {
     "name": "stdout",
     "output_type": "stream",
     "text": [
      "[Epoch 26] Train Loss: 1.7715, Accuracy: 0.7408\n"
     ]
    },
    {
     "name": "stderr",
     "output_type": "stream",
     "text": [
      "                                                                                  \r"
     ]
    },
    {
     "name": "stdout",
     "output_type": "stream",
     "text": [
      "[Epoch 26] Validation Accuracy: 0.7899\n",
      "Validation accuracy improved from 0.7842 to 0.7899. Saving best model...\n"
     ]
    },
    {
     "name": "stderr",
     "output_type": "stream",
     "text": [
      "                                                                                                 \r"
     ]
    },
    {
     "name": "stdout",
     "output_type": "stream",
     "text": [
      "[Epoch 27] Train Loss: 1.7423, Accuracy: 0.7405\n"
     ]
    },
    {
     "name": "stderr",
     "output_type": "stream",
     "text": [
      "                                                                                  \r"
     ]
    },
    {
     "name": "stdout",
     "output_type": "stream",
     "text": [
      "[Epoch 27] Validation Accuracy: 0.7928\n",
      "Validation accuracy improved from 0.7899 to 0.7928. Saving best model...\n"
     ]
    },
    {
     "name": "stderr",
     "output_type": "stream",
     "text": [
      "                                                                                                 \r"
     ]
    },
    {
     "name": "stdout",
     "output_type": "stream",
     "text": [
      "[Epoch 28] Train Loss: 1.7015, Accuracy: 0.7505\n"
     ]
    },
    {
     "name": "stderr",
     "output_type": "stream",
     "text": [
      "                                                                                  \r"
     ]
    },
    {
     "name": "stdout",
     "output_type": "stream",
     "text": [
      "[Epoch 28] Validation Accuracy: 0.8013\n",
      "Validation accuracy improved from 0.7928 to 0.8013. Saving best model...\n"
     ]
    },
    {
     "name": "stderr",
     "output_type": "stream",
     "text": [
      "                                                                                                 \r"
     ]
    },
    {
     "name": "stdout",
     "output_type": "stream",
     "text": [
      "[Epoch 29] Train Loss: 1.6647, Accuracy: 0.7530\n"
     ]
    },
    {
     "name": "stderr",
     "output_type": "stream",
     "text": [
      "                                                                                  \r"
     ]
    },
    {
     "name": "stdout",
     "output_type": "stream",
     "text": [
      "[Epoch 29] Validation Accuracy: 0.7956\n"
     ]
    },
    {
     "name": "stderr",
     "output_type": "stream",
     "text": [
      "                                                                                                 \r"
     ]
    },
    {
     "name": "stdout",
     "output_type": "stream",
     "text": [
      "[Epoch 30] Train Loss: 1.6452, Accuracy: 0.7485\n"
     ]
    },
    {
     "name": "stderr",
     "output_type": "stream",
     "text": [
      "                                                                                  \r"
     ]
    },
    {
     "name": "stdout",
     "output_type": "stream",
     "text": [
      "[Epoch 30] Validation Accuracy: 0.7975\n"
     ]
    },
    {
     "name": "stderr",
     "output_type": "stream",
     "text": [
      "                                                                                                 \r"
     ]
    },
    {
     "name": "stdout",
     "output_type": "stream",
     "text": [
      "[Epoch 31] Train Loss: 1.6027, Accuracy: 0.7569\n"
     ]
    },
    {
     "name": "stderr",
     "output_type": "stream",
     "text": [
      "                                                                                  \r"
     ]
    },
    {
     "name": "stdout",
     "output_type": "stream",
     "text": [
      "[Epoch 31] Validation Accuracy: 0.8032\n",
      "Validation accuracy improved from 0.8013 to 0.8032. Saving best model...\n"
     ]
    },
    {
     "name": "stderr",
     "output_type": "stream",
     "text": [
      "                                                                                                 \r"
     ]
    },
    {
     "name": "stdout",
     "output_type": "stream",
     "text": [
      "[Epoch 32] Train Loss: 1.5807, Accuracy: 0.7568\n"
     ]
    },
    {
     "name": "stderr",
     "output_type": "stream",
     "text": [
      "                                                                                  \r"
     ]
    },
    {
     "name": "stdout",
     "output_type": "stream",
     "text": [
      "[Epoch 32] Validation Accuracy: 0.7975\n"
     ]
    },
    {
     "name": "stderr",
     "output_type": "stream",
     "text": [
      "                                                                                                  \r"
     ]
    },
    {
     "name": "stdout",
     "output_type": "stream",
     "text": [
      "[Epoch 33] Train Loss: 1.5477, Accuracy: 0.7609\n"
     ]
    },
    {
     "name": "stderr",
     "output_type": "stream",
     "text": [
      "                                                                                  \r"
     ]
    },
    {
     "name": "stdout",
     "output_type": "stream",
     "text": [
      "[Epoch 33] Validation Accuracy: 0.8042\n",
      "Validation accuracy improved from 0.8032 to 0.8042. Saving best model...\n"
     ]
    },
    {
     "name": "stderr",
     "output_type": "stream",
     "text": [
      "                                                                                                 \r"
     ]
    },
    {
     "name": "stdout",
     "output_type": "stream",
     "text": [
      "[Epoch 34] Train Loss: 1.5287, Accuracy: 0.7588\n"
     ]
    },
    {
     "name": "stderr",
     "output_type": "stream",
     "text": [
      "                                                                                  \r"
     ]
    },
    {
     "name": "stdout",
     "output_type": "stream",
     "text": [
      "[Epoch 34] Validation Accuracy: 0.8118\n",
      "Validation accuracy improved from 0.8042 to 0.8118. Saving best model...\n"
     ]
    },
    {
     "name": "stderr",
     "output_type": "stream",
     "text": [
      "                                                                                                  \r"
     ]
    },
    {
     "name": "stdout",
     "output_type": "stream",
     "text": [
      "[Epoch 35] Train Loss: 1.5001, Accuracy: 0.7552\n"
     ]
    },
    {
     "name": "stderr",
     "output_type": "stream",
     "text": [
      "                                                                                  \r"
     ]
    },
    {
     "name": "stdout",
     "output_type": "stream",
     "text": [
      "[Epoch 35] Validation Accuracy: 0.8070\n"
     ]
    },
    {
     "name": "stderr",
     "output_type": "stream",
     "text": [
      "                                                                                                  \r"
     ]
    },
    {
     "name": "stdout",
     "output_type": "stream",
     "text": [
      "[Epoch 36] Train Loss: 1.4692, Accuracy: 0.7687\n"
     ]
    },
    {
     "name": "stderr",
     "output_type": "stream",
     "text": [
      "                                                                                  \r"
     ]
    },
    {
     "name": "stdout",
     "output_type": "stream",
     "text": [
      "[Epoch 36] Validation Accuracy: 0.8127\n",
      "Validation accuracy improved from 0.8118 to 0.8127. Saving best model...\n"
     ]
    },
    {
     "name": "stderr",
     "output_type": "stream",
     "text": [
      "                                                                                                  \r"
     ]
    },
    {
     "name": "stdout",
     "output_type": "stream",
     "text": [
      "[Epoch 37] Train Loss: 1.4631, Accuracy: 0.7581\n"
     ]
    },
    {
     "name": "stderr",
     "output_type": "stream",
     "text": [
      "                                                                                  \r"
     ]
    },
    {
     "name": "stdout",
     "output_type": "stream",
     "text": [
      "[Epoch 37] Validation Accuracy: 0.8051\n"
     ]
    },
    {
     "name": "stderr",
     "output_type": "stream",
     "text": [
      "                                                                                                  \r"
     ]
    },
    {
     "name": "stdout",
     "output_type": "stream",
     "text": [
      "[Epoch 38] Train Loss: 1.4326, Accuracy: 0.7674\n"
     ]
    },
    {
     "name": "stderr",
     "output_type": "stream",
     "text": [
      "                                                                                  \r"
     ]
    },
    {
     "name": "stdout",
     "output_type": "stream",
     "text": [
      "[Epoch 38] Validation Accuracy: 0.8165\n",
      "Validation accuracy improved from 0.8127 to 0.8165. Saving best model...\n"
     ]
    },
    {
     "name": "stderr",
     "output_type": "stream",
     "text": [
      "                                                                                                  \r"
     ]
    },
    {
     "name": "stdout",
     "output_type": "stream",
     "text": [
      "[Epoch 39] Train Loss: 1.4066, Accuracy: 0.7702\n"
     ]
    },
    {
     "name": "stderr",
     "output_type": "stream",
     "text": [
      "                                                                                  \r"
     ]
    },
    {
     "name": "stdout",
     "output_type": "stream",
     "text": [
      "[Epoch 39] Validation Accuracy: 0.8222\n",
      "Validation accuracy improved from 0.8165 to 0.8222. Saving best model...\n"
     ]
    },
    {
     "name": "stderr",
     "output_type": "stream",
     "text": [
      "                                                                                                  \r"
     ]
    },
    {
     "name": "stdout",
     "output_type": "stream",
     "text": [
      "[Epoch 40] Train Loss: 1.3929, Accuracy: 0.7728\n"
     ]
    },
    {
     "name": "stderr",
     "output_type": "stream",
     "text": [
      "                                                                                  \r"
     ]
    },
    {
     "name": "stdout",
     "output_type": "stream",
     "text": [
      "[Epoch 40] Validation Accuracy: 0.8080\n"
     ]
    },
    {
     "name": "stderr",
     "output_type": "stream",
     "text": [
      "                                                                                                  \r"
     ]
    },
    {
     "name": "stdout",
     "output_type": "stream",
     "text": [
      "[Epoch 41] Train Loss: 1.3725, Accuracy: 0.7763\n"
     ]
    },
    {
     "name": "stderr",
     "output_type": "stream",
     "text": [
      "                                                                                  \r"
     ]
    },
    {
     "name": "stdout",
     "output_type": "stream",
     "text": [
      "[Epoch 41] Validation Accuracy: 0.8127\n"
     ]
    },
    {
     "name": "stderr",
     "output_type": "stream",
     "text": [
      "                                                                                                  \r"
     ]
    },
    {
     "name": "stdout",
     "output_type": "stream",
     "text": [
      "[Epoch 42] Train Loss: 1.3522, Accuracy: 0.7791\n"
     ]
    },
    {
     "name": "stderr",
     "output_type": "stream",
     "text": [
      "                                                                                  \r"
     ]
    },
    {
     "name": "stdout",
     "output_type": "stream",
     "text": [
      "[Epoch 42] Validation Accuracy: 0.8146\n"
     ]
    },
    {
     "name": "stderr",
     "output_type": "stream",
     "text": [
      "                                                                                                  \r"
     ]
    },
    {
     "name": "stdout",
     "output_type": "stream",
     "text": [
      "[Epoch 43] Train Loss: 1.3468, Accuracy: 0.7773\n"
     ]
    },
    {
     "name": "stderr",
     "output_type": "stream",
     "text": [
      "                                                                                  \r"
     ]
    },
    {
     "name": "stdout",
     "output_type": "stream",
     "text": [
      "[Epoch 43] Validation Accuracy: 0.8118\n"
     ]
    },
    {
     "name": "stderr",
     "output_type": "stream",
     "text": [
      "                                                                                                  \r"
     ]
    },
    {
     "name": "stdout",
     "output_type": "stream",
     "text": [
      "[Epoch 44] Train Loss: 1.3459, Accuracy: 0.7757\n"
     ]
    },
    {
     "name": "stderr",
     "output_type": "stream",
     "text": [
      "                                                                                  \r"
     ]
    },
    {
     "name": "stdout",
     "output_type": "stream",
     "text": [
      "[Epoch 44] Validation Accuracy: 0.8203\n"
     ]
    },
    {
     "name": "stderr",
     "output_type": "stream",
     "text": [
      "                                                                                                  \r"
     ]
    },
    {
     "name": "stdout",
     "output_type": "stream",
     "text": [
      "[Epoch 45] Train Loss: 1.3426, Accuracy: 0.7751\n"
     ]
    },
    {
     "name": "stderr",
     "output_type": "stream",
     "text": [
      "                                                                                  \r"
     ]
    },
    {
     "name": "stdout",
     "output_type": "stream",
     "text": [
      "[Epoch 45] Validation Accuracy: 0.8241\n",
      "Validation accuracy improved from 0.8222 to 0.8241. Saving best model...\n"
     ]
    },
    {
     "name": "stderr",
     "output_type": "stream",
     "text": [
      "                                                                                                  \r"
     ]
    },
    {
     "name": "stdout",
     "output_type": "stream",
     "text": [
      "[Epoch 46] Train Loss: 1.3461, Accuracy: 0.7753\n"
     ]
    },
    {
     "name": "stderr",
     "output_type": "stream",
     "text": [
      "                                                                                  \r"
     ]
    },
    {
     "name": "stdout",
     "output_type": "stream",
     "text": [
      "[Epoch 46] Validation Accuracy: 0.8222\n"
     ]
    },
    {
     "name": "stderr",
     "output_type": "stream",
     "text": [
      "                                                                                                  \r"
     ]
    },
    {
     "name": "stdout",
     "output_type": "stream",
     "text": [
      "[Epoch 47] Train Loss: 1.3419, Accuracy: 0.7757\n"
     ]
    },
    {
     "name": "stderr",
     "output_type": "stream",
     "text": [
      "                                                                                  \r"
     ]
    },
    {
     "name": "stdout",
     "output_type": "stream",
     "text": [
      "[Epoch 47] Validation Accuracy: 0.8156\n"
     ]
    },
    {
     "name": "stderr",
     "output_type": "stream",
     "text": [
      "                                                                                                  \r"
     ]
    },
    {
     "name": "stdout",
     "output_type": "stream",
     "text": [
      "[Epoch 48] Train Loss: 1.3387, Accuracy: 0.7757\n"
     ]
    },
    {
     "name": "stderr",
     "output_type": "stream",
     "text": [
      "                                                                                  \r"
     ]
    },
    {
     "name": "stdout",
     "output_type": "stream",
     "text": [
      "[Epoch 48] Validation Accuracy: 0.8184\n"
     ]
    },
    {
     "name": "stderr",
     "output_type": "stream",
     "text": [
      "                                                                                                  \r"
     ]
    },
    {
     "name": "stdout",
     "output_type": "stream",
     "text": [
      "[Epoch 49] Train Loss: 1.3307, Accuracy: 0.7737\n"
     ]
    },
    {
     "name": "stderr",
     "output_type": "stream",
     "text": [
      "                                                                                  \r"
     ]
    },
    {
     "name": "stdout",
     "output_type": "stream",
     "text": [
      "[Epoch 49] Validation Accuracy: 0.8222\n"
     ]
    },
    {
     "name": "stderr",
     "output_type": "stream",
     "text": [
      "                                                                                                  \r"
     ]
    },
    {
     "name": "stdout",
     "output_type": "stream",
     "text": [
      "[Epoch 50] Train Loss: 1.3276, Accuracy: 0.7780\n"
     ]
    },
    {
     "name": "stderr",
     "output_type": "stream",
     "text": [
      "                                                                                  \r"
     ]
    },
    {
     "name": "stdout",
     "output_type": "stream",
     "text": [
      "[Epoch 50] Validation Accuracy: 0.8137\n"
     ]
    },
    {
     "name": "stderr",
     "output_type": "stream",
     "text": [
      "                                                                                                  \r"
     ]
    },
    {
     "name": "stdout",
     "output_type": "stream",
     "text": [
      "[Epoch 51] Train Loss: 1.3216, Accuracy: 0.7791\n"
     ]
    },
    {
     "name": "stderr",
     "output_type": "stream",
     "text": [
      "                                                                                  \r"
     ]
    },
    {
     "name": "stdout",
     "output_type": "stream",
     "text": [
      "[Epoch 51] Validation Accuracy: 0.8232\n"
     ]
    },
    {
     "name": "stderr",
     "output_type": "stream",
     "text": [
      "                                                                                                  \r"
     ]
    },
    {
     "name": "stdout",
     "output_type": "stream",
     "text": [
      "[Epoch 52] Train Loss: 1.3401, Accuracy: 0.7762\n"
     ]
    },
    {
     "name": "stderr",
     "output_type": "stream",
     "text": [
      "                                                                                  \r"
     ]
    },
    {
     "name": "stdout",
     "output_type": "stream",
     "text": [
      "[Epoch 52] Validation Accuracy: 0.8184\n"
     ]
    },
    {
     "name": "stderr",
     "output_type": "stream",
     "text": [
      "                                                                                                  \r"
     ]
    },
    {
     "name": "stdout",
     "output_type": "stream",
     "text": [
      "[Epoch 53] Train Loss: 1.3283, Accuracy: 0.7755\n"
     ]
    },
    {
     "name": "stderr",
     "output_type": "stream",
     "text": [
      "                                                                                  \r"
     ]
    },
    {
     "name": "stdout",
     "output_type": "stream",
     "text": [
      "[Epoch 53] Validation Accuracy: 0.8175\n"
     ]
    },
    {
     "name": "stderr",
     "output_type": "stream",
     "text": [
      "                                                                                                 \r"
     ]
    },
    {
     "ename": "KeyboardInterrupt",
     "evalue": "",
     "output_type": "error",
     "traceback": [
      "\u001b[31m---------------------------------------------------------------------------\u001b[39m",
      "\u001b[31mKeyboardInterrupt\u001b[39m                         Traceback (most recent call last)",
      "\u001b[36mCell\u001b[39m\u001b[36m \u001b[39m\u001b[32mIn[12]\u001b[39m\u001b[32m, line 114\u001b[39m\n\u001b[32m    110\u001b[39m best_val_acc = \u001b[32m0.0\u001b[39m \u001b[38;5;66;03m# Keep track of best validation accuracy for potential early stopping or saving best model\u001b[39;00m\n\u001b[32m    112\u001b[39m \u001b[38;5;28;01mfor\u001b[39;00m epoch \u001b[38;5;129;01min\u001b[39;00m \u001b[38;5;28mrange\u001b[39m(\u001b[32m1\u001b[39m, NUM_EPOCHS + \u001b[32m1\u001b[39m):\n\u001b[32m    113\u001b[39m     \u001b[38;5;66;03m# Train for one epoch\u001b[39;00m\n\u001b[32m--> \u001b[39m\u001b[32m114\u001b[39m     train_loss, train_acc = \u001b[43mtrain_one_epoch\u001b[49m\u001b[43m(\u001b[49m\u001b[43mepoch\u001b[49m\u001b[43m)\u001b[49m\n\u001b[32m    115\u001b[39m     train_losses.append(train_loss)\n\u001b[32m    116\u001b[39m     train_accuracies.append(train_acc)\n",
      "\u001b[36mCell\u001b[39m\u001b[36m \u001b[39m\u001b[32mIn[12]\u001b[39m\u001b[32m, line 30\u001b[39m, in \u001b[36mtrain_one_epoch\u001b[39m\u001b[34m(epoch_num)\u001b[39m\n\u001b[32m     25\u001b[39m scaler.scale(loss).backward()\n\u001b[32m     27\u001b[39m \u001b[38;5;66;03m# scaler.step() first unscales the gradients of the optimizer's assigned params.\u001b[39;00m\n\u001b[32m     28\u001b[39m \u001b[38;5;66;03m# If these gradients do not contain infs or NaNs, optimizer.step() is then called.\u001b[39;00m\n\u001b[32m     29\u001b[39m \u001b[38;5;66;03m# Otherwise, optimizer.step() is skipped.\u001b[39;00m\n\u001b[32m---> \u001b[39m\u001b[32m30\u001b[39m \u001b[43mscaler\u001b[49m\u001b[43m.\u001b[49m\u001b[43mstep\u001b[49m\u001b[43m(\u001b[49m\u001b[43moptimizer\u001b[49m\u001b[43m)\u001b[49m\n\u001b[32m     32\u001b[39m \u001b[38;5;66;03m# Updates the scale for next iteration.\u001b[39;00m\n\u001b[32m     33\u001b[39m scaler.update()\n",
      "\u001b[36mFile \u001b[39m\u001b[32mc:\\Work\\Garbage_classification\\food-recognition\\food-recognition\\env\\Lib\\site-packages\\torch\\amp\\grad_scaler.py:457\u001b[39m, in \u001b[36mGradScaler.step\u001b[39m\u001b[34m(self, optimizer, *args, **kwargs)\u001b[39m\n\u001b[32m    451\u001b[39m     \u001b[38;5;28mself\u001b[39m.unscale_(optimizer)\n\u001b[32m    453\u001b[39m \u001b[38;5;28;01massert\u001b[39;00m (\n\u001b[32m    454\u001b[39m     \u001b[38;5;28mlen\u001b[39m(optimizer_state[\u001b[33m\"\u001b[39m\u001b[33mfound_inf_per_device\u001b[39m\u001b[33m\"\u001b[39m]) > \u001b[32m0\u001b[39m\n\u001b[32m    455\u001b[39m ), \u001b[33m\"\u001b[39m\u001b[33mNo inf checks were recorded for this optimizer.\u001b[39m\u001b[33m\"\u001b[39m\n\u001b[32m--> \u001b[39m\u001b[32m457\u001b[39m retval = \u001b[38;5;28;43mself\u001b[39;49m\u001b[43m.\u001b[49m\u001b[43m_maybe_opt_step\u001b[49m\u001b[43m(\u001b[49m\u001b[43moptimizer\u001b[49m\u001b[43m,\u001b[49m\u001b[43m \u001b[49m\u001b[43moptimizer_state\u001b[49m\u001b[43m,\u001b[49m\u001b[43m \u001b[49m\u001b[43m*\u001b[49m\u001b[43margs\u001b[49m\u001b[43m,\u001b[49m\u001b[43m \u001b[49m\u001b[43m*\u001b[49m\u001b[43m*\u001b[49m\u001b[43mkwargs\u001b[49m\u001b[43m)\u001b[49m\n\u001b[32m    459\u001b[39m optimizer_state[\u001b[33m\"\u001b[39m\u001b[33mstage\u001b[39m\u001b[33m\"\u001b[39m] = OptState.STEPPED\n\u001b[32m    461\u001b[39m \u001b[38;5;28;01mreturn\u001b[39;00m retval\n",
      "\u001b[36mFile \u001b[39m\u001b[32mc:\\Work\\Garbage_classification\\food-recognition\\food-recognition\\env\\Lib\\site-packages\\torch\\amp\\grad_scaler.py:351\u001b[39m, in \u001b[36mGradScaler._maybe_opt_step\u001b[39m\u001b[34m(self, optimizer, optimizer_state, *args, **kwargs)\u001b[39m\n\u001b[32m    343\u001b[39m \u001b[38;5;28;01mdef\u001b[39;00m\u001b[38;5;250m \u001b[39m\u001b[34m_maybe_opt_step\u001b[39m(\n\u001b[32m    344\u001b[39m     \u001b[38;5;28mself\u001b[39m,\n\u001b[32m    345\u001b[39m     optimizer: torch.optim.Optimizer,\n\u001b[32m   (...)\u001b[39m\u001b[32m    348\u001b[39m     **kwargs: Any,\n\u001b[32m    349\u001b[39m ) -> Optional[\u001b[38;5;28mfloat\u001b[39m]:\n\u001b[32m    350\u001b[39m     retval: Optional[\u001b[38;5;28mfloat\u001b[39m] = \u001b[38;5;28;01mNone\u001b[39;00m\n\u001b[32m--> \u001b[39m\u001b[32m351\u001b[39m     \u001b[38;5;28;01mif\u001b[39;00m \u001b[38;5;129;01mnot\u001b[39;00m \u001b[38;5;28msum\u001b[39m(v.item() \u001b[38;5;28;01mfor\u001b[39;00m v \u001b[38;5;129;01min\u001b[39;00m optimizer_state[\u001b[33m\"\u001b[39m\u001b[33mfound_inf_per_device\u001b[39m\u001b[33m\"\u001b[39m].values()):\n\u001b[32m    352\u001b[39m         retval = optimizer.step(*args, **kwargs)\n\u001b[32m    353\u001b[39m     \u001b[38;5;28;01mreturn\u001b[39;00m retval\n",
      "\u001b[36mFile \u001b[39m\u001b[32mc:\\Work\\Garbage_classification\\food-recognition\\food-recognition\\env\\Lib\\site-packages\\torch\\amp\\grad_scaler.py:351\u001b[39m, in \u001b[36m<genexpr>\u001b[39m\u001b[34m(.0)\u001b[39m\n\u001b[32m    343\u001b[39m \u001b[38;5;28;01mdef\u001b[39;00m\u001b[38;5;250m \u001b[39m\u001b[34m_maybe_opt_step\u001b[39m(\n\u001b[32m    344\u001b[39m     \u001b[38;5;28mself\u001b[39m,\n\u001b[32m    345\u001b[39m     optimizer: torch.optim.Optimizer,\n\u001b[32m   (...)\u001b[39m\u001b[32m    348\u001b[39m     **kwargs: Any,\n\u001b[32m    349\u001b[39m ) -> Optional[\u001b[38;5;28mfloat\u001b[39m]:\n\u001b[32m    350\u001b[39m     retval: Optional[\u001b[38;5;28mfloat\u001b[39m] = \u001b[38;5;28;01mNone\u001b[39;00m\n\u001b[32m--> \u001b[39m\u001b[32m351\u001b[39m     \u001b[38;5;28;01mif\u001b[39;00m \u001b[38;5;129;01mnot\u001b[39;00m \u001b[38;5;28msum\u001b[39m(\u001b[43mv\u001b[49m\u001b[43m.\u001b[49m\u001b[43mitem\u001b[49m\u001b[43m(\u001b[49m\u001b[43m)\u001b[49m \u001b[38;5;28;01mfor\u001b[39;00m v \u001b[38;5;129;01min\u001b[39;00m optimizer_state[\u001b[33m\"\u001b[39m\u001b[33mfound_inf_per_device\u001b[39m\u001b[33m\"\u001b[39m].values()):\n\u001b[32m    352\u001b[39m         retval = optimizer.step(*args, **kwargs)\n\u001b[32m    353\u001b[39m     \u001b[38;5;28;01mreturn\u001b[39;00m retval\n",
      "\u001b[31mKeyboardInterrupt\u001b[39m: "
     ]
    }
   ],
   "source": [
    "# Lists to store metrics for plotting\n",
    "train_losses, val_accuracies, train_accuracies = [], [], []\n",
    "NUM_EPOCHS = 100\n",
    "\n",
    "# --- Training Function ---\n",
    "def train_one_epoch(epoch_num):\n",
    "    model.train() # Set model to training mode\n",
    "    running_loss = 0.0\n",
    "    correct_predictions = 0\n",
    "    total_samples = 0\n",
    "\n",
    "    progress_bar = tqdm(train_loader, desc=f\"Epoch {epoch_num}/{NUM_EPOCHS} [Training]\", leave=False)\n",
    "\n",
    "    for inputs, labels in progress_bar:\n",
    "        inputs, labels = inputs.to(DEVICE), labels.to(DEVICE)\n",
    "\n",
    "        optimizer.zero_grad()\n",
    "\n",
    "        # Use autocast only if on CUDA\n",
    "        with autocast('cuda'):\n",
    "            outputs = model(inputs)\n",
    "            loss = criterion(outputs, labels)\n",
    "\n",
    "        # Scales loss. Calls backward() on scaled loss to create scaled gradients.\n",
    "        scaler.scale(loss).backward()\n",
    "\n",
    "        # scaler.step() first unscales the gradients of the optimizer's assigned params.\n",
    "        # If these gradients do not contain infs or NaNs, optimizer.step() is then called.\n",
    "        # Otherwise, optimizer.step() is skipped.\n",
    "        scaler.step(optimizer)\n",
    "\n",
    "        # Updates the scale for next iteration.\n",
    "        scaler.update()\n",
    "\n",
    "        running_loss += loss.item() * inputs.size(0) # Accumulate loss correctly\n",
    "        _, predicted = torch.max(outputs.data, 1)\n",
    "        total_samples += labels.size(0)\n",
    "        correct_predictions += (predicted == labels).sum().item()\n",
    "\n",
    "        # Update progress bar postfix\n",
    "        batch_acc = (predicted == labels).sum().item() / labels.size(0)\n",
    "        progress_bar.set_postfix(loss=loss.item(), acc=f\"{batch_acc:.4f}\")\n",
    "\n",
    "    epoch_loss = running_loss / total_samples\n",
    "    epoch_acc = correct_predictions / total_samples\n",
    "    print(f\"[Epoch {epoch_num}] Train Loss: {epoch_loss:.4f}, Accuracy: {epoch_acc:.4f}\")\n",
    "    return epoch_loss, epoch_acc\n",
    "\n",
    "# --- Validation Function ---\n",
    "@torch.no_grad() # No need to track gradients during evaluation\n",
    "def evaluate(data_loader, epoch_num=None, phase=\"Validation\"):\n",
    "    model.eval() # Set model to evaluation mode\n",
    "    correct_predictions = 0\n",
    "    total_samples = 0\n",
    "\n",
    "    desc = f\"Epoch {epoch_num if epoch_num else '?'} [{phase}]\"\n",
    "    progress_bar = tqdm(data_loader, desc=desc, leave=False)\n",
    "\n",
    "    for inputs, labels in progress_bar:\n",
    "        inputs, labels = inputs.to(DEVICE), labels.to(DEVICE)\n",
    "\n",
    "        # Use autocast for potential speedup even during inference on CUDA\n",
    "        with autocast(\"cuda\"):\n",
    "            outputs = model(inputs)\n",
    "\n",
    "        _, predicted = torch.max(outputs.data, 1)\n",
    "        total_samples += labels.size(0)\n",
    "        correct_predictions += (predicted == labels).sum().item()\n",
    "        batch_acc = (predicted == labels).sum().item() / labels.size(0)\n",
    "        progress_bar.set_postfix(acc=f\"{batch_acc:.4f}\")\n",
    "\n",
    "\n",
    "    accuracy = correct_predictions / total_samples\n",
    "    print(f\"[Epoch {epoch_num if epoch_num else 'Final'}] {phase} Accuracy: {accuracy:.4f}\")\n",
    "    return accuracy\n",
    "\n",
    "# --- Plotting Function ---\n",
    "def plot_metrics():\n",
    "    epochs_range = range(1, len(train_losses) + 1)\n",
    "    plt.figure(figsize=(12, 5))\n",
    "\n",
    "    # Plot Training Loss\n",
    "    plt.subplot(1, 2, 1)\n",
    "    plt.plot(epochs_range, train_losses, label='Train Loss', marker='o', linestyle='-', color='r')\n",
    "    plt.xlabel('Epoch')\n",
    "    plt.ylabel('Loss')\n",
    "    plt.title('Training Loss over Epochs')\n",
    "    plt.legend()\n",
    "    plt.grid(True)\n",
    "\n",
    "    # Plot Training and Validation Accuracy\n",
    "    plt.subplot(1, 2, 2)\n",
    "    plt.plot(epochs_range, train_accuracies, label='Train Accuracy', marker='o', linestyle='-', color='b')\n",
    "    plt.plot(epochs_range, val_accuracies, label='Validation Accuracy', marker='s', linestyle='--', color='g')\n",
    "    plt.xlabel('Epoch')\n",
    "    plt.ylabel('Accuracy')\n",
    "    plt.title('Training & Validation Accuracy over Epochs')\n",
    "    plt.legend()\n",
    "    plt.grid(True)\n",
    "\n",
    "    plt.tight_layout() # Adjust layout to prevent overlapping titles/labels\n",
    "    plt.savefig(\"training_validation_metrics.png\") # Save the plot\n",
    "    print(\"Metrics plot saved as training_validation_metrics.png\")\n",
    "    plt.show() # Display the plot\n",
    "\n",
    "# --- Main Execution ---\n",
    "print(\"\\n--- Starting Training ---\")\n",
    "start_time = time.time()\n",
    "\n",
    "best_val_acc = 0.0 # Keep track of best validation accuracy for potential early stopping or saving best model\n",
    "\n",
    "for epoch in range(1, NUM_EPOCHS + 1):\n",
    "    # Train for one epoch\n",
    "    train_loss, train_acc = train_one_epoch(epoch)\n",
    "    train_losses.append(train_loss)\n",
    "    train_accuracies.append(train_acc)\n",
    "\n",
    "    # Evaluate on validation set\n",
    "    val_acc = evaluate(val_loader, epoch_num=epoch, phase=\"Validation\")\n",
    "    val_accuracies.append(val_acc)\n",
    "\n",
    "    # Optional: Implement learning rate scheduling based on validation loss/accuracy\n",
    "    if scheduler: \n",
    "        scheduler.step(val_acc) # Or val_acc if using ReduceLROnPlateau with mode='max'\n",
    "\n",
    "    # Optional: Save the model checkpoint if it has the best validation accuracy so far\n",
    "    if val_acc > best_val_acc:\n",
    "        print(f\"Validation accuracy improved from {best_val_acc:.4f} to {val_acc:.4f}. Saving best model...\")\n",
    "        best_val_acc = val_acc\n",
    "        torch.save(model.state_dict(), 'best_model.pth')\n",
    "\n",
    "\n",
    "end_time = time.time()\n",
    "print(f\"\\n--- Training Finished ---\")\n",
    "print(f\"Total Training Time: {(end_time - start_time) / 60:.2f} minutes\")\n",
    "\n",
    "# --- Plot Training and Validation Metrics ---\n",
    "print(\"\\n--- Plotting Metrics ---\")\n",
    "plot_metrics()\n",
    "\n",
    "# --- Testing the Model ---\n",
    "print(\"\\n--- Evaluating on Test Set ---\")\n",
    "# Option 1: Evaluate the final model after all epochs\n",
    "# test_accuracy = evaluate(test_loader, phase=\"Testing\")\n",
    "\n",
    "# Option 2: Load the best model (based on validation accuracy) and test that\n",
    "print(\"Loading best model weights for final testing...\")\n",
    "try:\n",
    "    model.load_state_dict(torch.load('best_model.pth', map_location=DEVICE))\n",
    "    test_accuracy = evaluate(test_loader, phase=\"Testing (Best Model)\")\n",
    "    print(f\"\\nFinal Test Accuracy (Best Model): {test_accuracy:.4f}\")\n",
    "except FileNotFoundError:\n",
    "    print(\"Warning: 'best_model.pth' not found. Testing the model from the final epoch.\")\n",
    "    test_accuracy = evaluate(test_loader, phase=\"Testing (Final Epoch Model)\")\n",
    "    print(f\"\\nFinal Test Accuracy (Final Epoch Model): {test_accuracy:.4f}\")"
   ]
  },
  {
   "cell_type": "markdown",
   "id": "f185e6a7",
   "metadata": {},
   "source": [
    "#### Full nodular training script"
   ]
  },
  {
   "cell_type": "code",
   "execution_count": null,
   "id": "31b983bd",
   "metadata": {},
   "outputs": [
    {
     "name": "stdout",
     "output_type": "stream",
     "text": [
      "Using GPU: NVIDIA GeForce RTX 4060 Laptop GPU\n",
      "Train Transforms: Compose(\n",
      "    RandomResizedCrop(size=(384, 384), scale=(0.8, 1.0), ratio=(0.75, 1.3333), interpolation=bilinear, antialias=True)\n",
      "    RandomHorizontalFlip(p=0.5)\n",
      "    RandomRotation(degrees=[-15.0, 15.0], interpolation=nearest, expand=False, fill=0)\n",
      "    ToTensor()\n",
      "    Normalize(mean=[0.485, 0.456, 0.406], std=[0.229, 0.224, 0.225])\n",
      "    RandomErasing(p=0.2, scale=(0.02, 0.1), ratio=(0.3, 3.3), value=0, inplace=False)\n",
      ")\n",
      "Val/Test Transforms: ImageClassification(\n",
      "    crop_size=[380]\n",
      "    resize_size=[384]\n",
      "    mean=[0.485, 0.456, 0.406]\n",
      "    std=[0.229, 0.224, 0.225]\n",
      "    interpolation=InterpolationMode.BICUBIC\n",
      ")\n",
      "Loading datasets...\n",
      "Found 67 classes: ['Apple', 'Artichoke', 'Balaleet', 'Bamya', 'Banana', 'Basbousa', 'Bell pepper', 'Broccoli', 'Burger', 'Carrot', 'Crab', 'Cucumber', 'Dajaj_Mahshi', 'Dates_with_tahini', 'Fattoush', 'Fries', 'Gers_Ogaily', 'Grape', 'Harees', 'Hot Dog', 'Hummus', 'Jireesh', 'Kebab', 'Kubba', 'Labneh', 'Lentil_soup', 'Lentil_stew', 'Lobster', 'Luqaimat', 'Majboos_Dajaj', 'Mallooba(Maqluba)', 'Modas_rice', 'Molokhia', 'Muhammara', 'Murabyan', 'Musakhan_Chicken', 'Orange (fruit)', 'Oyster', 'Peach', 'Pear', 'Pineapple', 'Pizza', 'Plain_white_rice', 'Pomegranate', 'Potato', 'Pumpkin', 'Radish', 'Red_tea_with_mint_or_saffron', 'Saffron', 'Samosa', 'Sandwich', 'Shrimp', 'Strawberry', 'Tabouleh', 'Taco', 'Tahini', 'Tamarind_juice', 'Tamria(Tamriyeh)', 'Tea_with_milk', 'Warak_Enab', 'Watermelon', 'Zaatar', 'bread', 'khabeesa', 'laban_drink', 'om_ali', 'rice_with_meat']\n",
      "Class mapping saved to: class_mapping.json\n",
      "Train samples: 7981, Val samples: 1052, Test samples: 1364\n",
      "DataLoaders created.\n",
      "Calculating class weights...\n",
      "Class weights calculated (first 5): tensor([0.8570, 1.5470, 1.2809, 0.8103, 0.8759], device='cuda:0')\n",
      "Loading efficientnet_b4 model...\n"
     ]
    },
    {
     "name": "stderr",
     "output_type": "stream",
     "text": [
      "c:\\Work\\Garbage_classification\\food-recognition\\food-recognition\\env\\Lib\\site-packages\\torch\\optim\\lr_scheduler.py:62: UserWarning: The verbose parameter is deprecated. Please use get_last_lr() to access the learning rate.\n",
      "  warnings.warn(\n"
     ]
    },
    {
     "name": "stdout",
     "output_type": "stream",
     "text": [
      "Freezing backbone layers...\n",
      "Model classifier replaced.\n",
      "Trainable parameters after modification:\n",
      "- classifier.1.weight\n",
      "- classifier.1.bias\n",
      "Defining Loss function...\n",
      "Using Weighted CrossEntropyLoss.\n",
      "Defining Optimizer and Scheduler...\n",
      "Optimizer: AdamW (LR=0.0001, WD=0.05)\n",
      "Scheduler: ReduceLROnPlateau (Factor=0.1, Patience=3, Mode=max)\n",
      "Mixed precision enabled: True\n",
      "\n",
      "--- Starting Training ---\n"
     ]
    },
    {
     "name": "stderr",
     "output_type": "stream",
     "text": [
      "                                                                                                 \r"
     ]
    },
    {
     "name": "stdout",
     "output_type": "stream",
     "text": [
      "[Epoch 1] Train Loss: 4.1425, Accuracy: 0.1463\n"
     ]
    },
    {
     "name": "stderr",
     "output_type": "stream",
     "text": [
      "                                                                                 \r"
     ]
    },
    {
     "name": "stdout",
     "output_type": "stream",
     "text": [
      "[Epoch 1] Validation Loss: 4.0690, Accuracy: 0.4829\n",
      "Validation accuracy improved from 0.0000 to 0.4829. Saving best model to best_efficientnet_b4.pth...\n"
     ]
    },
    {
     "name": "stderr",
     "output_type": "stream",
     "text": [
      "                                                                                                 \r"
     ]
    },
    {
     "name": "stdout",
     "output_type": "stream",
     "text": [
      "[Epoch 2] Train Loss: 4.0085, Accuracy: 0.4667\n"
     ]
    },
    {
     "name": "stderr",
     "output_type": "stream",
     "text": [
      "                                                                                 \r"
     ]
    },
    {
     "name": "stdout",
     "output_type": "stream",
     "text": [
      "[Epoch 2] Validation Loss: 3.9394, Accuracy: 0.6188\n",
      "Validation accuracy improved from 0.4829 to 0.6188. Saving best model to best_efficientnet_b4.pth...\n"
     ]
    },
    {
     "name": "stderr",
     "output_type": "stream",
     "text": [
      "                                                                                                 \r"
     ]
    },
    {
     "name": "stdout",
     "output_type": "stream",
     "text": [
      "[Epoch 3] Train Loss: 3.8798, Accuracy: 0.5845\n"
     ]
    },
    {
     "name": "stderr",
     "output_type": "stream",
     "text": [
      "                                                                                 \r"
     ]
    },
    {
     "name": "stdout",
     "output_type": "stream",
     "text": [
      "[Epoch 3] Validation Loss: 3.8119, Accuracy: 0.6521\n",
      "Validation accuracy improved from 0.6188 to 0.6521. Saving best model to best_efficientnet_b4.pth...\n"
     ]
    },
    {
     "name": "stderr",
     "output_type": "stream",
     "text": [
      "                                                                                                 \r"
     ]
    },
    {
     "name": "stdout",
     "output_type": "stream",
     "text": [
      "[Epoch 4] Train Loss: 3.7527, Accuracy: 0.6345\n"
     ]
    },
    {
     "name": "stderr",
     "output_type": "stream",
     "text": [
      "                                                                                 \r"
     ]
    },
    {
     "name": "stdout",
     "output_type": "stream",
     "text": [
      "[Epoch 4] Validation Loss: 3.6922, Accuracy: 0.6683\n",
      "Validation accuracy improved from 0.6521 to 0.6683. Saving best model to best_efficientnet_b4.pth...\n"
     ]
    },
    {
     "name": "stderr",
     "output_type": "stream",
     "text": [
      "                                                                                                 \r"
     ]
    },
    {
     "name": "stdout",
     "output_type": "stream",
     "text": [
      "[Epoch 5] Train Loss: 3.6330, Accuracy: 0.6592\n"
     ]
    },
    {
     "name": "stderr",
     "output_type": "stream",
     "text": [
      "                                                                                 \r"
     ]
    },
    {
     "name": "stdout",
     "output_type": "stream",
     "text": [
      "[Epoch 5] Validation Loss: 3.5657, Accuracy: 0.6930\n",
      "Validation accuracy improved from 0.6683 to 0.6930. Saving best model to best_efficientnet_b4.pth...\n"
     ]
    },
    {
     "name": "stderr",
     "output_type": "stream",
     "text": [
      "                                                                                                 \r"
     ]
    },
    {
     "name": "stdout",
     "output_type": "stream",
     "text": [
      "[Epoch 6] Train Loss: 3.5177, Accuracy: 0.6707\n"
     ]
    },
    {
     "name": "stderr",
     "output_type": "stream",
     "text": [
      "                                                                                 \r"
     ]
    },
    {
     "name": "stdout",
     "output_type": "stream",
     "text": [
      "[Epoch 6] Validation Loss: 3.4520, Accuracy: 0.6987\n",
      "Validation accuracy improved from 0.6930 to 0.6987. Saving best model to best_efficientnet_b4.pth...\n"
     ]
    },
    {
     "name": "stderr",
     "output_type": "stream",
     "text": [
      "                                                                                                 \r"
     ]
    },
    {
     "name": "stdout",
     "output_type": "stream",
     "text": [
      "[Epoch 7] Train Loss: 3.4015, Accuracy: 0.6895\n"
     ]
    },
    {
     "name": "stderr",
     "output_type": "stream",
     "text": [
      "                                                                                 \r"
     ]
    },
    {
     "name": "stdout",
     "output_type": "stream",
     "text": [
      "[Epoch 7] Validation Loss: 3.3434, Accuracy: 0.6987\n"
     ]
    },
    {
     "name": "stderr",
     "output_type": "stream",
     "text": [
      "                                                                                                 \r"
     ]
    },
    {
     "name": "stdout",
     "output_type": "stream",
     "text": [
      "[Epoch 8] Train Loss: 3.2976, Accuracy: 0.6933\n"
     ]
    },
    {
     "name": "stderr",
     "output_type": "stream",
     "text": [
      "                                                                                 \r"
     ]
    },
    {
     "name": "stdout",
     "output_type": "stream",
     "text": [
      "[Epoch 8] Validation Loss: 3.2409, Accuracy: 0.7063\n",
      "Validation accuracy improved from 0.6987 to 0.7063. Saving best model to best_efficientnet_b4.pth...\n"
     ]
    },
    {
     "name": "stderr",
     "output_type": "stream",
     "text": [
      "                                                                                                 \r"
     ]
    },
    {
     "name": "stdout",
     "output_type": "stream",
     "text": [
      "[Epoch 9] Train Loss: 3.1899, Accuracy: 0.6968\n"
     ]
    },
    {
     "name": "stderr",
     "output_type": "stream",
     "text": [
      "                                                                                 \r"
     ]
    },
    {
     "name": "stdout",
     "output_type": "stream",
     "text": [
      "[Epoch 9] Validation Loss: 3.1350, Accuracy: 0.7082\n",
      "Validation accuracy improved from 0.7063 to 0.7082. Saving best model to best_efficientnet_b4.pth...\n"
     ]
    },
    {
     "name": "stderr",
     "output_type": "stream",
     "text": [
      "                                                                                                  \r"
     ]
    },
    {
     "name": "stdout",
     "output_type": "stream",
     "text": [
      "[Epoch 10] Train Loss: 3.0875, Accuracy: 0.7068\n"
     ]
    },
    {
     "name": "stderr",
     "output_type": "stream",
     "text": [
      "                                                                                  \r"
     ]
    },
    {
     "name": "stdout",
     "output_type": "stream",
     "text": [
      "[Epoch 10] Validation Loss: 3.0336, Accuracy: 0.7186\n",
      "Validation accuracy improved from 0.7082 to 0.7186. Saving best model to best_efficientnet_b4.pth...\n"
     ]
    },
    {
     "name": "stderr",
     "output_type": "stream",
     "text": [
      "                                                                                                  \r"
     ]
    },
    {
     "name": "stdout",
     "output_type": "stream",
     "text": [
      "[Epoch 11] Train Loss: 2.9951, Accuracy: 0.7097\n"
     ]
    },
    {
     "name": "stderr",
     "output_type": "stream",
     "text": [
      "                                                                                  \r"
     ]
    },
    {
     "name": "stdout",
     "output_type": "stream",
     "text": [
      "[Epoch 11] Validation Loss: 2.9377, Accuracy: 0.7224\n",
      "Validation accuracy improved from 0.7186 to 0.7224. Saving best model to best_efficientnet_b4.pth...\n"
     ]
    },
    {
     "name": "stderr",
     "output_type": "stream",
     "text": [
      "                                                                                                  \r"
     ]
    },
    {
     "name": "stdout",
     "output_type": "stream",
     "text": [
      "[Epoch 12] Train Loss: 2.8932, Accuracy: 0.7192\n"
     ]
    },
    {
     "name": "stderr",
     "output_type": "stream",
     "text": [
      "                                                                                  \r"
     ]
    },
    {
     "name": "stdout",
     "output_type": "stream",
     "text": [
      "[Epoch 12] Validation Loss: 2.8306, Accuracy: 0.7262\n",
      "Validation accuracy improved from 0.7224 to 0.7262. Saving best model to best_efficientnet_b4.pth...\n"
     ]
    },
    {
     "name": "stderr",
     "output_type": "stream",
     "text": [
      "                                                                                                  \r"
     ]
    },
    {
     "name": "stdout",
     "output_type": "stream",
     "text": [
      "[Epoch 13] Train Loss: 2.8067, Accuracy: 0.7250\n"
     ]
    },
    {
     "name": "stderr",
     "output_type": "stream",
     "text": [
      "                                                                                  \r"
     ]
    },
    {
     "name": "stdout",
     "output_type": "stream",
     "text": [
      "[Epoch 13] Validation Loss: 2.7468, Accuracy: 0.7253\n"
     ]
    },
    {
     "name": "stderr",
     "output_type": "stream",
     "text": [
      "                                                                                                  \r"
     ]
    },
    {
     "name": "stdout",
     "output_type": "stream",
     "text": [
      "[Epoch 14] Train Loss: 2.7225, Accuracy: 0.7307\n"
     ]
    },
    {
     "name": "stderr",
     "output_type": "stream",
     "text": [
      "                                                                                  \r"
     ]
    },
    {
     "name": "stdout",
     "output_type": "stream",
     "text": [
      "[Epoch 14] Validation Loss: 2.6638, Accuracy: 0.7319\n",
      "Validation accuracy improved from 0.7262 to 0.7319. Saving best model to best_efficientnet_b4.pth...\n"
     ]
    },
    {
     "name": "stderr",
     "output_type": "stream",
     "text": [
      "                                                                                                  \r"
     ]
    },
    {
     "name": "stdout",
     "output_type": "stream",
     "text": [
      "[Epoch 15] Train Loss: 2.6404, Accuracy: 0.7350\n"
     ]
    },
    {
     "name": "stderr",
     "output_type": "stream",
     "text": [
      "                                                                                  \r"
     ]
    },
    {
     "name": "stdout",
     "output_type": "stream",
     "text": [
      "[Epoch 15] Validation Loss: 2.6038, Accuracy: 0.7319\n"
     ]
    },
    {
     "name": "stderr",
     "output_type": "stream",
     "text": [
      "                                                                                                  \r"
     ]
    },
    {
     "name": "stdout",
     "output_type": "stream",
     "text": [
      "[Epoch 16] Train Loss: 2.5669, Accuracy: 0.7354\n"
     ]
    },
    {
     "name": "stderr",
     "output_type": "stream",
     "text": [
      "                                                                                  \r"
     ]
    },
    {
     "name": "stdout",
     "output_type": "stream",
     "text": [
      "[Epoch 16] Validation Loss: 2.5210, Accuracy: 0.7395\n",
      "Validation accuracy improved from 0.7319 to 0.7395. Saving best model to best_efficientnet_b4.pth...\n"
     ]
    },
    {
     "name": "stderr",
     "output_type": "stream",
     "text": [
      "                                                                                                  \r"
     ]
    },
    {
     "name": "stdout",
     "output_type": "stream",
     "text": [
      "[Epoch 17] Train Loss: 2.4871, Accuracy: 0.7403\n"
     ]
    },
    {
     "name": "stderr",
     "output_type": "stream",
     "text": [
      "                                                                                  \r"
     ]
    },
    {
     "name": "stdout",
     "output_type": "stream",
     "text": [
      "[Epoch 17] Validation Loss: 2.4420, Accuracy: 0.7452\n",
      "Validation accuracy improved from 0.7395 to 0.7452. Saving best model to best_efficientnet_b4.pth...\n"
     ]
    },
    {
     "name": "stderr",
     "output_type": "stream",
     "text": [
      "                                                                                                  \r"
     ]
    },
    {
     "name": "stdout",
     "output_type": "stream",
     "text": [
      "[Epoch 18] Train Loss: 2.4187, Accuracy: 0.7448\n"
     ]
    },
    {
     "name": "stderr",
     "output_type": "stream",
     "text": [
      "                                                                                  \r"
     ]
    },
    {
     "name": "stdout",
     "output_type": "stream",
     "text": [
      "[Epoch 18] Validation Loss: 2.3809, Accuracy: 0.7510\n",
      "Validation accuracy improved from 0.7452 to 0.7510. Saving best model to best_efficientnet_b4.pth...\n"
     ]
    },
    {
     "name": "stderr",
     "output_type": "stream",
     "text": [
      "                                                                                                  \r"
     ]
    },
    {
     "name": "stdout",
     "output_type": "stream",
     "text": [
      "[Epoch 19] Train Loss: 2.3602, Accuracy: 0.7443\n"
     ]
    },
    {
     "name": "stderr",
     "output_type": "stream",
     "text": [
      "                                                                                  \r"
     ]
    },
    {
     "name": "stdout",
     "output_type": "stream",
     "text": [
      "[Epoch 19] Validation Loss: 2.3138, Accuracy: 0.7471\n"
     ]
    },
    {
     "name": "stderr",
     "output_type": "stream",
     "text": [
      "                                                                                                  \r"
     ]
    },
    {
     "name": "stdout",
     "output_type": "stream",
     "text": [
      "[Epoch 20] Train Loss: 2.2884, Accuracy: 0.7500\n"
     ]
    },
    {
     "name": "stderr",
     "output_type": "stream",
     "text": [
      "                                                                                  \r"
     ]
    },
    {
     "name": "stdout",
     "output_type": "stream",
     "text": [
      "[Epoch 20] Validation Loss: 2.2436, Accuracy: 0.7576\n",
      "Validation accuracy improved from 0.7510 to 0.7576. Saving best model to best_efficientnet_b4.pth...\n",
      "\n",
      "--- Training Finished ---\n",
      "Total Training Time: 24.40 minutes\n",
      "Best Validation Accuracy: 0.7576\n",
      "\n",
      "--- Plotting Metrics ---\n",
      "Metrics plot saved as training_validation_metrics.png\n"
     ]
    },
    {
     "data": {
      "image/png": "[encoded data removed]",
      "text/plain": [
       "<Figure size 1400x600 with 2 Axes>"
      ]
     },
     "metadata": {},
     "output_type": "display_data"
    },
    {
     "name": "stdout",
     "output_type": "stream",
     "text": [
      "\n",
      "--- Evaluating on Test Set using Best Model ---\n",
      "Loading best model weights from: best_efficientnet_b4.pth\n"
     ]
    },
    {
     "name": "stderr",
     "output_type": "stream",
     "text": [
      "C:\\Users\\LENOVO\\AppData\\Local\\Temp\\ipykernel_17248\\2177502257.py:403: FutureWarning: You are using `torch.load` with `weights_only=False` (the current default value), which uses the default pickle module implicitly. It is possible to construct malicious pickle data which will execute arbitrary code during unpickling (See https://github.com/pytorch/pytorch/blob/main/SECURITY.md#untrusted-models for more details). In a future release, the default value for `weights_only` will be flipped to `True`. This limits the functions that could be executed during unpickling. Arbitrary objects will no longer be allowed to be loaded via this mode unless they are explicitly allowlisted by the user via `torch.serialization.add_safe_globals`. We recommend you start setting `weights_only=True` for any use case where you don't have full control of the loaded file. Please open an issue on GitHub for any issues related to this experimental feature.\n",
      "  model.load_state_dict(torch.load(config['BEST_MODEL_SAVE_PATH'], map_location=device))\n",
      "                                                                                         "
     ]
    },
    {
     "name": "stdout",
     "output_type": "stream",
     "text": [
      "[Final] Testing (Best Model) Loss: 2.1643, Accuracy: 0.7676\n",
      "\n",
      "Final Test Accuracy (Best Model): 0.7676\n",
      "Final Test Loss (Best Model): 2.1643\n",
      "\n",
      "--- Experiment Complete ---\n"
     ]
    },
    {
     "name": "stderr",
     "output_type": "stream",
     "text": [
      "\r"
     ]
    }
   ],
   "source": [
    "import os\n",
    "import time\n",
    "import json\n",
    "import torch\n",
    "import torch.nn as nn\n",
    "import torch.optim as optim\n",
    "from torch.utils.data import DataLoader\n",
    "from torchvision import datasets, models, transforms\n",
    "from torchvision.models import efficientnet_b4, EfficientNet_B4_Weights\n",
    "from torch.optim.lr_scheduler import ReduceLROnPlateau\n",
    "from torch.amp import autocast, GradScaler # Use autocast and GradScaler from torch.cuda.amp\n",
    "from sklearn.utils.class_weight import compute_class_weight\n",
    "import numpy as np\n",
    "from tqdm import tqdm\n",
    "import matplotlib.pyplot as plt\n",
    "\n",
    "# --- Configuration ---\n",
    "config = {\n",
    "    \"DATA_DIR\": \"dataset/images\", # Base directory with train/, val/, test/\n",
    "    \"MODEL_NAME\": \"efficientnet_b4\", # Can be used later to select different models\n",
    "    \"BATCH_SIZE\": 64,\n",
    "    \"IMG_SIZE\": 384, # Input size expected by EfficientNet-B4\n",
    "    \"NUM_EPOCHS\": 20,\n",
    "    \"LEARNING_RATE\": 1e-4,\n",
    "    \"WEIGHT_DECAY\": 5e-2,\n",
    "    \"DROPOUT_P\": 0.4,\n",
    "    \"NUM_WORKERS\": 4, # Number of workers for DataLoader\n",
    "    \"PIN_MEMORY\": True, # Set based on device later\n",
    "    \"USE_WEIGHTED_LOSS\": True, # Attempt to use class weighting\n",
    "    \"FREEZE_BACKBONE\": True, # Freeze pre-trained layers initially\n",
    "    # Paths\n",
    "    \"MODEL_SAVE_PATH\": \"efficientnet_b4_finetuned.pth\", # Final model save path (optional)\n",
    "    \"BEST_MODEL_SAVE_PATH\": \"best_efficientnet_b4.pth\", # Path to save the best model during training\n",
    "    \"MAPPING_SAVE_PATH\": \"class_mapping.json\",\n",
    "    \"PLOT_SAVE_PATH\": \"training_validation_metrics.png\",\n",
    "}\n",
    "\n",
    "# --- Helper Functions ---\n",
    "\n",
    "def get_device():\n",
    "    \"\"\"Gets the appropriate device (CUDA or CPU)\"\"\"\n",
    "    if torch.cuda.is_available():\n",
    "        device = torch.device(\"cuda\")\n",
    "        print(f\"Using GPU: {torch.cuda.get_device_name(0)}\")\n",
    "        torch.backends.cudnn.benchmark = True # Enable cuDNN benchmark\n",
    "    else:\n",
    "        device = torch.device(\"cpu\")\n",
    "        print(\"Using CPU\")\n",
    "    return device\n",
    "\n",
    "def get_transforms(img_size, weights):\n",
    "    \"\"\"Gets the train and validation/test transforms\"\"\"\n",
    "    # Use normalization parameters from the pre-trained weights\n",
    "    normalization_mean = weights.transforms().mean\n",
    "    normalization_std = weights.transforms().std\n",
    "\n",
    "    train_transform = transforms.Compose([\n",
    "        transforms.RandomResizedCrop(img_size, scale=(0.8, 1.0)),\n",
    "        transforms.RandomHorizontalFlip(p=0.5),\n",
    "        transforms.RandomRotation(degrees=15),\n",
    "        transforms.ToTensor(),\n",
    "        transforms.Normalize(mean=normalization_mean, std=normalization_std),\n",
    "        transforms.RandomErasing(p=0.2, scale=(0.02, 0.1), ratio=(0.3, 3.3), value=0) # Optional\n",
    "    ])\n",
    "\n",
    "    # Use the standard transforms recommended by the weights for validation/testing\n",
    "    val_test_transform = weights.transforms()\n",
    "\n",
    "    print(\"Train Transforms:\", train_transform)\n",
    "    print(\"Val/Test Transforms:\", val_test_transform)\n",
    "    return train_transform, val_test_transform\n",
    "\n",
    "def get_dataloaders(data_dir, batch_size, train_transform, val_test_transform, num_workers, pin_memory, mapping_save_path):\n",
    "    \"\"\"Creates datasets and dataloaders for train, val, and test sets.\"\"\"\n",
    "    print(\"Loading datasets...\")\n",
    "    try:\n",
    "        train_path = os.path.join(data_dir, 'train')\n",
    "        val_path = os.path.join(data_dir, 'val')\n",
    "        test_path = os.path.join(data_dir, 'test')\n",
    "\n",
    "        if not os.path.isdir(train_path):\n",
    "            raise FileNotFoundError(f\"Training directory not found: {train_path}\")\n",
    "        if not os.path.isdir(val_path):\n",
    "            raise FileNotFoundError(f\"Validation directory not found: {val_path}\")\n",
    "        if not os.path.isdir(test_path):\n",
    "            raise FileNotFoundError(f\"Test directory not found: {test_path}\")\n",
    "\n",
    "        train_dataset = datasets.ImageFolder(train_path, transform=train_transform)\n",
    "        val_dataset = datasets.ImageFolder(val_path, transform=val_test_transform)\n",
    "        test_dataset = datasets.ImageFolder(test_path, transform=val_test_transform)\n",
    "\n",
    "        # Determine number of classes and save mapping\n",
    "        num_classes = len(train_dataset.classes)\n",
    "        class_mapping = train_dataset.class_to_idx\n",
    "        print(f\"Found {num_classes} classes: {train_dataset.classes}\")\n",
    "\n",
    "        # Save class mapping\n",
    "        try:\n",
    "            with open(mapping_save_path, 'w') as f:\n",
    "                json.dump(class_mapping, f, indent=4)\n",
    "            print(f\"Class mapping saved to: {mapping_save_path}\")\n",
    "        except IOError as e:\n",
    "            print(f\"Warning: Could not save class mapping to {mapping_save_path}: {e}\")\n",
    "\n",
    "\n",
    "        if not train_dataset or not val_dataset or not test_dataset:\n",
    "            raise ValueError(\"One or more datasets (train, val, test) are empty.\")\n",
    "\n",
    "        print(f\"Train samples: {len(train_dataset)}, Val samples: {len(val_dataset)}, Test samples: {len(test_dataset)}\")\n",
    "\n",
    "        train_loader = DataLoader(train_dataset, batch_size=batch_size, shuffle=True, num_workers=num_workers, pin_memory=pin_memory)\n",
    "        val_loader = DataLoader(val_dataset, batch_size=batch_size, shuffle=False, num_workers=num_workers, pin_memory=pin_memory)\n",
    "        test_loader = DataLoader(test_dataset, batch_size=batch_size, shuffle=False, num_workers=num_workers, pin_memory=pin_memory)\n",
    "        print(\"DataLoaders created.\")\n",
    "\n",
    "        return train_loader, val_loader, test_loader, train_dataset, num_classes # Return train_dataset for weight calculation\n",
    "\n",
    "    except Exception as e:\n",
    "        print(f\"Error loading data: {e}\")\n",
    "        print(\"Please ensure 'train', 'val', and 'test' subdirectories exist in DATA_DIR and contain images.\")\n",
    "        exit()\n",
    "\n",
    "def calculate_class_weights(train_dataset, device):\n",
    "    \"\"\"Calculates class weights for handling imbalance.\"\"\"\n",
    "    print(\"Calculating class weights...\")\n",
    "    try:\n",
    "        class_labels = train_dataset.targets\n",
    "        class_indices = sorted(list(set(class_labels)))\n",
    "\n",
    "        class_weights = compute_class_weight(\n",
    "            class_weight='balanced',\n",
    "            classes=np.array(class_indices),\n",
    "            y=np.array(class_labels)\n",
    "        )\n",
    "        class_weights_tensor = torch.tensor(class_weights, dtype=torch.float).to(device)\n",
    "        print(f\"Class weights calculated (first 5): {class_weights_tensor[:5]}\")\n",
    "        return class_weights_tensor\n",
    "    except Exception as e:\n",
    "        print(f\"ERROR: Could not calculate class weights: {e}. Using standard loss.\")\n",
    "        return None\n",
    "\n",
    "def get_model(model_name, num_classes, freeze_backbone=True):\n",
    "    \"\"\"Loads a pre-trained model and modifies its classifier.\"\"\"\n",
    "    print(f\"Loading {model_name} model...\")\n",
    "    if model_name == \"efficientnet_b4\":\n",
    "        weights = EfficientNet_B4_Weights.IMAGENET1K_V1\n",
    "        model = efficientnet_b4(weights=weights)\n",
    "\n",
    "        if freeze_backbone:\n",
    "            print(\"Freezing backbone layers...\")\n",
    "            for param in model.parameters():\n",
    "                param.requires_grad = False\n",
    "\n",
    "        # Replace the classifier - new layers automatically have requires_grad=True\n",
    "        in_features = model.classifier[1].in_features\n",
    "        model.classifier = nn.Sequential(\n",
    "            nn.Dropout(p=0.4, inplace=True),\n",
    "            nn.Linear(in_features, num_classes),\n",
    "        )\n",
    "\n",
    "        print(\"Model classifier replaced.\")\n",
    "        print(\"Trainable parameters after modification:\")\n",
    "        for name, param in model.named_parameters():\n",
    "             if param.requires_grad:\n",
    "                 print(f\"- {name}\")\n",
    "\n",
    "        return model, weights # Return weights for transforms\n",
    "    else:\n",
    "        raise ValueError(f\"Model {model_name} not implemented yet.\")\n",
    "\n",
    "\n",
    "def get_optimizer_scheduler(model, learning_rate, weight_decay):\n",
    "    \"\"\"Creates the optimizer and learning rate scheduler.\"\"\"\n",
    "    print(\"Defining Optimizer and Scheduler...\")\n",
    "    # Filter parameters that require gradients\n",
    "    trainable_params = filter(lambda p: p.requires_grad, model.parameters())\n",
    "    optimizer = optim.AdamW(trainable_params, lr=learning_rate, weight_decay=weight_decay)\n",
    "    # Reduce LR when validation accuracy plateaus\n",
    "    scheduler = ReduceLROnPlateau(optimizer, mode='max', factor=0.1, patience=3, verbose=True)\n",
    "    print(f\"Optimizer: AdamW (LR={learning_rate}, WD={weight_decay})\")\n",
    "    print(\"Scheduler: ReduceLROnPlateau (Factor=0.1, Patience=3, Mode=max)\")\n",
    "    return optimizer, scheduler\n",
    "\n",
    "def train_one_epoch(model, loader, criterion, optimizer, scaler, device, epoch_num, num_epochs):\n",
    "    \"\"\"Performs one training epoch.\"\"\"\n",
    "    model.train()\n",
    "    running_loss = 0.0\n",
    "    correct_predictions = 0\n",
    "    total_samples = 0\n",
    "    is_cuda = device == torch.device(\"cuda\")\n",
    "\n",
    "    progress_bar = tqdm(loader, desc=f\"Epoch {epoch_num}/{num_epochs} [Training]\", leave=False)\n",
    "\n",
    "    for inputs, labels in progress_bar:\n",
    "        inputs, labels = inputs.to(device), labels.to(device)\n",
    "\n",
    "        optimizer.zero_grad()\n",
    "\n",
    "        # Use autocast only if on CUDA\n",
    "        with autocast('cuda'):\n",
    "            outputs = model(inputs)\n",
    "            loss = criterion(outputs, labels)\n",
    "\n",
    "        if is_cuda:\n",
    "            scaler.scale(loss).backward()\n",
    "            scaler.step(optimizer)\n",
    "            scaler.update()\n",
    "        else: # No scaling needed for CPU\n",
    "            loss.backward()\n",
    "            optimizer.step()\n",
    "\n",
    "\n",
    "        running_loss += loss.item() * inputs.size(0)\n",
    "        _, predicted = torch.max(outputs.data, 1)\n",
    "        total_samples += labels.size(0)\n",
    "        correct_predictions += (predicted == labels).sum().item()\n",
    "\n",
    "        # Update progress bar\n",
    "        batch_acc = (predicted == labels).sum().item() / labels.size(0) if labels.size(0) > 0 else 0\n",
    "        progress_bar.set_postfix(loss=f\"{loss.item():.4f}\", acc=f\"{batch_acc:.4f}\")\n",
    "\n",
    "    epoch_loss = running_loss / total_samples if total_samples > 0 else 0\n",
    "    epoch_acc = correct_predictions / total_samples if total_samples > 0 else 0\n",
    "    print(f\"[Epoch {epoch_num}] Train Loss: {epoch_loss:.4f}, Accuracy: {epoch_acc:.4f}\")\n",
    "    return epoch_loss, epoch_acc\n",
    "\n",
    "@torch.no_grad()\n",
    "def evaluate(model, loader, criterion, device, phase=\"Validation\", epoch_num=None):\n",
    "    \"\"\"Evaluates the model on a given dataset.\"\"\"\n",
    "    model.eval()\n",
    "    running_loss = 0.0\n",
    "    correct_predictions = 0\n",
    "    total_samples = 0\n",
    "    is_cuda = device == torch.device(\"cuda\")\n",
    "\n",
    "    epoch_str = f\"Epoch {epoch_num}\" if epoch_num else \"Final\"\n",
    "    progress_bar = tqdm(loader, desc=f\"{epoch_str} [{phase}]\", leave=False)\n",
    "\n",
    "    for inputs, labels in progress_bar:\n",
    "        inputs, labels = inputs.to(device), labels.to(device)\n",
    "\n",
    "        with autocast(device_type=device.type, enabled=is_cuda):\n",
    "            outputs = model(inputs)\n",
    "            loss = criterion(outputs, labels) # Can still calculate loss for info if needed\n",
    "\n",
    "        running_loss += loss.item() * inputs.size(0)\n",
    "        _, predicted = torch.max(outputs.data, 1)\n",
    "        total_samples += labels.size(0)\n",
    "        correct_predictions += (predicted == labels).sum().item()\n",
    "\n",
    "        # Update progress bar\n",
    "        batch_acc = (predicted == labels).sum().item() / labels.size(0) if labels.size(0) > 0 else 0\n",
    "        progress_bar.set_postfix(acc=f\"{batch_acc:.4f}\")\n",
    "\n",
    "\n",
    "    epoch_loss = running_loss / total_samples if total_samples > 0 else 0\n",
    "    epoch_acc = correct_predictions / total_samples if total_samples > 0 else 0\n",
    "    print(f\"[{epoch_str}] {phase} Loss: {epoch_loss:.4f}, Accuracy: {epoch_acc:.4f}\")\n",
    "    return epoch_loss, epoch_acc\n",
    "\n",
    "def plot_metrics(train_losses, val_losses, train_accuracies, val_accuracies, save_path):\n",
    "    \"\"\"Plots training and validation metrics.\"\"\"\n",
    "    epochs_range = range(1, len(train_losses) + 1)\n",
    "    plt.figure(figsize=(14, 6))\n",
    "\n",
    "    # Plot Loss\n",
    "    plt.subplot(1, 2, 1)\n",
    "    plt.plot(epochs_range, train_losses, label='Train Loss', marker='o', linestyle='-', color='r')\n",
    "    plt.plot(epochs_range, val_losses, label='Validation Loss', marker='s', linestyle='--', color='m')\n",
    "    plt.xlabel('Epoch')\n",
    "    plt.ylabel('Loss')\n",
    "    plt.title('Training & Validation Loss')\n",
    "    plt.legend()\n",
    "    plt.grid(True)\n",
    "\n",
    "    # Plot Accuracy\n",
    "    plt.subplot(1, 2, 2)\n",
    "    plt.plot(epochs_range, train_accuracies, label='Train Accuracy', marker='o', linestyle='-', color='b')\n",
    "    plt.plot(epochs_range, val_accuracies, label='Validation Accuracy', marker='s', linestyle='--', color='g')\n",
    "    plt.xlabel('Epoch')\n",
    "    plt.ylabel('Accuracy')\n",
    "    plt.title('Training & Validation Accuracy')\n",
    "    plt.legend()\n",
    "    plt.grid(True)\n",
    "\n",
    "    plt.tight_layout()\n",
    "    try:\n",
    "        plt.savefig(save_path)\n",
    "        print(f\"Metrics plot saved as {save_path}\")\n",
    "    except Exception as e:\n",
    "        print(f\"Error saving plot: {e}\")\n",
    "    plt.show()\n",
    "\n",
    "\n",
    "device = get_device()\n",
    "config[\"PIN_MEMORY\"] = True if device == torch.device(\"cuda\") else False # Adjust pin_memory based on device\n",
    "\n",
    "# --- Data Loading ---\n",
    "# Need temporary weights object to get transforms\n",
    "temp_weights = EfficientNet_B4_Weights.IMAGENET1K_V1\n",
    "train_transform, val_test_transform = get_transforms(config[\"IMG_SIZE\"], temp_weights)\n",
    "train_loader, val_loader, test_loader, train_dataset, num_classes = get_dataloaders(\n",
    "    config[\"DATA_DIR\"],\n",
    "    config[\"BATCH_SIZE\"],\n",
    "    train_transform,\n",
    "    val_test_transform,\n",
    "    config[\"NUM_WORKERS\"],\n",
    "    config[\"PIN_MEMORY\"],\n",
    "    config[\"MAPPING_SAVE_PATH\"]\n",
    ")\n",
    "\n",
    "# --- Class Weights (Optional) ---\n",
    "class_weights_tensor = None\n",
    "if config[\"USE_WEIGHTED_LOSS\"]:\n",
    "    class_weights_tensor = calculate_class_weights(train_dataset, device)\n",
    "    if class_weights_tensor is None:\n",
    "        print(\"Proceeding without weighted loss as calculation failed.\")\n",
    "\n",
    "# --- Model ---\n",
    "model, _ = get_model( # Don't need weights object returned here anymore\n",
    "    config[\"MODEL_NAME\"],\n",
    "    num_classes,\n",
    "    config[\"FREEZE_BACKBONE\"]\n",
    ")\n",
    "model.to(device)\n",
    "\n",
    "# --- Loss Function ---\n",
    "print(\"Defining Loss function...\")\n",
    "if config[\"USE_WEIGHTED_LOSS\"] and class_weights_tensor is not None:\n",
    "    print(\"Using Weighted CrossEntropyLoss.\")\n",
    "    criterion = nn.CrossEntropyLoss(weight=class_weights_tensor)\n",
    "else:\n",
    "    print(\"Using standard CrossEntropyLoss.\")\n",
    "    criterion = nn.CrossEntropyLoss()\n",
    "\n",
    "# --- Optimizer and Scheduler ---\n",
    "optimizer, scheduler = get_optimizer_scheduler(\n",
    "    model,\n",
    "    config[\"LEARNING_RATE\"],\n",
    "    config[\"WEIGHT_DECAY\"]\n",
    ")\n",
    "\n",
    "# --- Mixed Precision Scaler ---\n",
    "# Initialize GradScaler only if on CUDA\n",
    "scaler = GradScaler(device='cuda')\n",
    "print(f\"Mixed precision enabled: {scaler.is_enabled()}\")\n",
    "\n",
    "\n",
    "# --- Training Loop ---\n",
    "print(\"\\n--- Starting Training ---\")\n",
    "start_time = time.time()\n",
    "\n",
    "history = {'train_loss': [], 'val_loss': [], 'train_acc': [], 'val_acc': []}\n",
    "best_val_acc = 0.0\n",
    "\n",
    "for epoch in range(1, config[\"NUM_EPOCHS\"] + 1):\n",
    "    # Train\n",
    "    train_loss, train_acc = train_one_epoch(\n",
    "        model, train_loader, criterion, optimizer, scaler, device, epoch, config[\"NUM_EPOCHS\"]\n",
    "    )\n",
    "    history['train_loss'].append(train_loss)\n",
    "    history['train_acc'].append(train_acc)\n",
    "\n",
    "    # Validate\n",
    "    val_loss, val_acc = evaluate(\n",
    "        model, val_loader, criterion, device, phase=\"Validation\", epoch_num=epoch\n",
    "    )\n",
    "    history['val_loss'].append(val_loss)\n",
    "    history['val_acc'].append(val_acc)\n",
    "\n",
    "    # Update LR Scheduler\n",
    "    if scheduler:\n",
    "        # scheduler.step(val_loss) # If monitoring loss\n",
    "        scheduler.step(val_acc) # If monitoring accuracy\n",
    "    \n",
    "    last_lr = scheduler.get_last_lr()\n",
    "    print(\"Previous LR: \", last_lr)\n",
    "\n",
    "    # Save Best Model\n",
    "    if val_acc > best_val_acc:\n",
    "        print(f\"Validation accuracy improved from {best_val_acc:.4f} to {val_acc:.4f}. Saving best model to {config['BEST_MODEL_SAVE_PATH']}...\")\n",
    "        best_val_acc = val_acc\n",
    "        try:\n",
    "            torch.save(model.state_dict(), config['BEST_MODEL_SAVE_PATH'])\n",
    "        except Exception as e:\n",
    "            print(f\"Error saving best model: {e}\")\n",
    "\n",
    "end_time = time.time()\n",
    "print(f\"\\n--- Training Finished ---\")\n",
    "print(f\"Total Training Time: {(end_time - start_time) / 60:.2f} minutes\")\n",
    "print(f\"Best Validation Accuracy: {best_val_acc:.4f}\")\n",
    "\n",
    "# --- Plotting ---\n",
    "print(\"\\n--- Plotting Metrics ---\")\n",
    "plot_metrics(\n",
    "    history['train_loss'], history['val_loss'],\n",
    "    history['train_acc'], history['val_acc'],\n",
    "    config[\"PLOT_SAVE_PATH\"]\n",
    ")\n",
    "\n",
    "# --- Final Evaluation on Test Set ---\n",
    "print(\"\\n--- Evaluating on Test Set using Best Model ---\")\n",
    "try:\n",
    "    # Load the best weights saved during training\n",
    "    print(f\"Loading best model weights from: {config['BEST_MODEL_SAVE_PATH']}\")\n",
    "    model.load_state_dict(torch.load(config['BEST_MODEL_SAVE_PATH'], map_location=device))\n",
    "\n",
    "    test_loss, test_accuracy = evaluate(\n",
    "        model, test_loader, criterion, device, phase=\"Testing (Best Model)\"\n",
    "    )\n",
    "    print(f\"\\nFinal Test Accuracy (Best Model): {test_accuracy:.4f}\")\n",
    "    print(f\"Final Test Loss (Best Model): {test_loss:.4f}\")\n",
    "\n",
    "except FileNotFoundError:\n",
    "    print(f\"Warning: Best model file '{config['BEST_MODEL_SAVE_PATH']}' not found.\")\n",
    "    print(\"Evaluating using the model from the final epoch instead.\")\n",
    "    # Evaluate the model as it is (from the last epoch)\n",
    "    test_loss, test_accuracy = evaluate(\n",
    "        model, test_loader, criterion, device, phase=\"Testing (Final Epoch Model)\"\n",
    "    )\n",
    "    print(f\"\\nFinal Test Accuracy (Final Epoch Model): {test_accuracy:.4f}\")\n",
    "    print(f\"Final Test Loss (Final Epoch Model): {test_loss:.4f}\")\n",
    "\n",
    "except Exception as e:\n",
    "    print(f\"An error occurred during final evaluation: {e}\")\n",
    "\n",
    "# Optional: Save the final model state if needed\n",
    "# print(f\"Saving final model state to {config['MODEL_SAVE_PATH']}\")\n",
    "# torch.save(model.state_dict(), config['MODEL_SAVE_PATH'])\n",
    "\n",
    "print(\"\\n--- Experiment Complete ---\")"
   ]
  },
  {
   "cell_type": "markdown",
   "id": "60c320e4",
   "metadata": {},
   "source": [
    "#### Efficientnetb0 with updated script"
   ]
  },
  {
   "cell_type": "code",
   "execution_count": 4,
   "id": "78b9833a",
   "metadata": {},
   "outputs": [
    {
     "name": "stdout",
     "output_type": "stream",
     "text": [
      "Using GPU: NVIDIA GeForce RTX 4060 Laptop GPU\n",
      "Train Transforms: Compose(\n",
      "    RandomResizedCrop(size=(224, 224), scale=(0.8, 1.0), ratio=(0.75, 1.3333), interpolation=bilinear, antialias=True)\n",
      "    RandomHorizontalFlip(p=0.5)\n",
      "    RandomRotation(degrees=[-15.0, 15.0], interpolation=nearest, expand=False, fill=0)\n",
      "    ToTensor()\n",
      "    Normalize(mean=[0.485, 0.456, 0.406], std=[0.229, 0.224, 0.225])\n",
      "    RandomErasing(p=0.2, scale=(0.02, 0.1), ratio=(0.3, 3.3), value=0, inplace=False)\n",
      ")\n",
      "Val/Test Transforms: ImageClassification(\n",
      "    crop_size=[224]\n",
      "    resize_size=[256]\n",
      "    mean=[0.485, 0.456, 0.406]\n",
      "    std=[0.229, 0.224, 0.225]\n",
      "    interpolation=InterpolationMode.BICUBIC\n",
      ")\n",
      "Loading datasets...\n",
      "Found 67 classes: ['Apple', 'Artichoke', 'Balaleet', 'Bamya', 'Banana', 'Basbousa', 'Bell pepper', 'Broccoli', 'Burger', 'Carrot', 'Crab', 'Cucumber', 'Dajaj_Mahshi', 'Dates_with_tahini', 'Fattoush', 'Fries', 'Gers_Ogaily', 'Grape', 'Harees', 'Hot Dog', 'Hummus', 'Jireesh', 'Kebab', 'Kubba', 'Labneh', 'Lentil_soup', 'Lentil_stew', 'Lobster', 'Luqaimat', 'Majboos_Dajaj', 'Mallooba(Maqluba)', 'Modas_rice', 'Molokhia', 'Muhammara', 'Murabyan', 'Musakhan_Chicken', 'Orange (fruit)', 'Oyster', 'Peach', 'Pear', 'Pineapple', 'Pizza', 'Plain_white_rice', 'Pomegranate', 'Potato', 'Pumpkin', 'Radish', 'Red_tea_with_mint_or_saffron', 'Saffron', 'Samosa', 'Sandwich', 'Shrimp', 'Strawberry', 'Tabouleh', 'Taco', 'Tahini', 'Tamarind_juice', 'Tamria(Tamriyeh)', 'Tea_with_milk', 'Warak_Enab', 'Watermelon', 'Zaatar', 'bread', 'khabeesa', 'laban_drink', 'om_ali', 'rice_with_meat']\n",
      "Class mapping saved to: class_mapping.json\n",
      "Train samples: 7981, Val samples: 1052, Test samples: 1364\n",
      "DataLoaders created.\n",
      "Calculating class weights...\n",
      "Class weights calculated (first 5): tensor([0.8570, 1.5470, 1.2809, 0.8103, 0.8759], device='cuda:0')\n",
      "Loading efficientnet_b0 model...\n",
      "Freezing backbone layers...\n",
      "Model classifier replaced.\n",
      "Trainable parameters after modification:\n",
      "- classifier.1.weight\n",
      "- classifier.1.bias\n"
     ]
    },
    {
     "name": "stderr",
     "output_type": "stream",
     "text": [
      "c:\\Work\\Garbage_classification\\food-recognition\\food-recognition\\env\\Lib\\site-packages\\torch\\optim\\lr_scheduler.py:62: UserWarning: The verbose parameter is deprecated. Please use get_last_lr() to access the learning rate.\n",
      "  warnings.warn(\n"
     ]
    },
    {
     "name": "stdout",
     "output_type": "stream",
     "text": [
      "Defining Loss function...\n",
      "Using Weighted CrossEntropyLoss.\n",
      "Defining Optimizer and Scheduler...\n",
      "Optimizer: AdamW (LR=0.0001, WD=0.05)\n",
      "Scheduler: ReduceLROnPlateau (Factor=0.1, Patience=3, Mode=max)\n",
      "Mixed precision enabled: True\n",
      "\n",
      "--- Starting Training ---\n"
     ]
    },
    {
     "name": "stderr",
     "output_type": "stream",
     "text": [
      "                                                                                                 \r"
     ]
    },
    {
     "name": "stdout",
     "output_type": "stream",
     "text": [
      "[Epoch 1] Train Loss: 4.0053, Accuracy: 0.1120\n"
     ]
    },
    {
     "name": "stderr",
     "output_type": "stream",
     "text": [
      "                                                                                 \r"
     ]
    },
    {
     "name": "stdout",
     "output_type": "stream",
     "text": [
      "[Epoch 1] Validation Loss: 3.7344, Accuracy: 0.3916\n",
      "Current LR:  [0.0001]\n",
      "Validation accuracy improved from 0.0000 to 0.3916. Saving best model to best_efficientnet_b0.pth...\n"
     ]
    },
    {
     "name": "stderr",
     "output_type": "stream",
     "text": [
      "                                                                                                 \r"
     ]
    },
    {
     "name": "stdout",
     "output_type": "stream",
     "text": [
      "[Epoch 2] Train Loss: 3.5697, Accuracy: 0.3738\n"
     ]
    },
    {
     "name": "stderr",
     "output_type": "stream",
     "text": [
      "                                                                                 \r"
     ]
    },
    {
     "name": "stdout",
     "output_type": "stream",
     "text": [
      "[Epoch 2] Validation Loss: 3.3549, Accuracy: 0.5513\n",
      "Current LR:  [0.0001]\n",
      "Validation accuracy improved from 0.3916 to 0.5513. Saving best model to best_efficientnet_b0.pth...\n"
     ]
    },
    {
     "name": "stderr",
     "output_type": "stream",
     "text": [
      "                                                                                                 \r"
     ]
    },
    {
     "name": "stdout",
     "output_type": "stream",
     "text": [
      "[Epoch 3] Train Loss: 3.2199, Accuracy: 0.5088\n"
     ]
    },
    {
     "name": "stderr",
     "output_type": "stream",
     "text": [
      "                                                                                 \r"
     ]
    },
    {
     "name": "stdout",
     "output_type": "stream",
     "text": [
      "[Epoch 3] Validation Loss: 3.0336, Accuracy: 0.6131\n",
      "Current LR:  [0.0001]\n",
      "Validation accuracy improved from 0.5513 to 0.6131. Saving best model to best_efficientnet_b0.pth...\n"
     ]
    },
    {
     "name": "stderr",
     "output_type": "stream",
     "text": [
      "                                                                                                 \r"
     ]
    },
    {
     "name": "stdout",
     "output_type": "stream",
     "text": [
      "[Epoch 4] Train Loss: 2.9176, Accuracy: 0.5736\n"
     ]
    },
    {
     "name": "stderr",
     "output_type": "stream",
     "text": [
      "                                                                                 \r"
     ]
    },
    {
     "name": "stdout",
     "output_type": "stream",
     "text": [
      "[Epoch 4] Validation Loss: 2.7633, Accuracy: 0.6483\n",
      "Current LR:  [0.0001]\n",
      "Validation accuracy improved from 0.6131 to 0.6483. Saving best model to best_efficientnet_b0.pth...\n"
     ]
    },
    {
     "name": "stderr",
     "output_type": "stream",
     "text": [
      "                                                                                                 \r"
     ]
    },
    {
     "name": "stdout",
     "output_type": "stream",
     "text": [
      "[Epoch 5] Train Loss: 2.6660, Accuracy: 0.6146\n"
     ]
    },
    {
     "name": "stderr",
     "output_type": "stream",
     "text": [
      "                                                                                 \r"
     ]
    },
    {
     "name": "stdout",
     "output_type": "stream",
     "text": [
      "[Epoch 5] Validation Loss: 2.5340, Accuracy: 0.6578\n",
      "Current LR:  [0.0001]\n",
      "Validation accuracy improved from 0.6483 to 0.6578. Saving best model to best_efficientnet_b0.pth...\n"
     ]
    },
    {
     "name": "stderr",
     "output_type": "stream",
     "text": [
      "                                                                                                 \r"
     ]
    },
    {
     "name": "stdout",
     "output_type": "stream",
     "text": [
      "[Epoch 6] Train Loss: 2.4673, Accuracy: 0.6312\n"
     ]
    },
    {
     "name": "stderr",
     "output_type": "stream",
     "text": [
      "                                                                                 \r"
     ]
    },
    {
     "name": "stdout",
     "output_type": "stream",
     "text": [
      "[Epoch 6] Validation Loss: 2.3223, Accuracy: 0.6768\n",
      "Current LR:  [0.0001]\n",
      "Validation accuracy improved from 0.6578 to 0.6768. Saving best model to best_efficientnet_b0.pth...\n"
     ]
    },
    {
     "name": "stderr",
     "output_type": "stream",
     "text": [
      "                                                                                                 \r"
     ]
    },
    {
     "name": "stdout",
     "output_type": "stream",
     "text": [
      "[Epoch 7] Train Loss: 2.2937, Accuracy: 0.6449\n"
     ]
    },
    {
     "name": "stderr",
     "output_type": "stream",
     "text": [
      "                                                                                 \r"
     ]
    },
    {
     "name": "stdout",
     "output_type": "stream",
     "text": [
      "[Epoch 7] Validation Loss: 2.1746, Accuracy: 0.6854\n",
      "Current LR:  [0.0001]\n",
      "Validation accuracy improved from 0.6768 to 0.6854. Saving best model to best_efficientnet_b0.pth...\n"
     ]
    },
    {
     "name": "stderr",
     "output_type": "stream",
     "text": [
      "                                                                                                 \r"
     ]
    },
    {
     "name": "stdout",
     "output_type": "stream",
     "text": [
      "[Epoch 8] Train Loss: 2.1429, Accuracy: 0.6552\n"
     ]
    },
    {
     "name": "stderr",
     "output_type": "stream",
     "text": [
      "                                                                                 \r"
     ]
    },
    {
     "name": "stdout",
     "output_type": "stream",
     "text": [
      "[Epoch 8] Validation Loss: 2.0063, Accuracy: 0.6873\n",
      "Current LR:  [0.0001]\n",
      "Validation accuracy improved from 0.6854 to 0.6873. Saving best model to best_efficientnet_b0.pth...\n"
     ]
    },
    {
     "name": "stderr",
     "output_type": "stream",
     "text": [
      "                                                                                                 \r"
     ]
    },
    {
     "name": "stdout",
     "output_type": "stream",
     "text": [
      "[Epoch 9] Train Loss: 2.0123, Accuracy: 0.6682\n"
     ]
    },
    {
     "name": "stderr",
     "output_type": "stream",
     "text": [
      "                                                                                 \r"
     ]
    },
    {
     "name": "stdout",
     "output_type": "stream",
     "text": [
      "[Epoch 9] Validation Loss: 1.9453, Accuracy: 0.6873\n",
      "Current LR:  [0.0001]\n"
     ]
    },
    {
     "name": "stderr",
     "output_type": "stream",
     "text": [
      "                                                                                                  \r"
     ]
    },
    {
     "name": "stdout",
     "output_type": "stream",
     "text": [
      "[Epoch 10] Train Loss: 1.9110, Accuracy: 0.6775\n"
     ]
    },
    {
     "name": "stderr",
     "output_type": "stream",
     "text": [
      "                                                                                  \r"
     ]
    },
    {
     "name": "stdout",
     "output_type": "stream",
     "text": [
      "[Epoch 10] Validation Loss: 1.8122, Accuracy: 0.6949\n",
      "Current LR:  [0.0001]\n",
      "Validation accuracy improved from 0.6873 to 0.6949. Saving best model to best_efficientnet_b0.pth...\n"
     ]
    },
    {
     "name": "stderr",
     "output_type": "stream",
     "text": [
      "                                                               \r"
     ]
    },
    {
     "ename": "KeyboardInterrupt",
     "evalue": "",
     "output_type": "error",
     "traceback": [
      "\u001b[31m---------------------------------------------------------------------------\u001b[39m",
      "\u001b[31mKeyboardInterrupt\u001b[39m                         Traceback (most recent call last)",
      "\u001b[36mCell\u001b[39m\u001b[36m \u001b[39m\u001b[32mIn[4]\u001b[39m\u001b[32m, line 358\u001b[39m\n\u001b[32m    354\u001b[39m best_val_acc = \u001b[32m0.0\u001b[39m\n\u001b[32m    356\u001b[39m \u001b[38;5;28;01mfor\u001b[39;00m epoch \u001b[38;5;129;01min\u001b[39;00m \u001b[38;5;28mrange\u001b[39m(\u001b[32m1\u001b[39m, config[\u001b[33m\"\u001b[39m\u001b[33mNUM_EPOCHS\u001b[39m\u001b[33m\"\u001b[39m] + \u001b[32m1\u001b[39m):\n\u001b[32m    357\u001b[39m     \u001b[38;5;66;03m# Train\u001b[39;00m\n\u001b[32m--> \u001b[39m\u001b[32m358\u001b[39m     train_loss, train_acc = \u001b[43mtrain_one_epoch\u001b[49m\u001b[43m(\u001b[49m\n\u001b[32m    359\u001b[39m \u001b[43m        \u001b[49m\u001b[43mmodel\u001b[49m\u001b[43m,\u001b[49m\u001b[43m \u001b[49m\u001b[43mtrain_loader\u001b[49m\u001b[43m,\u001b[49m\u001b[43m \u001b[49m\u001b[43mcriterion\u001b[49m\u001b[43m,\u001b[49m\u001b[43m \u001b[49m\u001b[43moptimizer\u001b[49m\u001b[43m,\u001b[49m\u001b[43m \u001b[49m\u001b[43mscaler\u001b[49m\u001b[43m,\u001b[49m\u001b[43m \u001b[49m\u001b[43mdevice\u001b[49m\u001b[43m,\u001b[49m\u001b[43m \u001b[49m\u001b[43mepoch\u001b[49m\u001b[43m,\u001b[49m\u001b[43m \u001b[49m\u001b[43mconfig\u001b[49m\u001b[43m[\u001b[49m\u001b[33;43m\"\u001b[39;49m\u001b[33;43mNUM_EPOCHS\u001b[39;49m\u001b[33;43m\"\u001b[39;49m\u001b[43m]\u001b[49m\n\u001b[32m    360\u001b[39m \u001b[43m    \u001b[49m\u001b[43m)\u001b[49m\n\u001b[32m    361\u001b[39m     history[\u001b[33m'\u001b[39m\u001b[33mtrain_loss\u001b[39m\u001b[33m'\u001b[39m].append(train_loss)\n\u001b[32m    362\u001b[39m     history[\u001b[33m'\u001b[39m\u001b[33mtrain_acc\u001b[39m\u001b[33m'\u001b[39m].append(train_acc)\n",
      "\u001b[36mCell\u001b[39m\u001b[36m \u001b[39m\u001b[32mIn[4]\u001b[39m\u001b[32m, line 194\u001b[39m, in \u001b[36mtrain_one_epoch\u001b[39m\u001b[34m(model, loader, criterion, optimizer, scaler, device, epoch_num, num_epochs)\u001b[39m\n\u001b[32m    190\u001b[39m is_cuda = device == torch.device(\u001b[33m\"\u001b[39m\u001b[33mcuda\u001b[39m\u001b[33m\"\u001b[39m)\n\u001b[32m    192\u001b[39m progress_bar = tqdm(loader, desc=\u001b[33mf\u001b[39m\u001b[33m\"\u001b[39m\u001b[33mEpoch \u001b[39m\u001b[38;5;132;01m{\u001b[39;00mepoch_num\u001b[38;5;132;01m}\u001b[39;00m\u001b[33m/\u001b[39m\u001b[38;5;132;01m{\u001b[39;00mnum_epochs\u001b[38;5;132;01m}\u001b[39;00m\u001b[33m [Training]\u001b[39m\u001b[33m\"\u001b[39m, leave=\u001b[38;5;28;01mFalse\u001b[39;00m)\n\u001b[32m--> \u001b[39m\u001b[32m194\u001b[39m \u001b[43m\u001b[49m\u001b[38;5;28;43;01mfor\u001b[39;49;00m\u001b[43m \u001b[49m\u001b[43minputs\u001b[49m\u001b[43m,\u001b[49m\u001b[43m \u001b[49m\u001b[43mlabels\u001b[49m\u001b[43m \u001b[49m\u001b[38;5;129;43;01min\u001b[39;49;00m\u001b[43m \u001b[49m\u001b[43mprogress_bar\u001b[49m\u001b[43m:\u001b[49m\n\u001b[32m    195\u001b[39m \u001b[43m    \u001b[49m\u001b[43minputs\u001b[49m\u001b[43m,\u001b[49m\u001b[43m \u001b[49m\u001b[43mlabels\u001b[49m\u001b[43m \u001b[49m\u001b[43m=\u001b[49m\u001b[43m \u001b[49m\u001b[43minputs\u001b[49m\u001b[43m.\u001b[49m\u001b[43mto\u001b[49m\u001b[43m(\u001b[49m\u001b[43mdevice\u001b[49m\u001b[43m)\u001b[49m\u001b[43m,\u001b[49m\u001b[43m \u001b[49m\u001b[43mlabels\u001b[49m\u001b[43m.\u001b[49m\u001b[43mto\u001b[49m\u001b[43m(\u001b[49m\u001b[43mdevice\u001b[49m\u001b[43m)\u001b[49m\n\u001b[32m    197\u001b[39m \u001b[43m    \u001b[49m\u001b[43moptimizer\u001b[49m\u001b[43m.\u001b[49m\u001b[43mzero_grad\u001b[49m\u001b[43m(\u001b[49m\u001b[43m)\u001b[49m\n",
      "\u001b[36mFile \u001b[39m\u001b[32mc:\\Work\\Garbage_classification\\food-recognition\\food-recognition\\env\\Lib\\site-packages\\tqdm\\std.py:1181\u001b[39m, in \u001b[36mtqdm.__iter__\u001b[39m\u001b[34m(self)\u001b[39m\n\u001b[32m   1178\u001b[39m time = \u001b[38;5;28mself\u001b[39m._time\n\u001b[32m   1180\u001b[39m \u001b[38;5;28;01mtry\u001b[39;00m:\n\u001b[32m-> \u001b[39m\u001b[32m1181\u001b[39m \u001b[43m    \u001b[49m\u001b[38;5;28;43;01mfor\u001b[39;49;00m\u001b[43m \u001b[49m\u001b[43mobj\u001b[49m\u001b[43m \u001b[49m\u001b[38;5;129;43;01min\u001b[39;49;00m\u001b[43m \u001b[49m\u001b[43miterable\u001b[49m\u001b[43m:\u001b[49m\n\u001b[32m   1182\u001b[39m \u001b[43m        \u001b[49m\u001b[38;5;28;43;01myield\u001b[39;49;00m\u001b[43m \u001b[49m\u001b[43mobj\u001b[49m\n\u001b[32m   1183\u001b[39m \u001b[43m        \u001b[49m\u001b[38;5;66;43;03m# Update and possibly print the progressbar.\u001b[39;49;00m\n\u001b[32m   1184\u001b[39m \u001b[43m        \u001b[49m\u001b[38;5;66;43;03m# Note: does not call self.update(1) for speed optimisation.\u001b[39;49;00m\n",
      "\u001b[36mFile \u001b[39m\u001b[32mc:\\Work\\Garbage_classification\\food-recognition\\food-recognition\\env\\Lib\\site-packages\\torch\\utils\\data\\dataloader.py:484\u001b[39m, in \u001b[36mDataLoader.__iter__\u001b[39m\u001b[34m(self)\u001b[39m\n\u001b[32m    482\u001b[39m     \u001b[38;5;28;01mreturn\u001b[39;00m \u001b[38;5;28mself\u001b[39m._iterator\n\u001b[32m    483\u001b[39m \u001b[38;5;28;01melse\u001b[39;00m:\n\u001b[32m--> \u001b[39m\u001b[32m484\u001b[39m     \u001b[38;5;28;01mreturn\u001b[39;00m \u001b[38;5;28;43mself\u001b[39;49m\u001b[43m.\u001b[49m\u001b[43m_get_iterator\u001b[49m\u001b[43m(\u001b[49m\u001b[43m)\u001b[49m\n",
      "\u001b[36mFile \u001b[39m\u001b[32mc:\\Work\\Garbage_classification\\food-recognition\\food-recognition\\env\\Lib\\site-packages\\torch\\utils\\data\\dataloader.py:415\u001b[39m, in \u001b[36mDataLoader._get_iterator\u001b[39m\u001b[34m(self)\u001b[39m\n\u001b[32m    413\u001b[39m \u001b[38;5;28;01melse\u001b[39;00m:\n\u001b[32m    414\u001b[39m     \u001b[38;5;28mself\u001b[39m.check_worker_number_rationality()\n\u001b[32m--> \u001b[39m\u001b[32m415\u001b[39m     \u001b[38;5;28;01mreturn\u001b[39;00m \u001b[43m_MultiProcessingDataLoaderIter\u001b[49m\u001b[43m(\u001b[49m\u001b[38;5;28;43mself\u001b[39;49m\u001b[43m)\u001b[49m\n",
      "\u001b[36mFile \u001b[39m\u001b[32mc:\\Work\\Garbage_classification\\food-recognition\\food-recognition\\env\\Lib\\site-packages\\torch\\utils\\data\\dataloader.py:1138\u001b[39m, in \u001b[36m_MultiProcessingDataLoaderIter.__init__\u001b[39m\u001b[34m(self, loader)\u001b[39m\n\u001b[32m   1131\u001b[39m w.daemon = \u001b[38;5;28;01mTrue\u001b[39;00m\n\u001b[32m   1132\u001b[39m \u001b[38;5;66;03m# NB: Process.start() actually take some time as it needs to\u001b[39;00m\n\u001b[32m   1133\u001b[39m \u001b[38;5;66;03m#     start a process and pass the arguments over via a pipe.\u001b[39;00m\n\u001b[32m   1134\u001b[39m \u001b[38;5;66;03m#     Therefore, we only add a worker to self._workers list after\u001b[39;00m\n\u001b[32m   1135\u001b[39m \u001b[38;5;66;03m#     it started, so that we do not call .join() if program dies\u001b[39;00m\n\u001b[32m   1136\u001b[39m \u001b[38;5;66;03m#     before it starts, and __del__ tries to join but will get:\u001b[39;00m\n\u001b[32m   1137\u001b[39m \u001b[38;5;66;03m#     AssertionError: can only join a started process.\u001b[39;00m\n\u001b[32m-> \u001b[39m\u001b[32m1138\u001b[39m \u001b[43mw\u001b[49m\u001b[43m.\u001b[49m\u001b[43mstart\u001b[49m\u001b[43m(\u001b[49m\u001b[43m)\u001b[49m\n\u001b[32m   1139\u001b[39m \u001b[38;5;28mself\u001b[39m._index_queues.append(index_queue)\n\u001b[32m   1140\u001b[39m \u001b[38;5;28mself\u001b[39m._workers.append(w)\n",
      "\u001b[36mFile \u001b[39m\u001b[32m~\\AppData\\Local\\Programs\\Python\\Python311\\Lib\\multiprocessing\\process.py:121\u001b[39m, in \u001b[36mBaseProcess.start\u001b[39m\u001b[34m(self)\u001b[39m\n\u001b[32m    118\u001b[39m \u001b[38;5;28;01massert\u001b[39;00m \u001b[38;5;129;01mnot\u001b[39;00m _current_process._config.get(\u001b[33m'\u001b[39m\u001b[33mdaemon\u001b[39m\u001b[33m'\u001b[39m), \\\n\u001b[32m    119\u001b[39m        \u001b[33m'\u001b[39m\u001b[33mdaemonic processes are not allowed to have children\u001b[39m\u001b[33m'\u001b[39m\n\u001b[32m    120\u001b[39m _cleanup()\n\u001b[32m--> \u001b[39m\u001b[32m121\u001b[39m \u001b[38;5;28mself\u001b[39m._popen = \u001b[38;5;28;43mself\u001b[39;49m\u001b[43m.\u001b[49m\u001b[43m_Popen\u001b[49m\u001b[43m(\u001b[49m\u001b[38;5;28;43mself\u001b[39;49m\u001b[43m)\u001b[49m\n\u001b[32m    122\u001b[39m \u001b[38;5;28mself\u001b[39m._sentinel = \u001b[38;5;28mself\u001b[39m._popen.sentinel\n\u001b[32m    123\u001b[39m \u001b[38;5;66;03m# Avoid a refcycle if the target function holds an indirect\u001b[39;00m\n\u001b[32m    124\u001b[39m \u001b[38;5;66;03m# reference to the process object (see bpo-30775)\u001b[39;00m\n",
      "\u001b[36mFile \u001b[39m\u001b[32m~\\AppData\\Local\\Programs\\Python\\Python311\\Lib\\multiprocessing\\context.py:224\u001b[39m, in \u001b[36mProcess._Popen\u001b[39m\u001b[34m(process_obj)\u001b[39m\n\u001b[32m    222\u001b[39m \u001b[38;5;129m@staticmethod\u001b[39m\n\u001b[32m    223\u001b[39m \u001b[38;5;28;01mdef\u001b[39;00m\u001b[38;5;250m \u001b[39m\u001b[34m_Popen\u001b[39m(process_obj):\n\u001b[32m--> \u001b[39m\u001b[32m224\u001b[39m     \u001b[38;5;28;01mreturn\u001b[39;00m \u001b[43m_default_context\u001b[49m\u001b[43m.\u001b[49m\u001b[43mget_context\u001b[49m\u001b[43m(\u001b[49m\u001b[43m)\u001b[49m\u001b[43m.\u001b[49m\u001b[43mProcess\u001b[49m\u001b[43m.\u001b[49m\u001b[43m_Popen\u001b[49m\u001b[43m(\u001b[49m\u001b[43mprocess_obj\u001b[49m\u001b[43m)\u001b[49m\n",
      "\u001b[36mFile \u001b[39m\u001b[32m~\\AppData\\Local\\Programs\\Python\\Python311\\Lib\\multiprocessing\\context.py:336\u001b[39m, in \u001b[36mSpawnProcess._Popen\u001b[39m\u001b[34m(process_obj)\u001b[39m\n\u001b[32m    333\u001b[39m \u001b[38;5;129m@staticmethod\u001b[39m\n\u001b[32m    334\u001b[39m \u001b[38;5;28;01mdef\u001b[39;00m\u001b[38;5;250m \u001b[39m\u001b[34m_Popen\u001b[39m(process_obj):\n\u001b[32m    335\u001b[39m     \u001b[38;5;28;01mfrom\u001b[39;00m\u001b[38;5;250m \u001b[39m\u001b[34;01m.\u001b[39;00m\u001b[34;01mpopen_spawn_win32\u001b[39;00m\u001b[38;5;250m \u001b[39m\u001b[38;5;28;01mimport\u001b[39;00m Popen\n\u001b[32m--> \u001b[39m\u001b[32m336\u001b[39m     \u001b[38;5;28;01mreturn\u001b[39;00m \u001b[43mPopen\u001b[49m\u001b[43m(\u001b[49m\u001b[43mprocess_obj\u001b[49m\u001b[43m)\u001b[49m\n",
      "\u001b[36mFile \u001b[39m\u001b[32m~\\AppData\\Local\\Programs\\Python\\Python311\\Lib\\multiprocessing\\popen_spawn_win32.py:95\u001b[39m, in \u001b[36mPopen.__init__\u001b[39m\u001b[34m(self, process_obj)\u001b[39m\n\u001b[32m     93\u001b[39m \u001b[38;5;28;01mtry\u001b[39;00m:\n\u001b[32m     94\u001b[39m     reduction.dump(prep_data, to_child)\n\u001b[32m---> \u001b[39m\u001b[32m95\u001b[39m     \u001b[43mreduction\u001b[49m\u001b[43m.\u001b[49m\u001b[43mdump\u001b[49m\u001b[43m(\u001b[49m\u001b[43mprocess_obj\u001b[49m\u001b[43m,\u001b[49m\u001b[43m \u001b[49m\u001b[43mto_child\u001b[49m\u001b[43m)\u001b[49m\n\u001b[32m     96\u001b[39m \u001b[38;5;28;01mfinally\u001b[39;00m:\n\u001b[32m     97\u001b[39m     set_spawning_popen(\u001b[38;5;28;01mNone\u001b[39;00m)\n",
      "\u001b[36mFile \u001b[39m\u001b[32m~\\AppData\\Local\\Programs\\Python\\Python311\\Lib\\multiprocessing\\reduction.py:60\u001b[39m, in \u001b[36mdump\u001b[39m\u001b[34m(obj, file, protocol)\u001b[39m\n\u001b[32m     58\u001b[39m \u001b[38;5;28;01mdef\u001b[39;00m\u001b[38;5;250m \u001b[39m\u001b[34mdump\u001b[39m(obj, file, protocol=\u001b[38;5;28;01mNone\u001b[39;00m):\n\u001b[32m     59\u001b[39m \u001b[38;5;250m    \u001b[39m\u001b[33;03m'''Replacement for pickle.dump() using ForkingPickler.'''\u001b[39;00m\n\u001b[32m---> \u001b[39m\u001b[32m60\u001b[39m     \u001b[43mForkingPickler\u001b[49m\u001b[43m(\u001b[49m\u001b[43mfile\u001b[49m\u001b[43m,\u001b[49m\u001b[43m \u001b[49m\u001b[43mprotocol\u001b[49m\u001b[43m)\u001b[49m\u001b[43m.\u001b[49m\u001b[43mdump\u001b[49m\u001b[43m(\u001b[49m\u001b[43mobj\u001b[49m\u001b[43m)\u001b[49m\n",
      "\u001b[31mKeyboardInterrupt\u001b[39m: "
     ]
    }
   ],
   "source": [
    "import os\n",
    "import time\n",
    "import json\n",
    "import torch\n",
    "import torch.nn as nn\n",
    "import torch.optim as optim\n",
    "from torch.utils.data import DataLoader\n",
    "from torchvision import datasets, models, transforms\n",
    "from torchvision.models import efficientnet_b0, EfficientNet_B0_Weights\n",
    "from torch.optim.lr_scheduler import ReduceLROnPlateau\n",
    "from torch.amp import autocast, GradScaler # Use autocast and GradScaler from torch.cuda.amp\n",
    "from sklearn.utils.class_weight import compute_class_weight\n",
    "import numpy as np\n",
    "from tqdm import tqdm\n",
    "import matplotlib.pyplot as plt\n",
    "\n",
    "# --- Configuration ---\n",
    "config = {\n",
    "    \"DATA_DIR\": \"dataset/images\", # Base directory with train/, val/, test/\n",
    "    \"MODEL_NAME\": \"efficientnet_b0\", # Can be used later to select different models\n",
    "    \"BATCH_SIZE\": 32,\n",
    "    \"IMG_SIZE\": 224, # Input size expected by EfficientNet-B4\n",
    "    \"NUM_EPOCHS\": 20,\n",
    "    \"LEARNING_RATE\": 1e-4,\n",
    "    \"WEIGHT_DECAY\": 5e-2,\n",
    "    \"DROPOUT_P\": 0.4,\n",
    "    \"NUM_WORKERS\": 4, # Number of workers for DataLoader\n",
    "    \"PIN_MEMORY\": True, # Set based on device later\n",
    "    \"USE_WEIGHTED_LOSS\": True, # Attempt to use class weighting\n",
    "    \"FREEZE_BACKBONE\": True, # Freeze pre-trained layers initially\n",
    "    # Paths\n",
    "    \"MODEL_SAVE_PATH\": \"efficientnet_b0_finetuned.pth\", # Final model save path (optional)\n",
    "    \"BEST_MODEL_SAVE_PATH\": \"best_efficientnet_b0.pth\", # Path to save the best model during training\n",
    "    \"MAPPING_SAVE_PATH\": \"class_mapping.json\",\n",
    "    \"PLOT_SAVE_PATH\": \"training_validation_metrics.png\",\n",
    "}\n",
    "\n",
    "# --- Helper Functions ---\n",
    "\n",
    "def get_device():\n",
    "    \"\"\"Gets the appropriate device (CUDA or CPU)\"\"\"\n",
    "    if torch.cuda.is_available():\n",
    "        device = torch.device(\"cuda\")\n",
    "        print(f\"Using GPU: {torch.cuda.get_device_name(0)}\")\n",
    "        torch.backends.cudnn.benchmark = True # Enable cuDNN benchmark\n",
    "    else:\n",
    "        device = torch.device(\"cpu\")\n",
    "        print(\"Using CPU\")\n",
    "    return device\n",
    "\n",
    "def get_transforms(img_size, weights):\n",
    "    \"\"\"Gets the train and validation/test transforms\"\"\"\n",
    "    # Use normalization parameters from the pre-trained weights\n",
    "    normalization_mean = weights.transforms().mean\n",
    "    normalization_std = weights.transforms().std\n",
    "\n",
    "    train_transform = transforms.Compose([\n",
    "        transforms.RandomResizedCrop(img_size, scale=(0.8, 1.0)),\n",
    "        transforms.RandomHorizontalFlip(p=0.5),\n",
    "        transforms.RandomRotation(degrees=15),\n",
    "        transforms.ToTensor(),\n",
    "        transforms.Normalize(mean=normalization_mean, std=normalization_std),\n",
    "        transforms.RandomErasing(p=0.2, scale=(0.02, 0.1), ratio=(0.3, 3.3), value=0) # Optional\n",
    "    ])\n",
    "\n",
    "    # Use the standard transforms recommended by the weights for validation/testing\n",
    "    val_test_transform = weights.transforms()\n",
    "\n",
    "    print(\"Train Transforms:\", train_transform)\n",
    "    print(\"Val/Test Transforms:\", val_test_transform)\n",
    "    return train_transform, val_test_transform\n",
    "\n",
    "def get_dataloaders(data_dir, batch_size, train_transform, val_test_transform, num_workers, pin_memory, mapping_save_path):\n",
    "    \"\"\"Creates datasets and dataloaders for train, val, and test sets.\"\"\"\n",
    "    print(\"Loading datasets...\")\n",
    "    try:\n",
    "        train_path = os.path.join(data_dir, 'train')\n",
    "        val_path = os.path.join(data_dir, 'val')\n",
    "        test_path = os.path.join(data_dir, 'test')\n",
    "\n",
    "        if not os.path.isdir(train_path):\n",
    "            raise FileNotFoundError(f\"Training directory not found: {train_path}\")\n",
    "        if not os.path.isdir(val_path):\n",
    "            raise FileNotFoundError(f\"Validation directory not found: {val_path}\")\n",
    "        if not os.path.isdir(test_path):\n",
    "            raise FileNotFoundError(f\"Test directory not found: {test_path}\")\n",
    "\n",
    "        train_dataset = datasets.ImageFolder(train_path, transform=train_transform)\n",
    "        val_dataset = datasets.ImageFolder(val_path, transform=val_test_transform)\n",
    "        test_dataset = datasets.ImageFolder(test_path, transform=val_test_transform)\n",
    "\n",
    "        # Determine number of classes and save mapping\n",
    "        num_classes = len(train_dataset.classes)\n",
    "        class_mapping = train_dataset.class_to_idx\n",
    "        print(f\"Found {num_classes} classes: {train_dataset.classes}\")\n",
    "\n",
    "        # Save class mapping\n",
    "        try:\n",
    "            with open(mapping_save_path, 'w') as f:\n",
    "                json.dump(class_mapping, f, indent=4)\n",
    "            print(f\"Class mapping saved to: {mapping_save_path}\")\n",
    "        except IOError as e:\n",
    "            print(f\"Warning: Could not save class mapping to {mapping_save_path}: {e}\")\n",
    "\n",
    "\n",
    "        if not train_dataset or not val_dataset or not test_dataset:\n",
    "            raise ValueError(\"One or more datasets (train, val, test) are empty.\")\n",
    "\n",
    "        print(f\"Train samples: {len(train_dataset)}, Val samples: {len(val_dataset)}, Test samples: {len(test_dataset)}\")\n",
    "\n",
    "        train_loader = DataLoader(train_dataset, batch_size=batch_size, shuffle=True, num_workers=num_workers, pin_memory=pin_memory)\n",
    "        val_loader = DataLoader(val_dataset, batch_size=batch_size, shuffle=False, num_workers=num_workers, pin_memory=pin_memory)\n",
    "        test_loader = DataLoader(test_dataset, batch_size=batch_size, shuffle=False, num_workers=num_workers, pin_memory=pin_memory)\n",
    "        print(\"DataLoaders created.\")\n",
    "\n",
    "        return train_loader, val_loader, test_loader, train_dataset, num_classes # Return train_dataset for weight calculation\n",
    "\n",
    "    except Exception as e:\n",
    "        print(f\"Error loading data: {e}\")\n",
    "        print(\"Please ensure 'train', 'val', and 'test' subdirectories exist in DATA_DIR and contain images.\")\n",
    "        exit()\n",
    "\n",
    "def calculate_class_weights(train_dataset, device):\n",
    "    \"\"\"Calculates class weights for handling imbalance.\"\"\"\n",
    "    print(\"Calculating class weights...\")\n",
    "    try:\n",
    "        class_labels = train_dataset.targets\n",
    "        class_indices = sorted(list(set(class_labels)))\n",
    "\n",
    "        class_weights = compute_class_weight(\n",
    "            class_weight='balanced',\n",
    "            classes=np.array(class_indices),\n",
    "            y=np.array(class_labels)\n",
    "        )\n",
    "        class_weights_tensor = torch.tensor(class_weights, dtype=torch.float).to(device)\n",
    "        print(f\"Class weights calculated (first 5): {class_weights_tensor[:5]}\")\n",
    "        return class_weights_tensor\n",
    "    except Exception as e:\n",
    "        print(f\"ERROR: Could not calculate class weights: {e}. Using standard loss.\")\n",
    "        return None\n",
    "\n",
    "def get_model(model_name, num_classes, freeze_backbone=True):\n",
    "    \"\"\"Loads a pre-trained model and modifies its classifier.\"\"\"\n",
    "    print(f\"Loading {model_name} model...\")\n",
    "    if model_name == \"efficientnet_b0\":\n",
    "        weights = EfficientNet_B0_Weights.IMAGENET1K_V1\n",
    "        model = efficientnet_b0(weights=weights)\n",
    "\n",
    "        if freeze_backbone:\n",
    "            print(\"Freezing backbone layers...\")\n",
    "            for param in model.parameters():\n",
    "                param.requires_grad = False\n",
    "\n",
    "        # Replace the classifier - new layers automatically have requires_grad=True\n",
    "        in_features = model.classifier[1].in_features\n",
    "        model.classifier = nn.Sequential(\n",
    "            nn.Dropout(p=0.4, inplace=True),\n",
    "            nn.Linear(in_features, num_classes),\n",
    "        )\n",
    "\n",
    "        print(\"Model classifier replaced.\")\n",
    "        print(\"Trainable parameters after modification:\")\n",
    "        for name, param in model.named_parameters():\n",
    "             if param.requires_grad:\n",
    "                 print(f\"- {name}\")\n",
    "\n",
    "        return model, weights # Return weights for transforms\n",
    "    else:\n",
    "        raise ValueError(f\"Model {model_name} not implemented yet.\")\n",
    "\n",
    "\n",
    "def get_optimizer_scheduler(model, learning_rate, weight_decay):\n",
    "    \"\"\"Creates the optimizer and learning rate scheduler.\"\"\"\n",
    "    print(\"Defining Optimizer and Scheduler...\")\n",
    "    # Filter parameters that require gradients\n",
    "    trainable_params = filter(lambda p: p.requires_grad, model.parameters())\n",
    "    optimizer = optim.AdamW(trainable_params, lr=learning_rate, weight_decay=weight_decay)\n",
    "    # Reduce LR when validation accuracy plateaus\n",
    "    scheduler = ReduceLROnPlateau(optimizer, mode='max', factor=0.1, patience=3, verbose=True)\n",
    "    print(f\"Optimizer: AdamW (LR={learning_rate}, WD={weight_decay})\")\n",
    "    print(\"Scheduler: ReduceLROnPlateau (Factor=0.1, Patience=3, Mode=max)\")\n",
    "    return optimizer, scheduler\n",
    "\n",
    "def train_one_epoch(model, loader, criterion, optimizer, scaler, device, epoch_num, num_epochs):\n",
    "    \"\"\"Performs one training epoch.\"\"\"\n",
    "    model.train()\n",
    "    running_loss = 0.0\n",
    "    correct_predictions = 0\n",
    "    total_samples = 0\n",
    "    is_cuda = device == torch.device(\"cuda\")\n",
    "\n",
    "    progress_bar = tqdm(loader, desc=f\"Epoch {epoch_num}/{num_epochs} [Training]\", leave=False)\n",
    "\n",
    "    for inputs, labels in progress_bar:\n",
    "        inputs, labels = inputs.to(device), labels.to(device)\n",
    "\n",
    "        optimizer.zero_grad()\n",
    "\n",
    "        # Use autocast only if on CUDA\n",
    "        with autocast('cuda'):\n",
    "            outputs = model(inputs)\n",
    "            loss = criterion(outputs, labels)\n",
    "\n",
    "        if is_cuda:\n",
    "            scaler.scale(loss).backward()\n",
    "            scaler.step(optimizer)\n",
    "            scaler.update()\n",
    "        else: # No scaling needed for CPU\n",
    "            loss.backward()\n",
    "            optimizer.step()\n",
    "\n",
    "\n",
    "        running_loss += loss.item() * inputs.size(0)\n",
    "        _, predicted = torch.max(outputs.data, 1)\n",
    "        total_samples += labels.size(0)\n",
    "        correct_predictions += (predicted == labels).sum().item()\n",
    "\n",
    "        # Update progress bar\n",
    "        batch_acc = (predicted == labels).sum().item() / labels.size(0) if labels.size(0) > 0 else 0\n",
    "        progress_bar.set_postfix(loss=f\"{loss.item():.4f}\", acc=f\"{batch_acc:.4f}\")\n",
    "\n",
    "    epoch_loss = running_loss / total_samples if total_samples > 0 else 0\n",
    "    epoch_acc = correct_predictions / total_samples if total_samples > 0 else 0\n",
    "    print(f\"[Epoch {epoch_num}] Train Loss: {epoch_loss:.4f}, Accuracy: {epoch_acc:.4f}\")\n",
    "    return epoch_loss, epoch_acc\n",
    "\n",
    "@torch.no_grad()\n",
    "def evaluate(model, loader, criterion, device, phase=\"Validation\", epoch_num=None):\n",
    "    \"\"\"Evaluates the model on a given dataset.\"\"\"\n",
    "    model.eval()\n",
    "    running_loss = 0.0\n",
    "    correct_predictions = 0\n",
    "    total_samples = 0\n",
    "    is_cuda = device == torch.device(\"cuda\")\n",
    "\n",
    "    epoch_str = f\"Epoch {epoch_num}\" if epoch_num else \"Final\"\n",
    "    progress_bar = tqdm(loader, desc=f\"{epoch_str} [{phase}]\", leave=False)\n",
    "\n",
    "    for inputs, labels in progress_bar:\n",
    "        inputs, labels = inputs.to(device), labels.to(device)\n",
    "\n",
    "        with autocast(device_type=device.type, enabled=is_cuda):\n",
    "            outputs = model(inputs)\n",
    "            loss = criterion(outputs, labels) # Can still calculate loss for info if needed\n",
    "\n",
    "        running_loss += loss.item() * inputs.size(0)\n",
    "        _, predicted = torch.max(outputs.data, 1)\n",
    "        total_samples += labels.size(0)\n",
    "        correct_predictions += (predicted == labels).sum().item()\n",
    "\n",
    "        # Update progress bar\n",
    "        batch_acc = (predicted == labels).sum().item() / labels.size(0) if labels.size(0) > 0 else 0\n",
    "        progress_bar.set_postfix(acc=f\"{batch_acc:.4f}\")\n",
    "\n",
    "\n",
    "    epoch_loss = running_loss / total_samples if total_samples > 0 else 0\n",
    "    epoch_acc = correct_predictions / total_samples if total_samples > 0 else 0\n",
    "    print(f\"[{epoch_str}] {phase} Loss: {epoch_loss:.4f}, Accuracy: {epoch_acc:.4f}\")\n",
    "    return epoch_loss, epoch_acc\n",
    "\n",
    "def plot_metrics(train_losses, val_losses, train_accuracies, val_accuracies, save_path):\n",
    "    \"\"\"Plots training and validation metrics.\"\"\"\n",
    "    epochs_range = range(1, len(train_losses) + 1)\n",
    "    plt.figure(figsize=(14, 6))\n",
    "\n",
    "    # Plot Loss\n",
    "    plt.subplot(1, 2, 1)\n",
    "    plt.plot(epochs_range, train_losses, label='Train Loss', marker='o', linestyle='-', color='r')\n",
    "    plt.plot(epochs_range, val_losses, label='Validation Loss', marker='s', linestyle='--', color='m')\n",
    "    plt.xlabel('Epoch')\n",
    "    plt.ylabel('Loss')\n",
    "    plt.title('Training & Validation Loss')\n",
    "    plt.legend()\n",
    "    plt.grid(True)\n",
    "\n",
    "    # Plot Accuracy\n",
    "    plt.subplot(1, 2, 2)\n",
    "    plt.plot(epochs_range, train_accuracies, label='Train Accuracy', marker='o', linestyle='-', color='b')\n",
    "    plt.plot(epochs_range, val_accuracies, label='Validation Accuracy', marker='s', linestyle='--', color='g')\n",
    "    plt.xlabel('Epoch')\n",
    "    plt.ylabel('Accuracy')\n",
    "    plt.title('Training & Validation Accuracy')\n",
    "    plt.legend()\n",
    "    plt.grid(True)\n",
    "\n",
    "    plt.tight_layout()\n",
    "    try:\n",
    "        plt.savefig(save_path)\n",
    "        print(f\"Metrics plot saved as {save_path}\")\n",
    "    except Exception as e:\n",
    "        print(f\"Error saving plot: {e}\")\n",
    "    plt.show()\n",
    "\n",
    "\n",
    "device = get_device()\n",
    "config[\"PIN_MEMORY\"] = True if device == torch.device(\"cuda\") else False # Adjust pin_memory based on device\n",
    "\n",
    "# --- Data Loading ---\n",
    "# Need temporary weights object to get transforms\n",
    "temp_weights = EfficientNet_B0_Weights.IMAGENET1K_V1\n",
    "train_transform, val_test_transform = get_transforms(config[\"IMG_SIZE\"], temp_weights)\n",
    "train_loader, val_loader, test_loader, train_dataset, num_classes = get_dataloaders(\n",
    "    config[\"DATA_DIR\"],\n",
    "    config[\"BATCH_SIZE\"],\n",
    "    train_transform,\n",
    "    val_test_transform,\n",
    "    config[\"NUM_WORKERS\"],\n",
    "    config[\"PIN_MEMORY\"],\n",
    "    config[\"MAPPING_SAVE_PATH\"]\n",
    ")\n",
    "\n",
    "# --- Class Weights (Optional) ---\n",
    "class_weights_tensor = None\n",
    "if config[\"USE_WEIGHTED_LOSS\"]:\n",
    "    class_weights_tensor = calculate_class_weights(train_dataset, device)\n",
    "    if class_weights_tensor is None:\n",
    "        print(\"Proceeding without weighted loss as calculation failed.\")\n",
    "\n",
    "# --- Model ---\n",
    "model, _ = get_model( # Don't need weights object returned here anymore\n",
    "    config[\"MODEL_NAME\"],\n",
    "    num_classes,\n",
    "    config[\"FREEZE_BACKBONE\"]\n",
    ")\n",
    "model.to(device)\n",
    "\n",
    "# --- Loss Function ---\n",
    "print(\"Defining Loss function...\")\n",
    "if config[\"USE_WEIGHTED_LOSS\"] and class_weights_tensor is not None:\n",
    "    print(\"Using Weighted CrossEntropyLoss.\")\n",
    "    criterion = nn.CrossEntropyLoss(weight=class_weights_tensor)\n",
    "else:\n",
    "    print(\"Using standard CrossEntropyLoss.\")\n",
    "    criterion = nn.CrossEntropyLoss()\n",
    "\n",
    "# --- Optimizer and Scheduler ---\n",
    "optimizer, scheduler = get_optimizer_scheduler(\n",
    "    model,\n",
    "    config[\"LEARNING_RATE\"],\n",
    "    config[\"WEIGHT_DECAY\"]\n",
    ")\n",
    "\n",
    "# --- Mixed Precision Scaler ---\n",
    "# Initialize GradScaler only if on CUDA\n",
    "scaler = GradScaler(device='cuda')\n",
    "print(f\"Mixed precision enabled: {scaler.is_enabled()}\")\n",
    "\n",
    "\n",
    "# --- Training Loop ---\n",
    "print(\"\\n--- Starting Training ---\")\n",
    "start_time = time.time()\n",
    "\n",
    "history = {'train_loss': [], 'val_loss': [], 'train_acc': [], 'val_acc': []}\n",
    "best_val_acc = 0.0\n",
    "\n",
    "for epoch in range(1, config[\"NUM_EPOCHS\"] + 1):\n",
    "    # Train\n",
    "    train_loss, train_acc = train_one_epoch(\n",
    "        model, train_loader, criterion, optimizer, scaler, device, epoch, config[\"NUM_EPOCHS\"]\n",
    "    )\n",
    "    history['train_loss'].append(train_loss)\n",
    "    history['train_acc'].append(train_acc)\n",
    "\n",
    "    # Validate\n",
    "    val_loss, val_acc = evaluate(\n",
    "        model, val_loader, criterion, device, phase=\"Validation\", epoch_num=epoch\n",
    "    )\n",
    "    history['val_loss'].append(val_loss)\n",
    "    history['val_acc'].append(val_acc)\n",
    "\n",
    "    # Update LR Scheduler\n",
    "    if scheduler:\n",
    "        # scheduler.step(val_loss) # If monitoring loss\n",
    "        scheduler.step(val_acc) # If monitoring accuracy\n",
    "    \n",
    "    current_lr = scheduler.get_last_lr()\n",
    "    print(\"Current LR: \", current_lr)\n",
    "\n",
    "    # Save Best Model\n",
    "    if val_acc > best_val_acc:\n",
    "        print(f\"Validation accuracy improved from {best_val_acc:.4f} to {val_acc:.4f}. Saving best model to {config['BEST_MODEL_SAVE_PATH']}...\")\n",
    "        best_val_acc = val_acc\n",
    "        try:\n",
    "            torch.save(model.state_dict(), config['BEST_MODEL_SAVE_PATH'])\n",
    "        except Exception as e:\n",
    "            print(f\"Error saving best model: {e}\")\n",
    "\n",
    "end_time = time.time()\n",
    "print(f\"\\n--- Training Finished ---\")\n",
    "print(f\"Total Training Time: {(end_time - start_time) / 60:.2f} minutes\")\n",
    "print(f\"Best Validation Accuracy: {best_val_acc:.4f}\")\n",
    "\n",
    "# --- Plotting ---\n",
    "print(\"\\n--- Plotting Metrics ---\")\n",
    "plot_metrics(\n",
    "    history['train_loss'], history['val_loss'],\n",
    "    history['train_acc'], history['val_acc'],\n",
    "    config[\"PLOT_SAVE_PATH\"]\n",
    ")\n",
    "\n",
    "# --- Final Evaluation on Test Set ---\n",
    "print(\"\\n--- Evaluating on Test Set using Best Model ---\")\n",
    "try:\n",
    "    # Load the best weights saved during training\n",
    "    print(f\"Loading best model weights from: {config['BEST_MODEL_SAVE_PATH']}\")\n",
    "    model.load_state_dict(torch.load(config['BEST_MODEL_SAVE_PATH'], map_location=device))\n",
    "\n",
    "    test_loss, test_accuracy = evaluate(\n",
    "        model, test_loader, criterion, device, phase=\"Testing (Best Model)\"\n",
    "    )\n",
    "    print(f\"\\nFinal Test Accuracy (Best Model): {test_accuracy:.4f}\")\n",
    "    print(f\"Final Test Loss (Best Model): {test_loss:.4f}\")\n",
    "\n",
    "except FileNotFoundError:\n",
    "    print(f\"Warning: Best model file '{config['BEST_MODEL_SAVE_PATH']}' not found.\")\n",
    "    print(\"Evaluating using the model from the final epoch instead.\")\n",
    "    # Evaluate the model as it is (from the last epoch)\n",
    "    test_loss, test_accuracy = evaluate(\n",
    "        model, test_loader, criterion, device, phase=\"Testing (Final Epoch Model)\"\n",
    "    )\n",
    "    print(f\"\\nFinal Test Accuracy (Final Epoch Model): {test_accuracy:.4f}\")\n",
    "    print(f\"Final Test Loss (Final Epoch Model): {test_loss:.4f}\")\n",
    "\n",
    "except Exception as e:\n",
    "    print(f\"An error occurred during final evaluation: {e}\")\n",
    "\n",
    "# Optional: Save the final model state if needed\n",
    "# print(f\"Saving final model state to {config['MODEL_SAVE_PATH']}\")\n",
    "# torch.save(model.state_dict(), config['MODEL_SAVE_PATH'])\n",
    "\n",
    "print(\"\\n--- Experiment Complete ---\")"
   ]
  },
  {
   "cell_type": "markdown",
   "id": "6b65cb49",
   "metadata": {},
   "source": [
    "### Confusion matrix and "
   ]
  },
  {
   "cell_type": "code",
   "execution_count": 2,
   "id": "7cd049d9",
   "metadata": {},
   "outputs": [
    {
     "name": "stdout",
     "output_type": "stream",
     "text": [
      "Using device: cuda\n",
      "Loading class mapping from: class_mapping.json\n",
      "Loading model...\n"
     ]
    },
    {
     "name": "stderr",
     "output_type": "stream",
     "text": [
      "C:\\Users\\LENOVO\\AppData\\Local\\Temp\\ipykernel_20260\\3730462992.py:40: FutureWarning: You are using `torch.load` with `weights_only=False` (the current default value), which uses the default pickle module implicitly. It is possible to construct malicious pickle data which will execute arbitrary code during unpickling (See https://github.com/pytorch/pytorch/blob/main/SECURITY.md#untrusted-models for more details). In a future release, the default value for `weights_only` will be flipped to `True`. This limits the functions that could be executed during unpickling. Arbitrary objects will no longer be allowed to be loaded via this mode unless they are explicitly allowlisted by the user via `torch.serialization.add_safe_globals`. We recommend you start setting `weights_only=True` for any use case where you don't have full control of the loaded file. Please open an issue on GitHub for any issues related to this experimental feature.\n",
      "  model.load_state_dict(torch.load(MODEL_PATH, map_location=DEVICE))\n"
     ]
    },
    {
     "name": "stdout",
     "output_type": "stream",
     "text": [
      "Predicting image: C:\\Work\\Garbage_classification\\food-recognition\\food-recognition\\dataset\\images\\test\\Hummus\\133.jpg\n",
      "-> Predicted Class: Hummus\n",
      "-> Confidence: 0.9627\n"
     ]
    }
   ],
   "source": [
    "### Inference on a single image\n",
    "import os\n",
    "import json\n",
    "import torch\n",
    "import torch.nn as nn\n",
    "from torchvision.models import EfficientNet_V2_S_Weights, efficientnet_v2_s\n",
    "from PIL import Image\n",
    "\n",
    "# --- Configuration ---\n",
    "MODEL_PATH = 'models/best_model.pth'\n",
    "# IMAGE_PATH = r'dataset\\images\\test\\Hummus\\18.jpg'  # <<<--- Change this to your image file\n",
    "IMAGE_PATH = r\"C:\\Work\\Garbage_classification\\food-recognition\\food-recognition\\dataset\\images\\test\\Hummus\\133.jpg\"\n",
    "MAPPING_JSON_PATH = 'class_mapping.json'\n",
    "NUM_CLASSES = 66\n",
    "\n",
    "# --- Device Setup ---\n",
    "DEVICE = torch.device(\"cuda\" if torch.cuda.is_available() else \"cpu\")\n",
    "print(f\"Using device: {DEVICE}\")\n",
    "\n",
    "# --- Load Class Mapping ---\n",
    "print(f\"Loading class mapping from: {MAPPING_JSON_PATH}\")\n",
    "try:\n",
    "    with open(MAPPING_JSON_PATH, 'r') as f:\n",
    "        class_to_idx = json.load(f)\n",
    "    idx_to_class = {v: k for k, v in class_to_idx.items()}\n",
    "    if len(idx_to_class) != NUM_CLASSES:\n",
    "        print(f\"Warning: Found {len(idx_to_class)} classes, expected {NUM_CLASSES}\")\n",
    "except Exception as e:\n",
    "    raise RuntimeError(f\"Failed to load class mapping: {e}\")\n",
    "\n",
    "# --- Load Model ---\n",
    "print(\"Loading model...\")\n",
    "weights = EfficientNet_V2_S_Weights.IMAGENET1K_V1\n",
    "model = efficientnet_v2_s(weights=weights)\n",
    "num_ftrs = model.classifier[1].in_features\n",
    "model.classifier[1] = nn.Sequential(\n",
    "    nn.Dropout(p=0.37, inplace=True), # Keep dropout\n",
    "    nn.Linear(num_ftrs, NUM_CLASSES),\n",
    ")\n",
    "model.load_state_dict(torch.load(MODEL_PATH, map_location=DEVICE))\n",
    "model.to(DEVICE)\n",
    "model.eval()\n",
    "\n",
    "# --- Preprocessing ---\n",
    "preprocess = weights.transforms()\n",
    "\n",
    "# --- Prediction Function ---\n",
    "def predict_image(image_path):\n",
    "    try:\n",
    "        img = Image.open(image_path).convert('RGB')\n",
    "        input_tensor = preprocess(img).unsqueeze(0).to(DEVICE)\n",
    "        with torch.no_grad():\n",
    "            output = model(input_tensor)\n",
    "            conf, idx = torch.max(torch.softmax(output, dim=1), 1)\n",
    "        return idx_to_class.get(idx.item(), \"Unknown\"), conf.item()\n",
    "    except Exception as e:\n",
    "        print(f\"Prediction error: {e}\")\n",
    "        return None, None\n",
    "\n",
    "# --- Inference ---\n",
    "if not os.path.exists(IMAGE_PATH):\n",
    "    print(f\"Image path does not exist: {IMAGE_PATH}\")\n",
    "else:\n",
    "    print(f\"Predicting image: {IMAGE_PATH}\")\n",
    "    label, confidence = predict_image(IMAGE_PATH)\n",
    "    if label:\n",
    "        print(f\"-> Predicted Class: {label}\")\n",
    "        print(f\"-> Confidence: {confidence:.4f}\")"
   ]
  },
  {
   "cell_type": "code",
   "execution_count": 3,
   "id": "4e0da0d8",
   "metadata": {},
   "outputs": [
    {
     "name": "stdout",
     "output_type": "stream",
     "text": [
      "\n",
      "--- Classification Report and Confusion Matrix ---\n"
     ]
    },
    {
     "name": "stderr",
     "output_type": "stream",
     "text": [
      "Generating predictions: 100%|██████████| 42/42 [00:19<00:00,  2.13it/s]"
     ]
    },
    {
     "name": "stdout",
     "output_type": "stream",
     "text": [
      "                              precision    recall  f1-score   support\n",
      "\n",
      "                       Apple     0.9565    0.7097    0.8148        31\n",
      "                   Artichoke     1.0000    1.0000    1.0000        27\n",
      "                    Balaleet     1.0000    0.9231    0.9600        13\n",
      "                       Bamya     0.7600    1.0000    0.8636        19\n",
      "                      Banana     1.0000    1.0000    1.0000        31\n",
      "                    Basbousa     0.9333    0.9333    0.9333        15\n",
      "                 Bell pepper     1.0000    0.9677    0.9836        31\n",
      "                    Broccoli     0.9394    1.0000    0.9688        31\n",
      "                      Burger     0.9667    0.9355    0.9508        31\n",
      "                      Carrot     0.9091    0.9677    0.9375        31\n",
      "                        Crab     0.9062    0.9355    0.9206        31\n",
      "                    Cucumber     0.9259    0.9615    0.9434        26\n",
      "                Dajaj_Mahshi     0.6667    0.8000    0.7273         5\n",
      "           Dates_with_tahini     0.9000    1.0000    0.9474         9\n",
      "                    Fattoush     0.8000    1.0000    0.8889        16\n",
      "                       Fries     0.9655    0.9032    0.9333        31\n",
      "                 Gers_Ogaily     0.7143    1.0000    0.8333        10\n",
      "                       Grape     0.8378    1.0000    0.9118        31\n",
      "                      Harees     0.6000    0.5455    0.5714        11\n",
      "                      Hummus     0.9375    1.0000    0.9677        15\n",
      "                     Jireesh     0.6667    0.4000    0.5000         5\n",
      "                       Kebab     0.9167    0.7333    0.8148        15\n",
      "                       Kubba     0.8750    0.8750    0.8750         8\n",
      "                      Labneh     0.9167    0.7857    0.8462        14\n",
      "                 Lentil_soup     0.5769    1.0000    0.7317        15\n",
      "                 Lentil_stew     0.6250    0.3571    0.4545        14\n",
      "                     Lobster     0.8857    1.0000    0.9394        31\n",
      "                    Luqaimat     0.9333    0.9333    0.9333        15\n",
      "               Majboos_Dajaj     0.0000    0.0000    0.0000         4\n",
      "           Mallooba(Maqluba)     1.0000    0.8182    0.9000        11\n",
      "                  Modas_rice     1.0000    0.5333    0.6957        15\n",
      "                    Molokhia     1.0000    0.7857    0.8800        14\n",
      "                   Muhammara     0.9286    0.9286    0.9286        14\n",
      "                    Murabyan     0.7143    0.6250    0.6667         8\n",
      "            Musakhan_Chicken     0.9167    1.0000    0.9565        11\n",
      "              Orange (fruit)     0.9667    0.9355    0.9508        31\n",
      "                      Oyster     0.9655    0.9032    0.9333        31\n",
      "                       Peach     0.8286    0.9355    0.8788        31\n",
      "                        Pear     0.8571    0.9474    0.9000        19\n",
      "                   Pineapple     1.0000    1.0000    1.0000        31\n",
      "                       Pizza     0.8333    0.8065    0.8197        31\n",
      "            Plain_white_rice     1.0000    1.0000    1.0000        14\n",
      "                 Pomegranate     0.9688    1.0000    0.9841        31\n",
      "                      Potato     1.0000    0.9444    0.9714        18\n",
      "                     Pumpkin     0.9667    0.9355    0.9508        31\n",
      "                      Radish     1.0000    0.7826    0.8780        23\n",
      "Red_tea_with_mint_or_saffron     0.8571    0.7500    0.8000         8\n",
      "                     Saffron     1.0000    1.0000    1.0000         8\n",
      "                      Samosa     1.0000    0.9412    0.9697        17\n",
      "                    Sandwich     0.9062    0.9355    0.9206        31\n",
      "                      Shrimp     1.0000    0.8387    0.9123        31\n",
      "                  Strawberry     0.9677    0.9677    0.9677        31\n",
      "                    Tabouleh     0.9375    1.0000    0.9677        15\n",
      "                        Taco     0.8529    0.9355    0.8923        31\n",
      "                      Tahini     0.9000    0.7500    0.8182        12\n",
      "              Tamarind_juice     0.8182    0.9000    0.8571        10\n",
      "            Tamria(Tamriyeh)     0.8571    1.0000    0.9231         6\n",
      "               Tea_with_milk     0.8947    1.0000    0.9444        17\n",
      "                  Warak_Enab     1.0000    0.9286    0.9630        14\n",
      "                  Watermelon     0.9677    0.9677    0.9677        31\n",
      "                      Zaatar     1.0000    1.0000    1.0000        15\n",
      "                       bread     1.0000    0.9231    0.9600        78\n",
      "                    khabeesa     0.5000    0.6000    0.5455         5\n",
      "                 laban_drink     0.9000    1.0000    0.9474         9\n",
      "                      om_ali     0.9231    0.9231    0.9231        13\n",
      "              rice_with_meat     0.6429    0.9000    0.7500        20\n",
      "\n",
      "                    accuracy                         0.9099      1332\n",
      "                   macro avg     0.8786    0.8759    0.8709      1332\n",
      "                weighted avg     0.9152    0.9099    0.9075      1332\n",
      "\n"
     ]
    },
    {
     "name": "stderr",
     "output_type": "stream",
     "text": [
      "\n",
      "c:\\Work\\Garbage_classification\\food-recognition\\food-recognition\\env\\Lib\\site-packages\\sklearn\\metrics\\_classification.py:1565: UndefinedMetricWarning: Precision is ill-defined and being set to 0.0 in labels with no predicted samples. Use `zero_division` parameter to control this behavior.\n",
      "  _warn_prf(average, modifier, f\"{metric.capitalize()} is\", len(result))\n",
      "c:\\Work\\Garbage_classification\\food-recognition\\food-recognition\\env\\Lib\\site-packages\\sklearn\\metrics\\_classification.py:1565: UndefinedMetricWarning: Precision is ill-defined and being set to 0.0 in labels with no predicted samples. Use `zero_division` parameter to control this behavior.\n",
      "  _warn_prf(average, modifier, f\"{metric.capitalize()} is\", len(result))\n",
      "c:\\Work\\Garbage_classification\\food-recognition\\food-recognition\\env\\Lib\\site-packages\\sklearn\\metrics\\_classification.py:1565: UndefinedMetricWarning: Precision is ill-defined and being set to 0.0 in labels with no predicted samples. Use `zero_division` parameter to control this behavior.\n",
      "  _warn_prf(average, modifier, f\"{metric.capitalize()} is\", len(result))\n"
     ]
    }
   ],
   "source": [
    "from sklearn.metrics import classification_report, confusion_matrix\n",
    "import seaborn as sns\n",
    "import numpy as np\n",
    "\n",
    "# --- Classification Report and Confusion Matrix ---\n",
    "print(\"\\n--- Classification Report and Confusion Matrix ---\")\n",
    "\n",
    "# Put model in evaluation mode\n",
    "model.eval()\n",
    "\n",
    "# Lists to collect true and predicted labels\n",
    "all_preds = []\n",
    "all_labels = []\n",
    "\n",
    "with torch.no_grad():\n",
    "    for inputs, labels in tqdm(test_loader, desc=\"Generating predictions\"):\n",
    "        inputs = inputs.to(DEVICE)\n",
    "        labels = labels.to(DEVICE)\n",
    "\n",
    "        with autocast(\"cuda\"):\n",
    "            outputs = model(inputs)\n",
    "\n",
    "        _, preds = torch.max(outputs, 1)\n",
    "\n",
    "        all_preds.extend(preds.cpu().numpy())\n",
    "        all_labels.extend(labels.cpu().numpy())\n",
    "\n",
    "# Load class names\n",
    "class_names = [class_name for class_name, _ in sorted(train_dataset.class_to_idx.items(), key=lambda x: x[1])]\n",
    "\n",
    "# Classification report\n",
    "print(classification_report(all_labels, all_preds, target_names=class_names, digits=4))"
   ]
  },
  {
   "cell_type": "code",
   "execution_count": 7,
   "id": "830a4d4d",
   "metadata": {},
   "outputs": [
    {
     "name": "stderr",
     "output_type": "stream",
     "text": [
      "Generating predictions: 100%|██████████| 42/42 [00:16<00:00,  2.57it/s]\n"
     ]
    },
    {
     "data": {
      "image/png": "[encoded data removed]",
      "text/plain": [
       "<Figure size 2000x1600 with 2 Axes>"
      ]
     },
     "metadata": {},
     "output_type": "display_data"
    },
    {
     "name": "stdout",
     "output_type": "stream",
     "text": [
      "\n",
      "Misclassification Analysis:\n",
      "--------------------------------------------------------------------------------\n",
      "\n",
      "True Class: Apple\n",
      "  → Predicted as Peach: 4 times\n",
      "  → Predicted as Grape: 2 times\n",
      "  → Predicted as Pear: 2 times\n",
      "  → Predicted as Orange (fruit): 1 times\n",
      "\n",
      "True Class: Balaleet\n",
      "  → Predicted as Strawberry: 1 times\n",
      "\n",
      "True Class: Basbousa\n",
      "  → Predicted as Gers_Ogaily: 1 times\n",
      "\n",
      "True Class: Bell pepper\n",
      "  → Predicted as Cucumber: 1 times\n",
      "\n",
      "True Class: Burger\n",
      "  → Predicted as Taco: 1 times\n",
      "  → Predicted as Fries: 1 times\n",
      "\n",
      "True Class: Carrot\n",
      "  → Predicted as Broccoli: 1 times\n",
      "\n",
      "True Class: Crab\n",
      "  → Predicted as Lobster: 2 times\n",
      "\n",
      "True Class: Cucumber\n",
      "  → Predicted as Pear: 1 times\n",
      "\n",
      "True Class: Dajaj_Mahshi\n",
      "  → Predicted as Kebab: 1 times\n",
      "\n",
      "True Class: Fries\n",
      "  → Predicted as Pizza: 3 times\n",
      "\n",
      "True Class: Harees\n",
      "  → Predicted as khabeesa: 3 times\n",
      "  → Predicted as Jireesh: 1 times\n",
      "  → Predicted as Bamya: 1 times\n",
      "\n",
      "True Class: Jireesh\n",
      "  → Predicted as Muhammara: 1 times\n",
      "  → Predicted as Harees: 1 times\n",
      "  → Predicted as Bamya: 1 times\n",
      "\n",
      "True Class: Kebab\n",
      "  → Predicted as Fattoush: 2 times\n",
      "  → Predicted as Musakhan_Chicken: 1 times\n",
      "  → Predicted as rice_with_meat: 1 times\n",
      "\n",
      "True Class: Kubba\n",
      "  → Predicted as Pomegranate: 1 times\n",
      "\n",
      "True Class: Labneh\n",
      "  → Predicted as Fattoush: 1 times\n",
      "  → Predicted as Bamya: 1 times\n",
      "  → Predicted as laban_drink: 1 times\n",
      "\n",
      "True Class: Lentil_stew\n",
      "  → Predicted as Lentil_soup: 9 times\n",
      "\n",
      "True Class: Luqaimat\n",
      "  → Predicted as Kubba: 1 times\n",
      "\n",
      "True Class: Majboos_Dajaj\n",
      "  → Predicted as rice_with_meat: 3 times\n",
      "  → Predicted as Dajaj_Mahshi: 1 times\n",
      "\n",
      "True Class: Mallooba(Maqluba)\n",
      "  → Predicted as rice_with_meat: 2 times\n",
      "\n",
      "True Class: Modas_rice\n",
      "  → Predicted as Lentil_soup: 2 times\n",
      "  → Predicted as Lentil_stew: 2 times\n",
      "  → Predicted as rice_with_meat: 2 times\n",
      "  → Predicted as Tabouleh: 1 times\n",
      "\n",
      "True Class: Molokhia\n",
      "  → Predicted as Broccoli: 1 times\n",
      "  → Predicted as Tahini: 1 times\n",
      "  → Predicted as Oyster: 1 times\n",
      "\n",
      "True Class: Muhammara\n",
      "  → Predicted as Lentil_stew: 1 times\n",
      "\n",
      "True Class: Murabyan\n",
      "  → Predicted as rice_with_meat: 2 times\n",
      "  → Predicted as Bamya: 1 times\n",
      "\n",
      "True Class: Orange (fruit)\n",
      "  → Predicted as Apple: 1 times\n",
      "  → Predicted as Tamarind_juice: 1 times\n",
      "\n",
      "True Class: Oyster\n",
      "  → Predicted as Crab: 2 times\n",
      "  → Predicted as Bamya: 1 times\n",
      "\n",
      "True Class: Peach\n",
      "  → Predicted as Grape: 2 times\n",
      "\n",
      "True Class: Pear\n",
      "  → Predicted as Cucumber: 1 times\n",
      "\n",
      "True Class: Pizza\n",
      "  → Predicted as Taco: 3 times\n",
      "  → Predicted as Sandwich: 3 times\n",
      "\n",
      "True Class: Potato\n",
      "  → Predicted as Grape: 1 times\n",
      "\n",
      "True Class: Pumpkin\n",
      "  → Predicted as Watermelon: 1 times\n",
      "  → Predicted as Crab: 1 times\n",
      "\n",
      "True Class: Radish\n",
      "  → Predicted as Carrot: 3 times\n",
      "  → Predicted as Fattoush: 1 times\n",
      "  → Predicted as Grape: 1 times\n",
      "\n",
      "True Class: Red_tea_with_mint_or_saffron\n",
      "  → Predicted as Tea_with_milk: 1 times\n",
      "  → Predicted as Tamarind_juice: 1 times\n",
      "\n",
      "True Class: Samosa\n",
      "  → Predicted as Tamria(Tamriyeh): 1 times\n",
      "\n",
      "True Class: Sandwich\n",
      "  → Predicted as Burger: 1 times\n",
      "  → Predicted as Taco: 1 times\n",
      "\n",
      "True Class: Shrimp\n",
      "  → Predicted as Lobster: 2 times\n",
      "  → Predicted as Murabyan: 2 times\n",
      "  → Predicted as Bamya: 1 times\n",
      "\n",
      "True Class: Strawberry\n",
      "  → Predicted as Labneh: 1 times\n",
      "\n",
      "True Class: Taco\n",
      "  → Predicted as Pizza: 2 times\n",
      "\n",
      "True Class: Tahini\n",
      "  → Predicted as Hummus: 1 times\n",
      "  → Predicted as Tea_with_milk: 1 times\n",
      "  → Predicted as Harees: 1 times\n",
      "\n",
      "True Class: Tamarind_juice\n",
      "  → Predicted as Red_tea_with_mint_or_saffron: 1 times\n",
      "\n",
      "True Class: Warak_Enab\n",
      "  → Predicted as Dates_with_tahini: 1 times\n",
      "\n",
      "True Class: Watermelon\n",
      "  → Predicted as Peach: 1 times\n",
      "\n",
      "True Class: bread\n",
      "  → Predicted as Gers_Ogaily: 3 times\n",
      "  → Predicted as Pumpkin: 1 times\n",
      "  → Predicted as Peach: 1 times\n",
      "  → Predicted as Luqaimat: 1 times\n",
      "\n",
      "True Class: khabeesa\n",
      "  → Predicted as Basbousa: 1 times\n",
      "  → Predicted as Harees: 1 times\n",
      "\n",
      "True Class: om_ali\n",
      "  → Predicted as Harees: 1 times\n",
      "\n",
      "True Class: rice_with_meat\n",
      "  → Predicted as om_ali: 1 times\n",
      "  → Predicted as Dajaj_Mahshi: 1 times\n"
     ]
    }
   ],
   "source": [
    "import seaborn as sns\n",
    "import numpy as np\n",
    "import matplotlib.pyplot as plt\n",
    "from sklearn.metrics import confusion_matrix\n",
    "import pandas as pd\n",
    "\n",
    "def plot_confusion_matrix(y_true, y_pred, class_names, figure_size=(20, 16)):\n",
    "    \"\"\"\n",
    "    Create a better visualization of the confusion matrix.\n",
    "    \n",
    "    Args:\n",
    "        y_true: True labels\n",
    "        y_pred: Predicted labels\n",
    "        class_names: List of class names\n",
    "        figure_size: Size of the figure (width, height)\n",
    "    \"\"\"\n",
    "    # Compute confusion matrix\n",
    "    cm = confusion_matrix(y_true, y_pred)\n",
    "    \n",
    "    # Convert to percentage for better visualization\n",
    "    cm_percent = cm.astype('float') / cm.sum(axis=1)[:, np.newaxis] * 100\n",
    "    \n",
    "    # Create figure\n",
    "    plt.figure(figsize=figure_size)\n",
    "    \n",
    "    # Create heatmap\n",
    "    sns.heatmap(cm_percent, \n",
    "                annot=True,\n",
    "                fmt='.1f' if cm_percent.max() < 100 else '.0f',\n",
    "                cmap='YlOrRd',\n",
    "                xticklabels=class_names,\n",
    "                yticklabels=class_names,\n",
    "                annot_kws={'size': 8})\n",
    "    \n",
    "    # Rotate labels for better readability\n",
    "    plt.xticks(rotation=45, ha='right')\n",
    "    plt.yticks(rotation=45, ha='right')\n",
    "    \n",
    "    # Add labels and title\n",
    "    plt.xlabel('Predicted Label', fontsize=12, labelpad=10)\n",
    "    plt.ylabel('True Label', fontsize=12, labelpad=10)\n",
    "    plt.title('Confusion Matrix (Percentage)', fontsize=14, pad=20)\n",
    "    \n",
    "    # Add colorbar label\n",
    "    cbar = plt.gca().collections[0].colorbar\n",
    "    cbar.set_label('Percentage (%)', rotation=270, labelpad=15)\n",
    "    \n",
    "    # Adjust layout to prevent label cutoff\n",
    "    plt.tight_layout()\n",
    "    \n",
    "    # Save high-resolution figure\n",
    "    plt.savefig('confusion_matrix_enhanced.png', \n",
    "                dpi=300, \n",
    "                bbox_inches='tight')\n",
    "    plt.show()\n",
    "\n",
    "# Use the function with your existing code\n",
    "with torch.no_grad():\n",
    "    all_preds = []\n",
    "    all_labels = []\n",
    "    \n",
    "    for inputs, labels in tqdm(test_loader, desc=\"Generating predictions\"):\n",
    "        inputs = inputs.to(DEVICE)\n",
    "        labels = labels.to(DEVICE)\n",
    "        \n",
    "        with autocast(\"cuda\"):\n",
    "            outputs = model(inputs)\n",
    "        \n",
    "        _, preds = torch.max(outputs, 1)\n",
    "        \n",
    "        all_preds.extend(preds.cpu().numpy())\n",
    "        all_labels.extend(labels.cpu().numpy())\n",
    "\n",
    "# Get class names\n",
    "class_names = [class_name for class_name, _ in sorted(train_dataset.class_to_idx.items(), key=lambda x: x[1])]\n",
    "\n",
    "# Plot enhanced confusion matrix\n",
    "plot_confusion_matrix(all_labels, all_preds, class_names)\n",
    "\n",
    "# Additionally, you can create a detailed analysis of misclassifications\n",
    "def analyze_misclassifications(y_true, y_pred, class_names):\n",
    "    \"\"\"\n",
    "    Create a detailed analysis of misclassifications.\n",
    "    \"\"\"\n",
    "    misclassification_stats = {}\n",
    "    \n",
    "    for true_label, pred_label in zip(y_true, y_pred):\n",
    "        if true_label != pred_label:\n",
    "            true_class = class_names[true_label]\n",
    "            pred_class = class_names[pred_label]\n",
    "            \n",
    "            if true_class not in misclassification_stats:\n",
    "                misclassification_stats[true_class] = {}\n",
    "            \n",
    "            if pred_class not in misclassification_stats[true_class]:\n",
    "                misclassification_stats[true_class][pred_class] = 0\n",
    "                \n",
    "            misclassification_stats[true_class][pred_class] += 1\n",
    "    \n",
    "    # Print the analysis\n",
    "    print(\"\\nMisclassification Analysis:\")\n",
    "    print(\"-\" * 80)\n",
    "    for true_class in sorted(misclassification_stats.keys()):\n",
    "        print(f\"\\nTrue Class: {true_class}\")\n",
    "        sorted_mistakes = sorted(misclassification_stats[true_class].items(), \n",
    "                               key=lambda x: x[1], \n",
    "                               reverse=True)\n",
    "        for pred_class, count in sorted_mistakes[:5]:  # Show top 5 misclassifications\n",
    "            print(f\"  → Predicted as {pred_class}: {count} times\")\n",
    "    \n",
    "    return misclassification_stats\n",
    "\n",
    "# Run misclassification analysis\n",
    "misclassification_stats = analyze_misclassifications(all_labels, all_preds, class_names)"
   ]
  }
 ],
 "metadata": {
  "kernelspec": {
   "display_name": "env",
   "language": "python",
   "name": "python3"
  },
  "language_info": {
   "codemirror_mode": {
    "name": "ipython",
    "version": 3
   },
   "file_extension": ".py",
   "mimetype": "text/x-python",
   "name": "python",
   "nbconvert_exporter": "python",
   "pygments_lexer": "ipython3",
   "version": "3.11.9"
  }
 },
 "nbformat": 4,
 "nbformat_minor": 5
}
